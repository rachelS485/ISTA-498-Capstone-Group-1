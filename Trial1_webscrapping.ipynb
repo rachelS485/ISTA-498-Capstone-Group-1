{
 "cells": [
  {
   "cell_type": "code",
   "execution_count": 263,
   "id": "54fdbd35",
   "metadata": {},
   "outputs": [],
   "source": [
    "from selenium import webdriver \n",
    "from selenium.webdriver.common.by import By\n",
    "from selenium.webdriver.support.ui import WebDriverWait\n",
    "from selenium.webdriver.support import expected_conditions as EC"
   ]
  },
  {
   "cell_type": "code",
   "execution_count": 264,
   "id": "3ed02e10",
   "metadata": {},
   "outputs": [],
   "source": [
    "driver = webdriver.Chrome()"
   ]
  },
  {
   "cell_type": "markdown",
   "id": "a2d0ec1c",
   "metadata": {},
   "source": [
    "##List \n",
    "\"\"\"\n",
    "The following lists will help us make one dataset that includes all the courses \n",
    "the other ones would be assorted by groups that they are in. \n",
    "\"\"\"\n",
    "\n",
    "courses =[]\n",
    "courses_desc = []\n",
    "core = []\n",
    "emphasis_ds = []\n",
    "emphasis_iit= []\n",
    "computational_arts_media = [] \n",
    "society = []\n",
    "reseach_method =[]\n",
    "engangement = []"
   ]
  },
  {
   "cell_type": "markdown",
   "id": "abe733c7",
   "metadata": {},
   "source": [
    "# Course Major Courses"
   ]
  },
  {
   "cell_type": "markdown",
   "id": "4d7a1179",
   "metadata": {},
   "source": [
    "## ISTA 100"
   ]
  },
  {
   "cell_type": "code",
   "execution_count": 372,
   "id": "3bca06aa",
   "metadata": {},
   "outputs": [],
   "source": [
    "#Accessing Website\n",
    "courses = \"https://catalog.arizona.edu/courses?subjectCode=ISTA&career=Undergraduate&cq=&page=1&sortBy=subjectCode\"\n",
    "driver.get(courses)"
   ]
  },
  {
   "cell_type": "code",
   "execution_count": 374,
   "id": "e7221409",
   "metadata": {},
   "outputs": [],
   "source": [
    "#Pressing the course button \n",
    "\n",
    "course_btn_path = ' //*[@id=\"courses-list\"]/div/div[2]/div[1]/button[2]'\n",
    "course_btn = driver.find_element(By.XPATH, course_btn_path)\n",
    "course_btn.click()"
   ]
  },
  {
   "cell_type": "code",
   "execution_count": 375,
   "id": "bcaa80c7",
   "metadata": {},
   "outputs": [
    {
     "name": "stdout",
     "output_type": "stream",
     "text": [
      "ISTA100 - Great Ideas of the Information Age\n",
      "Important ideas and applications of information science and technology in the sciences, humanities and arts. Information, entropy, coding; grammar and parsing; syntax and semantics; networks and relational representations; decision theory, game theory; and other great ideas form the intellectual motifs of the Information Age and are explored through applications such as robotic soccer, chess-playing programs, web search, population genetics among others.\n"
     ]
    }
   ],
   "source": [
    "#Getting the course name, printing it (to make sure it works), appending to the respective list  \n",
    "\n",
    "course_name= driver.find_element(By.XPATH,'//*[@id=\"main-content\"]/main/aside[2]/div/div/div/div[3]/h1')\n",
    "#The for loop will print the name of the course name.\n",
    "print(course_name.text)\n",
    "\n",
    "#Getting the course description, printing it (to make sure it works), appending to the respective list  \n",
    "course_desc= driver.find_elements(By.XPATH,'//*[@id=\"main-content\"]/main/aside[2]/div/div/div/div[3]/div[3]/div/div[1]/div/div/div')\n",
    "#The for loop will print the name of the course name.\n",
    "for desc in course_desc:\n",
    "    print(desc.text)"
   ]
  },
  {
   "cell_type": "markdown",
   "id": "fa3d0979",
   "metadata": {},
   "source": [
    "## ISTA 116 "
   ]
  },
  {
   "cell_type": "code",
   "execution_count": 376,
   "id": "9ec4c83c",
   "metadata": {},
   "outputs": [],
   "source": [
    "\n",
    "\"\"\"\n",
    "Acessing the website\n",
    "\"\"\"\n",
    "courses = \" https://catalog.arizona.edu/courses?subjectCode=ISTA&career=Undergraduate&cq=&page=1&sortBy=subjectCode\"\n",
    "driver.get(courses)"
   ]
  },
  {
   "cell_type": "code",
   "execution_count": 378,
   "id": "ba99ea92",
   "metadata": {},
   "outputs": [],
   "source": [
    "#Pressing the course button \n",
    "course_btn_path = ' //*[@id=\"courses-list\"]/div/div[2]/div[1]/button[13]'\n",
    "course_btn = driver.find_element(By.XPATH, course_btn_path)\n",
    "course_btn.click()"
   ]
  },
  {
   "cell_type": "code",
   "execution_count": 379,
   "id": "1cccfc47",
   "metadata": {},
   "outputs": [
    {
     "name": "stdout",
     "output_type": "stream",
     "text": [
      "ISTA116 - Statistical Foundations for the Information Age\n",
      "Understanding uncertainty and variation in modern data: data summarization and description, rules of counting and basic probability, data visualization, graphical data summaries, working with large data sets, prediction of stochastic outputs from quantitative inputs. Operations with statistical computer packages such as R.\n"
     ]
    }
   ],
   "source": [
    "#Getting the course name, printing it (to make sure it works), appending to the respective list  \n",
    "course_name= driver.find_elements(By.XPATH,'//*[@id=\"main-content\"]/main/aside[2]/div/div/div/div[3]/h1')\n",
    "#The for loop will print the name of the course name.\n",
    "for name in course_name:\n",
    "    print(name.text)\n",
    "    \n",
    "#Getting the course description, printing it (to make sure it works), appending to the respective list  \n",
    "\n",
    "course_desc= driver.find_elements(By.XPATH,'//*[@id=\"main-content\"]/main/aside[2]/div/div/div/div[3]/div[3]/div/div[1]/div/div/div')\n",
    "#The for loop will print the name of the course name.\n",
    "for desc in course_desc:\n",
    "    print(desc.text)    "
   ]
  },
  {
   "cell_type": "markdown",
   "id": "aeada4cd",
   "metadata": {},
   "source": [
    "##  ISTA 130 "
   ]
  },
  {
   "cell_type": "code",
   "execution_count": 380,
   "id": "e2cab0c3",
   "metadata": {},
   "outputs": [],
   "source": [
    "#Acessing the website\n",
    "courses = \"https://catalog.arizona.edu/courses?subjectCode=ISTA&career=Undergraduate&cq=&page=1&sortBy=subjectCode\"\n",
    "driver.get(courses)"
   ]
  },
  {
   "cell_type": "code",
   "execution_count": 382,
   "id": "e80c0180",
   "metadata": {},
   "outputs": [],
   "source": [
    "#Pressing the course button\n",
    "course_btn_path = ' //*[@id=\"courses-list\"]/div/div[2]/div[1]/button[3]'\n",
    "course_btn = driver.find_element(By.XPATH, course_btn_path)\n",
    "course_btn.click()"
   ]
  },
  {
   "cell_type": "code",
   "execution_count": 383,
   "id": "bfb64692",
   "metadata": {},
   "outputs": [
    {
     "name": "stdout",
     "output_type": "stream",
     "text": [
      "ISTA130 - Computational Thinking and Doing\n",
      "An introduction to computational techniques and using a modern programming language to solve current problems drawn from science, technology, and the arts. Topics include control structures, elementary data structures, and effective program design and implementation techniques. Weekly laboratory.\n"
     ]
    }
   ],
   "source": [
    "#Getting the course name, printing it (to make sure it works), appending to the respective list  \n",
    "course_name= driver.find_elements(By.XPATH,'//*[@id=\"main-content\"]/main/aside[2]/div/div/div/div[3]/h1')\n",
    "#The for loop will print the name of the course name.\n",
    "for name in course_name:\n",
    "    print(name.text)\n",
    "    \n",
    "#Getting the course description, printing it (to make sure it works), appending to the respective list  \n",
    "course_desc= driver.find_elements(By.XPATH,'//*[@id=\"main-content\"]/main/aside[2]/div/div/div/div[3]/div[3]/div/div[1]/div/div/div')\n",
    "#The for loop will print the name of the course name.\n",
    "for desc in course_desc:\n",
    "    print(desc.text)"
   ]
  },
  {
   "cell_type": "markdown",
   "id": "609fd303",
   "metadata": {},
   "source": [
    "## ISTA 131 "
   ]
  },
  {
   "cell_type": "code",
   "execution_count": 384,
   "id": "3a2bf3ca",
   "metadata": {},
   "outputs": [],
   "source": [
    "#Acessing the website\n",
    "courses = \"https://catalog.arizona.edu/courses?subjectCode=ISTA&career=Undergraduate&cq=&page=1&sortBy=subjectCode\"\n",
    "driver.get(courses)"
   ]
  },
  {
   "cell_type": "code",
   "execution_count": 386,
   "id": "f1c8fe7d",
   "metadata": {},
   "outputs": [],
   "source": [
    "#Pressing the course button \n",
    "course_btn_path = ' //*[@id=\"courses-list\"]/div/div[2]/div[1]/button[20]'\n",
    "course_btn = driver.find_element(By.XPATH, course_btn_path)\n",
    "course_btn.click()"
   ]
  },
  {
   "cell_type": "code",
   "execution_count": 387,
   "id": "b240184b",
   "metadata": {},
   "outputs": [
    {
     "name": "stdout",
     "output_type": "stream",
     "text": [
      "ISTA131 - Dealing with Data\n",
      "At the core of Information Science lies the digital data that is the object of study. This course aims to introduce the tools, techniques, and issues involved with the handling of this data: where it comes from, how to store and retrieve it, how to extract knowledge from the data via analysis, and the social, ethical, and legal issues involved in its use. Throughout the course, students will be given hands-on experience with actual datasets from a variety of sources including social media and citizen science projects, as well as experience with common tools for analysis and visualization. Students will also examine topical case studies involving legal and ethical issues surrounding data.\n"
     ]
    }
   ],
   "source": [
    "#Getting the course name, printing it (to make sure it works), appending to the respective list  \n",
    "course_name= driver.find_elements(By.XPATH,'//*[@id=\"main-content\"]/main/aside[2]/div/div/div/div[3]/h1')\n",
    "#The for loop will print the name of the course name.\n",
    "for name in course_name:\n",
    "    print(name.text)\n",
    "    \n",
    "    \n",
    "#Getting the course description, printing it (to make sure it works), appending to the respective list  \n",
    "\n",
    "course_desc= driver.find_elements(By.XPATH,'//*[@id=\"main-content\"]/main/aside[2]/div/div/div/div[3]/div[3]/div/div[1]/div/div/div')\n",
    "#The for loop will print the name of the course name.\n",
    "for desc in course_desc:\n",
    "    print(desc.text)"
   ]
  },
  {
   "cell_type": "markdown",
   "id": "600729a7",
   "metadata": {},
   "source": [
    "## ISTA 161 "
   ]
  },
  {
   "cell_type": "code",
   "execution_count": 388,
   "id": "5d3a5ab6",
   "metadata": {},
   "outputs": [],
   "source": [
    "#Acessing the website\n",
    "\n",
    "courses = \"https://catalog.arizona.edu/courses?subjectCode=ISTA&career=Undergraduate&cq=&page=1&sortBy=subjectCode\"\n",
    "driver.get(courses)\n"
   ]
  },
  {
   "cell_type": "code",
   "execution_count": 391,
   "id": "5ab669e0",
   "metadata": {},
   "outputs": [],
   "source": [
    "#Pressing the course button\n",
    "course_btn_path = ' //*[@id=\"courses-list\"]/div/div[2]/div[1]/button[5]'\n",
    "course_btn = driver.find_element(By.XPATH, course_btn_path)\n",
    "course_btn.click()"
   ]
  },
  {
   "cell_type": "code",
   "execution_count": 392,
   "id": "ccea1395",
   "metadata": {},
   "outputs": [
    {
     "name": "stdout",
     "output_type": "stream",
     "text": [
      "ISTA161 - Ethics in a Digital World\n",
      "This course explores the social, legal, and cultural fallout from the exponential explosion in communication, storage, and increasing uses of data and data production. In this class, we emphasize the opposing potentials of information technologies to make knowledge widely available and to distort and restrict our perceptions. In a world of rapid technological change, topics include (but are not limited to): eavesdropping and secret communications, privacy; Internet censorship and filtering, cyberwarfare, computer ethics and ethical behavior, copyright protection and peer-to-peer networks, broadcast and telecommunications regulation, including net neutrality, data leakage, and the power and control of search engines.\n"
     ]
    }
   ],
   "source": [
    "#Getting the course name, printing it (to make sure it works), appending to the respective list  \n",
    "course_name= driver.find_elements(By.XPATH,'//*[@id=\"main-content\"]/main/aside[2]/div/div/div/div[3]/h1')\n",
    "#The for loop will print the name of the course name.\n",
    "for name in course_name:\n",
    "    print(name.text)\n",
    "    \n",
    "#Getting the course description, printing it (to make sure it works), appending to the respective list  \n",
    "course_desc= driver.find_elements(By.XPATH,'//*[@id=\"main-content\"]/main/aside[2]/div/div/div/div[3]/div[3]/div/div[1]/div/div/div')\n",
    "#The for loop will print the name of the course name.\n",
    "for desc in course_desc:\n",
    "    print(desc.text)"
   ]
  },
  {
   "cell_type": "markdown",
   "id": "aa670641",
   "metadata": {},
   "source": [
    "## Emphasis Area Courses : Data Science "
   ]
  },
  {
   "cell_type": "markdown",
   "id": "ae1fdc55",
   "metadata": {},
   "source": [
    "## ESOC 414 "
   ]
  },
  {
   "cell_type": "code",
   "execution_count": 397,
   "id": "7df8d2fa",
   "metadata": {},
   "outputs": [
    {
     "ename": "WebDriverException",
     "evalue": "Message: disconnected: not connected to DevTools\n  (failed to check if window was closed: disconnected: not connected to DevTools)\n  (Session info: chrome=122.0.6261.112)\nStacktrace:\n0   chromedriver                        0x00000001024e8508 chromedriver + 3966216\n1   chromedriver                        0x00000001024e0a94 chromedriver + 3934868\n2   chromedriver                        0x0000000102163da0 chromedriver + 277920\n3   chromedriver                        0x000000010214cc74 chromedriver + 183412\n4   chromedriver                        0x000000010214cba0 chromedriver + 183200\n5   chromedriver                        0x00000001021de320 chromedriver + 779040\n6   chromedriver                        0x000000010219afb0 chromedriver + 503728\n7   chromedriver                        0x000000010219ba28 chromedriver + 506408\n8   chromedriver                        0x00000001024ad6f0 chromedriver + 3725040\n9   chromedriver                        0x00000001024b1be4 chromedriver + 3742692\n10  chromedriver                        0x00000001024961d8 chromedriver + 3629528\n11  chromedriver                        0x00000001024b26e0 chromedriver + 3745504\n12  chromedriver                        0x0000000102489550 chromedriver + 3577168\n13  chromedriver                        0x00000001024d0f40 chromedriver + 3870528\n14  chromedriver                        0x00000001024d10e4 chromedriver + 3870948\n15  chromedriver                        0x00000001024e0704 chromedriver + 3933956\n16  libsystem_pthread.dylib             0x000000018e29e034 _pthread_start + 136\n17  libsystem_pthread.dylib             0x000000018e298e3c thread_start + 8\n",
     "output_type": "error",
     "traceback": [
      "\u001b[0;31m---------------------------------------------------------------------------\u001b[0m",
      "\u001b[0;31mWebDriverException\u001b[0m                        Traceback (most recent call last)",
      "Input \u001b[0;32mIn [397]\u001b[0m, in \u001b[0;36m<cell line: 3>\u001b[0;34m()\u001b[0m\n\u001b[1;32m      1\u001b[0m \u001b[38;5;66;03m#Accessing \u001b[39;00m\n\u001b[1;32m      2\u001b[0m courses \u001b[38;5;241m=\u001b[39m \u001b[38;5;124m\"\u001b[39m\u001b[38;5;124mhttps://catalog.arizona.edu/courses?subjectCode=ESOC&career=Undergraduate&cq=esoc\u001b[39m\u001b[38;5;124m%\u001b[39m\u001b[38;5;124m20414&sortBy=subjectCode&page=1\u001b[39m\u001b[38;5;124m\"\u001b[39m\n\u001b[0;32m----> 3\u001b[0m \u001b[43mdriver\u001b[49m\u001b[38;5;241;43m.\u001b[39;49m\u001b[43mget\u001b[49m\u001b[43m(\u001b[49m\u001b[43mcourses\u001b[49m\u001b[43m)\u001b[49m\n",
      "File \u001b[0;32m~/opt/anaconda3/lib/python3.9/site-packages/selenium/webdriver/remote/webdriver.py:356\u001b[0m, in \u001b[0;36mWebDriver.get\u001b[0;34m(self, url)\u001b[0m\n\u001b[1;32m    354\u001b[0m \u001b[38;5;28;01mdef\u001b[39;00m \u001b[38;5;21mget\u001b[39m(\u001b[38;5;28mself\u001b[39m, url: \u001b[38;5;28mstr\u001b[39m) \u001b[38;5;241m-\u001b[39m\u001b[38;5;241m>\u001b[39m \u001b[38;5;28;01mNone\u001b[39;00m:\n\u001b[1;32m    355\u001b[0m     \u001b[38;5;124;03m\"\"\"Loads a web page in the current browser session.\"\"\"\u001b[39;00m\n\u001b[0;32m--> 356\u001b[0m     \u001b[38;5;28;43mself\u001b[39;49m\u001b[38;5;241;43m.\u001b[39;49m\u001b[43mexecute\u001b[49m\u001b[43m(\u001b[49m\u001b[43mCommand\u001b[49m\u001b[38;5;241;43m.\u001b[39;49m\u001b[43mGET\u001b[49m\u001b[43m,\u001b[49m\u001b[43m \u001b[49m\u001b[43m{\u001b[49m\u001b[38;5;124;43m\"\u001b[39;49m\u001b[38;5;124;43murl\u001b[39;49m\u001b[38;5;124;43m\"\u001b[39;49m\u001b[43m:\u001b[49m\u001b[43m \u001b[49m\u001b[43murl\u001b[49m\u001b[43m}\u001b[49m\u001b[43m)\u001b[49m\n",
      "File \u001b[0;32m~/opt/anaconda3/lib/python3.9/site-packages/selenium/webdriver/remote/webdriver.py:347\u001b[0m, in \u001b[0;36mWebDriver.execute\u001b[0;34m(self, driver_command, params)\u001b[0m\n\u001b[1;32m    345\u001b[0m response \u001b[38;5;241m=\u001b[39m \u001b[38;5;28mself\u001b[39m\u001b[38;5;241m.\u001b[39mcommand_executor\u001b[38;5;241m.\u001b[39mexecute(driver_command, params)\n\u001b[1;32m    346\u001b[0m \u001b[38;5;28;01mif\u001b[39;00m response:\n\u001b[0;32m--> 347\u001b[0m     \u001b[38;5;28;43mself\u001b[39;49m\u001b[38;5;241;43m.\u001b[39;49m\u001b[43merror_handler\u001b[49m\u001b[38;5;241;43m.\u001b[39;49m\u001b[43mcheck_response\u001b[49m\u001b[43m(\u001b[49m\u001b[43mresponse\u001b[49m\u001b[43m)\u001b[49m\n\u001b[1;32m    348\u001b[0m     response[\u001b[38;5;124m\"\u001b[39m\u001b[38;5;124mvalue\u001b[39m\u001b[38;5;124m\"\u001b[39m] \u001b[38;5;241m=\u001b[39m \u001b[38;5;28mself\u001b[39m\u001b[38;5;241m.\u001b[39m_unwrap_value(response\u001b[38;5;241m.\u001b[39mget(\u001b[38;5;124m\"\u001b[39m\u001b[38;5;124mvalue\u001b[39m\u001b[38;5;124m\"\u001b[39m, \u001b[38;5;28;01mNone\u001b[39;00m))\n\u001b[1;32m    349\u001b[0m     \u001b[38;5;28;01mreturn\u001b[39;00m response\n",
      "File \u001b[0;32m~/opt/anaconda3/lib/python3.9/site-packages/selenium/webdriver/remote/errorhandler.py:229\u001b[0m, in \u001b[0;36mErrorHandler.check_response\u001b[0;34m(self, response)\u001b[0m\n\u001b[1;32m    227\u001b[0m         alert_text \u001b[38;5;241m=\u001b[39m value[\u001b[38;5;124m\"\u001b[39m\u001b[38;5;124malert\u001b[39m\u001b[38;5;124m\"\u001b[39m]\u001b[38;5;241m.\u001b[39mget(\u001b[38;5;124m\"\u001b[39m\u001b[38;5;124mtext\u001b[39m\u001b[38;5;124m\"\u001b[39m)\n\u001b[1;32m    228\u001b[0m     \u001b[38;5;28;01mraise\u001b[39;00m exception_class(message, screen, stacktrace, alert_text)  \u001b[38;5;66;03m# type: ignore[call-arg]  # mypy is not smart enough here\u001b[39;00m\n\u001b[0;32m--> 229\u001b[0m \u001b[38;5;28;01mraise\u001b[39;00m exception_class(message, screen, stacktrace)\n",
      "\u001b[0;31mWebDriverException\u001b[0m: Message: disconnected: not connected to DevTools\n  (failed to check if window was closed: disconnected: not connected to DevTools)\n  (Session info: chrome=122.0.6261.112)\nStacktrace:\n0   chromedriver                        0x00000001024e8508 chromedriver + 3966216\n1   chromedriver                        0x00000001024e0a94 chromedriver + 3934868\n2   chromedriver                        0x0000000102163da0 chromedriver + 277920\n3   chromedriver                        0x000000010214cc74 chromedriver + 183412\n4   chromedriver                        0x000000010214cba0 chromedriver + 183200\n5   chromedriver                        0x00000001021de320 chromedriver + 779040\n6   chromedriver                        0x000000010219afb0 chromedriver + 503728\n7   chromedriver                        0x000000010219ba28 chromedriver + 506408\n8   chromedriver                        0x00000001024ad6f0 chromedriver + 3725040\n9   chromedriver                        0x00000001024b1be4 chromedriver + 3742692\n10  chromedriver                        0x00000001024961d8 chromedriver + 3629528\n11  chromedriver                        0x00000001024b26e0 chromedriver + 3745504\n12  chromedriver                        0x0000000102489550 chromedriver + 3577168\n13  chromedriver                        0x00000001024d0f40 chromedriver + 3870528\n14  chromedriver                        0x00000001024d10e4 chromedriver + 3870948\n15  chromedriver                        0x00000001024e0704 chromedriver + 3933956\n16  libsystem_pthread.dylib             0x000000018e29e034 _pthread_start + 136\n17  libsystem_pthread.dylib             0x000000018e298e3c thread_start + 8\n"
     ]
    }
   ],
   "source": [
    "#Accessing \n",
    "courses = \"https://catalog.arizona.edu/courses?subjectCode=ESOC&career=Undergraduate&cq=esoc%20414&sortBy=subjectCode&page=1\"\n",
    "driver.get(courses)"
   ]
  },
  {
   "cell_type": "code",
   "execution_count": 396,
   "id": "941bcaef",
   "metadata": {},
   "outputs": [
    {
     "name": "stdout",
     "output_type": "stream",
     "text": [
      "ESOC414 - Computational Social Science\n",
      "This course will introduce you to the burgeoning methodological subfield called computational social science: An evolving bundle of computationally sophisticated techniques that are increasingly used to answer research questions in the social sciences. The goal of the course is for you to learn how to produce your own computational social science research project aimed at a scholarly outlet. The course will survey the latest published research and train you in research design, methods, and techniques in computational social science. This might include topics such as Big Data, data visualization, social network analysis, agent-based modeling, and natural language processing, as well as identifying and developing variables, mechanisms, and research questions motivated by social science research. The course will also delve into the growing ethical challenges and considerations associated with computational social science research. The course is set up to welcome people from many different backgrounds, in particular those with or without prior exposure to programming, statistics, or the social sciences.\n"
     ]
    }
   ],
   "source": [
    "#Pressing the course button\n",
    "course_btn_path = '//*[@id=\"courses-list\"]/div/div[2]/div/button'\n",
    "course_btn = driver.find_element(By.XPATH, course_btn_path)\n",
    "course_btn.click()\n",
    "\n",
    "#Getting the course name, printing it (to make sure it works), appending to the respective list  \n",
    "course_name= driver.find_elements(By.XPATH,'//*[@id=\"main-content\"]/main/aside[2]/div/div/div/div[3]/h1')\n",
    "#The for loop will print the name of the course name.\n",
    "for name in course_name:\n",
    "    print(name.text)\n",
    "    \n",
    "#Getting the course description, printing it (to make sure it works), appending to the respective list  \n",
    "course_desc= driver.find_elements(By.XPATH,'//*[@id=\"main-content\"]/main/aside[2]/div/div/div/div[3]/div[3]/div/div[1]/div/div/div')\n",
    "#The for loop will print the name of the course name.\n",
    "for desc in course_desc:\n",
    "    print(desc.text)\n"
   ]
  },
  {
   "cell_type": "code",
   "execution_count": 314,
   "id": "3b24baec",
   "metadata": {},
   "outputs": [],
   "source": [
    "## ISTA 311"
   ]
  },
  {
   "cell_type": "code",
   "execution_count": 315,
   "id": "d035886b",
   "metadata": {},
   "outputs": [],
   "source": [
    "## ISTA 320 "
   ]
  },
  {
   "cell_type": "code",
   "execution_count": 316,
   "id": "9917da7c",
   "metadata": {},
   "outputs": [],
   "source": [
    "## ISTA 321 \n"
   ]
  },
  {
   "cell_type": "code",
   "execution_count": 317,
   "id": "4a1a3d8c",
   "metadata": {},
   "outputs": [],
   "source": [
    "## ISTA 322"
   ]
  },
  {
   "cell_type": "code",
   "execution_count": 318,
   "id": "28f3acd2",
   "metadata": {},
   "outputs": [],
   "source": [
    "## ISTA 331"
   ]
  },
  {
   "cell_type": "code",
   "execution_count": 319,
   "id": "8a0775a8",
   "metadata": {},
   "outputs": [],
   "source": [
    "## ISTA 350\n"
   ]
  },
  {
   "cell_type": "code",
   "execution_count": 320,
   "id": "3469b98f",
   "metadata": {},
   "outputs": [],
   "source": [
    "## ISTA 355\n"
   ]
  },
  {
   "cell_type": "markdown",
   "id": "803a22ff",
   "metadata": {},
   "source": [
    "## ISTA 410\n"
   ]
  },
  {
   "cell_type": "code",
   "execution_count": 328,
   "id": "cf6b85cf",
   "metadata": {},
   "outputs": [],
   "source": [
    "#Acessing the website\n",
    "\n",
    "courses = \"https://catalog.arizona.edu/courses?subjectCode=ISTA&career=Undergraduate&cq=&page=1&sortBy=subjectCode\"\n",
    "driver.get(courses)\n"
   ]
  },
  {
   "cell_type": "code",
   "execution_count": 329,
   "id": "f9588391",
   "metadata": {},
   "outputs": [],
   "source": [
    "#Pressing the course button\n",
    "course_btn_path = ' //*[@id=\"courses-list\"]/div/div[2]/div[1]/button[16]'\n",
    "course_btn = driver.find_element(By.XPATH, course_btn_path)\n",
    "course_btn.click()"
   ]
  },
  {
   "cell_type": "code",
   "execution_count": 330,
   "id": "b4d68743",
   "metadata": {},
   "outputs": [
    {
     "name": "stdout",
     "output_type": "stream",
     "text": [
      "ISTA410 - Bayesian Modeling and Inference\n",
      "Bayesian modeling and inference is a powerful modern approach to representing the statistics of the world, reasoning about the world in the face of uncertainty, and learning about it from data. It cleanly separates the notions of representation, reasoning, and learning. It provides a principled framework for combining multiple source of information such as prior knowledge about the world with evidence about a particular case in observed data. This course will provide a solid introduction to the methodology and associated techniques, and show how they are applied in diverse domains ranging from computer vision to molecular biology to astronomy.\n"
     ]
    }
   ],
   "source": [
    "#Getting the course name, printing it (to make sure it works), appending to the respective list  \n",
    "course_name= driver.find_elements(By.XPATH,'//*[@id=\"main-content\"]/main/aside[2]/div/div/div/div[3]/h1')\n",
    "#The for loop will print the name of the course name.\n",
    "for name in course_name:\n",
    "    print(name.text)\n",
    "    \n",
    "#Getting the course description, printing it (to make sure it works), appending to the respective list  \n",
    "course_desc= driver.find_elements(By.XPATH,'//*[@id=\"main-content\"]/main/aside[2]/div/div/div/div[3]/div[3]/div/div[1]/div/div/div')\n",
    "#The for loop will print the name of the course name.\n",
    "for desc in course_desc:\n",
    "    print(desc.text)\n",
    "\n"
   ]
  },
  {
   "cell_type": "markdown",
   "id": "850afd07",
   "metadata": {},
   "source": [
    "## ISTA 421"
   ]
  },
  {
   "cell_type": "code",
   "execution_count": 352,
   "id": "88693758",
   "metadata": {},
   "outputs": [],
   "source": [
    "#Acessing the website\n",
    "courses= \"https://catalog.arizona.edu/courses?subjectCode=ISTA&career=Undergraduate&cq=&page=1&sortBy=subjectCode\"\n",
    "driver.get(courses)\n"
   ]
  },
  {
   "cell_type": "code",
   "execution_count": 353,
   "id": "0f289147",
   "metadata": {},
   "outputs": [],
   "source": [
    "#Pressing the course button\n",
    "course_btn_path = '//*[@id=\"courses-list\"]/div/div[2]/div[1]/button[19]'\n",
    "course_btn = driver.find_element(By.XPATH, course_btn_path)\n",
    "course_btn.click()"
   ]
  },
  {
   "cell_type": "code",
   "execution_count": 354,
   "id": "3a39821d",
   "metadata": {},
   "outputs": [
    {
     "name": "stdout",
     "output_type": "stream",
     "text": [
      "ISTA421 - Introduction to Machine Learning\n",
      "Machine learning describes algorithms which can modify their internal parameters (i.e., \\\"learn\\\") to recognize patterns and make decisions based on examples or through interaction with the environment. This course will introduce the fundamentals of machine learning, will describe how to implement several practical methods for pattern recognition, feature selection, clustering, and decision making for reward maximization, and will provide a foundation for the development of new machine learning algorithms.\n"
     ]
    }
   ],
   "source": [
    "#Getting the course name, printing it (to make sure it works), appending to the respective list  \n",
    "course_name= driver.find_elements(By.XPATH,'//*[@id=\"main-content\"]/main/aside[2]/div/div/div/div[3]/h1')\n",
    "#The for loop will print the name of the course name.\n",
    "for name in course_name:\n",
    "    print(name.text)\n",
    "    \n",
    "#Getting the course description, printing it (to make sure it works), appending to the respective list  \n",
    "course_desc= driver.find_elements(By.XPATH,'//*[@id=\"main-content\"]/main/aside[2]/div/div/div/div[3]/div[3]/div/div[1]/div/div/div')\n",
    "#The for loop will print the name of the course name.\n",
    "for desc in course_desc:\n",
    "    print(desc.text)\n",
    "\n"
   ]
  },
  {
   "cell_type": "code",
   "execution_count": 324,
   "id": "b96e2112",
   "metadata": {},
   "outputs": [],
   "source": [
    "## ISTA 429"
   ]
  },
  {
   "cell_type": "code",
   "execution_count": 325,
   "id": "07187cc3",
   "metadata": {},
   "outputs": [],
   "source": [
    "## ISTA 431"
   ]
  },
  {
   "cell_type": "markdown",
   "id": "41920e50",
   "metadata": {},
   "source": [
    "## ISTA 439"
   ]
  },
  {
   "cell_type": "code",
   "execution_count": 356,
   "id": "04198be5",
   "metadata": {},
   "outputs": [],
   "source": [
    "#Acessing the website\n",
    "\n",
    "courses = \"https://catalog.arizona.edu/courses?subjectCode=ISTA&career=Undergraduate&cq=&page=1&sortBy=subjectCode\"\n",
    "driver.get(courses)\n"
   ]
  },
  {
   "cell_type": "code",
   "execution_count": 358,
   "id": "a676410c",
   "metadata": {},
   "outputs": [],
   "source": [
    "#Pressing the course button\n",
    "course_btn_path = '//*[@id=\"courses-list\"]/div/div[2]/div[1]/button[1]'\n",
    "course_btn = driver.find_element(By.XPATH, course_btn_path)\n",
    "course_btn.click()"
   ]
  },
  {
   "cell_type": "code",
   "execution_count": 359,
   "id": "21d2d735",
   "metadata": {},
   "outputs": [
    {
     "name": "stdout",
     "output_type": "stream",
     "text": [
      "ISTA439 - Statistical Natural Language Processing\n",
      "This course introduces the key concepts underlying statistical natural language processing. Students will learn a variety of techniques for the computational modeling of natural language, including: n-gram models, smoothing, Hidden Markov models, Bayesian Inference, Expectation Maximization, Viterbi, Inside-Outside Algorithm for Probabilistic Context-Free Grammars, and higher-order language models.\n"
     ]
    }
   ],
   "source": [
    "#Getting the course name, printing it (to make sure it works), appending to the respective list  \n",
    "course_name= driver.find_elements(By.XPATH,'//*[@id=\"main-content\"]/main/aside[2]/div/div/div/div[3]/h1')\n",
    "#The for loop will print the name of the course name.\n",
    "for name in course_name:\n",
    "    print(name.text)\n",
    "    \n",
    "#Getting the course description, printing it (to make sure it works), appending to the respective list  \n",
    "course_desc= driver.find_elements(By.XPATH,'//*[@id=\"main-content\"]/main/aside[2]/div/div/div/div[3]/div[3]/div/div[1]/div/div/div')\n",
    "#The for loop will print the name of the course name.\n",
    "for desc in course_desc:\n",
    "    print(desc.text)"
   ]
  },
  {
   "cell_type": "markdown",
   "id": "e3437f52",
   "metadata": {},
   "source": [
    "## ISTA 450"
   ]
  },
  {
   "cell_type": "code",
   "execution_count": 360,
   "id": "633527ed",
   "metadata": {},
   "outputs": [],
   "source": [
    "#Acessing the website\n",
    "\n",
    "courses = \"https://catalog.arizona.edu/courses?subjectCode=ISTA&career=Undergraduate&cq=&page=1&sortBy=subjectCode\"\n",
    "driver.get(courses)\n"
   ]
  },
  {
   "cell_type": "code",
   "execution_count": 361,
   "id": "e74eed91",
   "metadata": {},
   "outputs": [
    {
     "name": "stdout",
     "output_type": "stream",
     "text": [
      "ISTA450 - Artificial Intelligence\n",
      "The methods and tools of Artificial Intelligence used to provide systems with the ability to autonomously problem solve and reason with uncertain information. Topics include: problem solving (search spaces, uninformed and informed search, games, constraint satisfaction), principles of knowledge representation and reasoning (propositional and first-order logic, logical inference, planning), and representing and reasoning with uncertainty (Bayesian networks, probabilistic inference, decision theory).\n"
     ]
    }
   ],
   "source": [
    "#Pressing the course button\n",
    "course_btn_path = '//*[@id=\"courses-list\"]/div/div[2]/div[1]/button[14]'\n",
    "course_btn = driver.find_element(By.XPATH, course_btn_path)\n",
    "course_btn.click()\n",
    "\n",
    "#Getting the course name, printing it (to make sure it works), appending to the respective list  \n",
    "course_name= driver.find_elements(By.XPATH,'//*[@id=\"main-content\"]/main/aside[2]/div/div/div/div[3]/h1')\n",
    "#The for loop will print the name of the course name.\n",
    "for name in course_name:\n",
    "    print(name.text)\n",
    "    \n",
    "#Getting the course description, printing it (to make sure it works), appending to the respective list  \n",
    "course_desc= driver.find_elements(By.XPATH,'//*[@id=\"main-content\"]/main/aside[2]/div/div/div/div[3]/div[3]/div/div[1]/div/div/div')\n",
    "#The for loop will print the name of the course name.\n",
    "for desc in course_desc:\n",
    "    print(desc.text)"
   ]
  },
  {
   "cell_type": "code",
   "execution_count": 105,
   "id": "ec04612d",
   "metadata": {},
   "outputs": [],
   "source": [
    "## ISTA 455"
   ]
  },
  {
   "cell_type": "code",
   "execution_count": 106,
   "id": "9493fa24",
   "metadata": {},
   "outputs": [],
   "source": [
    "## ISTA 456\n"
   ]
  },
  {
   "cell_type": "code",
   "execution_count": 107,
   "id": "3e9c2c9b",
   "metadata": {},
   "outputs": [],
   "source": [
    "## ISTA 457"
   ]
  },
  {
   "cell_type": "code",
   "execution_count": 108,
   "id": "83163867",
   "metadata": {},
   "outputs": [],
   "source": [
    "## LIS 470"
   ]
  },
  {
   "cell_type": "code",
   "execution_count": 109,
   "id": "26193fde",
   "metadata": {},
   "outputs": [],
   "source": [
    "# Emphasis Area Courses: Interactive & Immersive technologies "
   ]
  },
  {
   "cell_type": "code",
   "execution_count": 110,
   "id": "7cfbf726",
   "metadata": {},
   "outputs": [],
   "source": [
    "## GAME 425"
   ]
  },
  {
   "cell_type": "code",
   "execution_count": 111,
   "id": "c17d2456",
   "metadata": {},
   "outputs": [],
   "source": [
    "## GAME 451"
   ]
  },
  {
   "cell_type": "code",
   "execution_count": 112,
   "id": "62d86f1a",
   "metadata": {},
   "outputs": [],
   "source": [
    "## ISTA 303\n"
   ]
  },
  {
   "cell_type": "code",
   "execution_count": 113,
   "id": "03a16a7c",
   "metadata": {},
   "outputs": [],
   "source": [
    "## ISTA 320"
   ]
  },
  {
   "cell_type": "code",
   "execution_count": 114,
   "id": "c7ae15a6",
   "metadata": {},
   "outputs": [],
   "source": [
    "## ISTA 330 "
   ]
  },
  {
   "cell_type": "code",
   "execution_count": 188,
   "id": "64cfe14f",
   "metadata": {},
   "outputs": [
    {
     "ename": "InvalidArgumentException",
     "evalue": "Message: invalid argument\n  (Session info: chrome=122.0.6261.112)\nStacktrace:\n0   chromedriver                        0x00000001009a0508 chromedriver + 3966216\n1   chromedriver                        0x0000000100998a94 chromedriver + 3934868\n2   chromedriver                        0x000000010061bbf4 chromedriver + 277492\n3   chromedriver                        0x000000010060594c chromedriver + 186700\n4   chromedriver                        0x0000000100603d2c chromedriver + 179500\n5   chromedriver                        0x00000001006046f8 chromedriver + 182008\n6   chromedriver                        0x000000010061e1b8 chromedriver + 287160\n7   chromedriver                        0x000000010069720c chromedriver + 782860\n8   chromedriver                        0x0000000100696bf0 chromedriver + 781296\n9   chromedriver                        0x0000000100652fb0 chromedriver + 503728\n10  chromedriver                        0x0000000100653a28 chromedriver + 506408\n11  chromedriver                        0x00000001009656f0 chromedriver + 3725040\n12  chromedriver                        0x0000000100969be4 chromedriver + 3742692\n13  chromedriver                        0x000000010094e1d8 chromedriver + 3629528\n14  chromedriver                        0x000000010096a6e0 chromedriver + 3745504\n15  chromedriver                        0x0000000100941550 chromedriver + 3577168\n16  chromedriver                        0x0000000100988f40 chromedriver + 3870528\n17  chromedriver                        0x00000001009890e4 chromedriver + 3870948\n18  chromedriver                        0x0000000100998704 chromedriver + 3933956\n19  libsystem_pthread.dylib             0x000000018e29e034 _pthread_start + 136\n20  libsystem_pthread.dylib             0x000000018e298e3c thread_start + 8\n",
     "output_type": "error",
     "traceback": [
      "\u001b[0;31m---------------------------------------------------------------------------\u001b[0m",
      "\u001b[0;31mInvalidArgumentException\u001b[0m                  Traceback (most recent call last)",
      "Input \u001b[0;32mIn [188]\u001b[0m, in \u001b[0;36m<cell line: 8>\u001b[0;34m()\u001b[0m\n\u001b[1;32m      4\u001b[0m \u001b[38;5;124;03m\"\"\"\u001b[39;00m\n\u001b[1;32m      5\u001b[0m \u001b[38;5;124;03mAcessing the website\u001b[39;00m\n\u001b[1;32m      6\u001b[0m \u001b[38;5;124;03m\"\"\"\u001b[39;00m\n\u001b[1;32m      7\u001b[0m courses \u001b[38;5;241m=\u001b[39m \u001b[38;5;124m\"\u001b[39m\u001b[38;5;124m \u001b[39m\u001b[38;5;124m\"\u001b[39m\n\u001b[0;32m----> 8\u001b[0m \u001b[43mdriver\u001b[49m\u001b[38;5;241;43m.\u001b[39;49m\u001b[43mget\u001b[49m\u001b[43m(\u001b[49m\u001b[43mcourses\u001b[49m\u001b[43m)\u001b[49m\n\u001b[1;32m      9\u001b[0m \u001b[38;5;124;03m\"\"\"\u001b[39;00m\n\u001b[1;32m     10\u001b[0m \u001b[38;5;124;03mPressing the course button \u001b[39;00m\n\u001b[1;32m     11\u001b[0m \u001b[38;5;124;03m\"\"\"\u001b[39;00m\n\u001b[1;32m     12\u001b[0m course_btn \u001b[38;5;241m=\u001b[39m driver\u001b[38;5;241m.\u001b[39mfind_elements(By\u001b[38;5;241m.\u001b[39mXPATH, \u001b[38;5;124m'\u001b[39m\u001b[38;5;124m'\u001b[39m)\n",
      "File \u001b[0;32m~/opt/anaconda3/lib/python3.9/site-packages/selenium/webdriver/remote/webdriver.py:356\u001b[0m, in \u001b[0;36mWebDriver.get\u001b[0;34m(self, url)\u001b[0m\n\u001b[1;32m    354\u001b[0m \u001b[38;5;28;01mdef\u001b[39;00m \u001b[38;5;21mget\u001b[39m(\u001b[38;5;28mself\u001b[39m, url: \u001b[38;5;28mstr\u001b[39m) \u001b[38;5;241m-\u001b[39m\u001b[38;5;241m>\u001b[39m \u001b[38;5;28;01mNone\u001b[39;00m:\n\u001b[1;32m    355\u001b[0m     \u001b[38;5;124;03m\"\"\"Loads a web page in the current browser session.\"\"\"\u001b[39;00m\n\u001b[0;32m--> 356\u001b[0m     \u001b[38;5;28;43mself\u001b[39;49m\u001b[38;5;241;43m.\u001b[39;49m\u001b[43mexecute\u001b[49m\u001b[43m(\u001b[49m\u001b[43mCommand\u001b[49m\u001b[38;5;241;43m.\u001b[39;49m\u001b[43mGET\u001b[49m\u001b[43m,\u001b[49m\u001b[43m \u001b[49m\u001b[43m{\u001b[49m\u001b[38;5;124;43m\"\u001b[39;49m\u001b[38;5;124;43murl\u001b[39;49m\u001b[38;5;124;43m\"\u001b[39;49m\u001b[43m:\u001b[49m\u001b[43m \u001b[49m\u001b[43murl\u001b[49m\u001b[43m}\u001b[49m\u001b[43m)\u001b[49m\n",
      "File \u001b[0;32m~/opt/anaconda3/lib/python3.9/site-packages/selenium/webdriver/remote/webdriver.py:347\u001b[0m, in \u001b[0;36mWebDriver.execute\u001b[0;34m(self, driver_command, params)\u001b[0m\n\u001b[1;32m    345\u001b[0m response \u001b[38;5;241m=\u001b[39m \u001b[38;5;28mself\u001b[39m\u001b[38;5;241m.\u001b[39mcommand_executor\u001b[38;5;241m.\u001b[39mexecute(driver_command, params)\n\u001b[1;32m    346\u001b[0m \u001b[38;5;28;01mif\u001b[39;00m response:\n\u001b[0;32m--> 347\u001b[0m     \u001b[38;5;28;43mself\u001b[39;49m\u001b[38;5;241;43m.\u001b[39;49m\u001b[43merror_handler\u001b[49m\u001b[38;5;241;43m.\u001b[39;49m\u001b[43mcheck_response\u001b[49m\u001b[43m(\u001b[49m\u001b[43mresponse\u001b[49m\u001b[43m)\u001b[49m\n\u001b[1;32m    348\u001b[0m     response[\u001b[38;5;124m\"\u001b[39m\u001b[38;5;124mvalue\u001b[39m\u001b[38;5;124m\"\u001b[39m] \u001b[38;5;241m=\u001b[39m \u001b[38;5;28mself\u001b[39m\u001b[38;5;241m.\u001b[39m_unwrap_value(response\u001b[38;5;241m.\u001b[39mget(\u001b[38;5;124m\"\u001b[39m\u001b[38;5;124mvalue\u001b[39m\u001b[38;5;124m\"\u001b[39m, \u001b[38;5;28;01mNone\u001b[39;00m))\n\u001b[1;32m    349\u001b[0m     \u001b[38;5;28;01mreturn\u001b[39;00m response\n",
      "File \u001b[0;32m~/opt/anaconda3/lib/python3.9/site-packages/selenium/webdriver/remote/errorhandler.py:229\u001b[0m, in \u001b[0;36mErrorHandler.check_response\u001b[0;34m(self, response)\u001b[0m\n\u001b[1;32m    227\u001b[0m         alert_text \u001b[38;5;241m=\u001b[39m value[\u001b[38;5;124m\"\u001b[39m\u001b[38;5;124malert\u001b[39m\u001b[38;5;124m\"\u001b[39m]\u001b[38;5;241m.\u001b[39mget(\u001b[38;5;124m\"\u001b[39m\u001b[38;5;124mtext\u001b[39m\u001b[38;5;124m\"\u001b[39m)\n\u001b[1;32m    228\u001b[0m     \u001b[38;5;28;01mraise\u001b[39;00m exception_class(message, screen, stacktrace, alert_text)  \u001b[38;5;66;03m# type: ignore[call-arg]  # mypy is not smart enough here\u001b[39;00m\n\u001b[0;32m--> 229\u001b[0m \u001b[38;5;28;01mraise\u001b[39;00m exception_class(message, screen, stacktrace)\n",
      "\u001b[0;31mInvalidArgumentException\u001b[0m: Message: invalid argument\n  (Session info: chrome=122.0.6261.112)\nStacktrace:\n0   chromedriver                        0x00000001009a0508 chromedriver + 3966216\n1   chromedriver                        0x0000000100998a94 chromedriver + 3934868\n2   chromedriver                        0x000000010061bbf4 chromedriver + 277492\n3   chromedriver                        0x000000010060594c chromedriver + 186700\n4   chromedriver                        0x0000000100603d2c chromedriver + 179500\n5   chromedriver                        0x00000001006046f8 chromedriver + 182008\n6   chromedriver                        0x000000010061e1b8 chromedriver + 287160\n7   chromedriver                        0x000000010069720c chromedriver + 782860\n8   chromedriver                        0x0000000100696bf0 chromedriver + 781296\n9   chromedriver                        0x0000000100652fb0 chromedriver + 503728\n10  chromedriver                        0x0000000100653a28 chromedriver + 506408\n11  chromedriver                        0x00000001009656f0 chromedriver + 3725040\n12  chromedriver                        0x0000000100969be4 chromedriver + 3742692\n13  chromedriver                        0x000000010094e1d8 chromedriver + 3629528\n14  chromedriver                        0x000000010096a6e0 chromedriver + 3745504\n15  chromedriver                        0x0000000100941550 chromedriver + 3577168\n16  chromedriver                        0x0000000100988f40 chromedriver + 3870528\n17  chromedriver                        0x00000001009890e4 chromedriver + 3870948\n18  chromedriver                        0x0000000100998704 chromedriver + 3933956\n19  libsystem_pthread.dylib             0x000000018e29e034 _pthread_start + 136\n20  libsystem_pthread.dylib             0x000000018e298e3c thread_start + 8\n"
     ]
    }
   ],
   "source": [
    "## ISTA 350"
   ]
  },
  {
   "cell_type": "code",
   "execution_count": 116,
   "id": "e224a62a",
   "metadata": {},
   "outputs": [],
   "source": [
    "## ISTA 403"
   ]
  },
  {
   "cell_type": "code",
   "execution_count": 117,
   "id": "ac003827",
   "metadata": {},
   "outputs": [],
   "source": [
    "## ISTA 416"
   ]
  },
  {
   "cell_type": "code",
   "execution_count": 118,
   "id": "189c56a5",
   "metadata": {},
   "outputs": [],
   "source": [
    "## ISTA 424"
   ]
  },
  {
   "cell_type": "code",
   "execution_count": 119,
   "id": "b4c259eb",
   "metadata": {},
   "outputs": [],
   "source": [
    "## ISTA 495"
   ]
  },
  {
   "cell_type": "code",
   "execution_count": 120,
   "id": "b4c552b0",
   "metadata": {},
   "outputs": [],
   "source": [
    "# Computational Arts & Media Course "
   ]
  },
  {
   "cell_type": "code",
   "execution_count": 121,
   "id": "2ad41a4e",
   "metadata": {},
   "outputs": [],
   "source": [
    "## ESOC 300"
   ]
  },
  {
   "cell_type": "code",
   "execution_count": 122,
   "id": "0ea5f766",
   "metadata": {},
   "outputs": [],
   "source": [
    "## ESOC 340"
   ]
  },
  {
   "cell_type": "code",
   "execution_count": 123,
   "id": "fec0a883",
   "metadata": {},
   "outputs": [],
   "source": [
    "## ISTA 301"
   ]
  },
  {
   "cell_type": "code",
   "execution_count": 124,
   "id": "31e4c361",
   "metadata": {},
   "outputs": [],
   "source": [
    "## ISTA 302"
   ]
  },
  {
   "cell_type": "code",
   "execution_count": 125,
   "id": "6c1d324e",
   "metadata": {},
   "outputs": [],
   "source": [
    "## ISTA 303 "
   ]
  },
  {
   "cell_type": "code",
   "execution_count": 126,
   "id": "5d812fa9",
   "metadata": {},
   "outputs": [],
   "source": [
    "## ISTA 329"
   ]
  },
  {
   "cell_type": "code",
   "execution_count": 127,
   "id": "c9a040c2",
   "metadata": {},
   "outputs": [],
   "source": [
    "## ISTA 352"
   ]
  },
  {
   "cell_type": "code",
   "execution_count": 128,
   "id": "b2a62759",
   "metadata": {},
   "outputs": [],
   "source": [
    "## ISTA 401"
   ]
  },
  {
   "cell_type": "code",
   "execution_count": 129,
   "id": "cc45f25d",
   "metadata": {},
   "outputs": [],
   "source": [
    "## ISTA 403"
   ]
  },
  {
   "cell_type": "code",
   "execution_count": 130,
   "id": "a20711d5",
   "metadata": {},
   "outputs": [],
   "source": [
    "# Society "
   ]
  },
  {
   "cell_type": "code",
   "execution_count": 131,
   "id": "7131990f",
   "metadata": {},
   "outputs": [],
   "source": [
    "## ESOC 313"
   ]
  },
  {
   "cell_type": "code",
   "execution_count": 132,
   "id": "ee2ef738",
   "metadata": {},
   "outputs": [],
   "source": [
    "## ESOC 314"
   ]
  },
  {
   "cell_type": "code",
   "execution_count": 133,
   "id": "e0e40616",
   "metadata": {},
   "outputs": [],
   "source": [
    "## ESOC 315\n"
   ]
  },
  {
   "cell_type": "code",
   "execution_count": 189,
   "id": "25cee1ea",
   "metadata": {},
   "outputs": [
    {
     "ename": "InvalidArgumentException",
     "evalue": "Message: invalid argument\n  (Session info: chrome=122.0.6261.112)\nStacktrace:\n0   chromedriver                        0x00000001009a0508 chromedriver + 3966216\n1   chromedriver                        0x0000000100998a94 chromedriver + 3934868\n2   chromedriver                        0x000000010061bbf4 chromedriver + 277492\n3   chromedriver                        0x000000010060594c chromedriver + 186700\n4   chromedriver                        0x0000000100603d2c chromedriver + 179500\n5   chromedriver                        0x00000001006046f8 chromedriver + 182008\n6   chromedriver                        0x000000010061e1b8 chromedriver + 287160\n7   chromedriver                        0x000000010069720c chromedriver + 782860\n8   chromedriver                        0x0000000100696bf0 chromedriver + 781296\n9   chromedriver                        0x0000000100652fb0 chromedriver + 503728\n10  chromedriver                        0x0000000100653a28 chromedriver + 506408\n11  chromedriver                        0x00000001009656f0 chromedriver + 3725040\n12  chromedriver                        0x0000000100969be4 chromedriver + 3742692\n13  chromedriver                        0x000000010094e1d8 chromedriver + 3629528\n14  chromedriver                        0x000000010096a6e0 chromedriver + 3745504\n15  chromedriver                        0x0000000100941550 chromedriver + 3577168\n16  chromedriver                        0x0000000100988f40 chromedriver + 3870528\n17  chromedriver                        0x00000001009890e4 chromedriver + 3870948\n18  chromedriver                        0x0000000100998704 chromedriver + 3933956\n19  libsystem_pthread.dylib             0x000000018e29e034 _pthread_start + 136\n20  libsystem_pthread.dylib             0x000000018e298e3c thread_start + 8\n",
     "output_type": "error",
     "traceback": [
      "\u001b[0;31m---------------------------------------------------------------------------\u001b[0m",
      "\u001b[0;31mInvalidArgumentException\u001b[0m                  Traceback (most recent call last)",
      "Input \u001b[0;32mIn [189]\u001b[0m, in \u001b[0;36m<cell line: 7>\u001b[0;34m()\u001b[0m\n\u001b[1;32m      3\u001b[0m \u001b[38;5;124;03m\"\"\"\u001b[39;00m\n\u001b[1;32m      4\u001b[0m \u001b[38;5;124;03mAcessing the website\u001b[39;00m\n\u001b[1;32m      5\u001b[0m \u001b[38;5;124;03m\"\"\"\u001b[39;00m\n\u001b[1;32m      6\u001b[0m courses \u001b[38;5;241m=\u001b[39m \u001b[38;5;124m\"\u001b[39m\u001b[38;5;124m \u001b[39m\u001b[38;5;124m\"\u001b[39m\n\u001b[0;32m----> 7\u001b[0m \u001b[43mdriver\u001b[49m\u001b[38;5;241;43m.\u001b[39;49m\u001b[43mget\u001b[49m\u001b[43m(\u001b[49m\u001b[43mcourses\u001b[49m\u001b[43m)\u001b[49m\n\u001b[1;32m      8\u001b[0m \u001b[38;5;124;03m\"\"\"\u001b[39;00m\n\u001b[1;32m      9\u001b[0m \u001b[38;5;124;03mPressing the course button \u001b[39;00m\n\u001b[1;32m     10\u001b[0m \u001b[38;5;124;03m\"\"\"\u001b[39;00m\n\u001b[1;32m     11\u001b[0m course_btn \u001b[38;5;241m=\u001b[39m driver\u001b[38;5;241m.\u001b[39mfind_elements(By\u001b[38;5;241m.\u001b[39mXPATH, \u001b[38;5;124m'\u001b[39m\u001b[38;5;124m'\u001b[39m)\n",
      "File \u001b[0;32m~/opt/anaconda3/lib/python3.9/site-packages/selenium/webdriver/remote/webdriver.py:356\u001b[0m, in \u001b[0;36mWebDriver.get\u001b[0;34m(self, url)\u001b[0m\n\u001b[1;32m    354\u001b[0m \u001b[38;5;28;01mdef\u001b[39;00m \u001b[38;5;21mget\u001b[39m(\u001b[38;5;28mself\u001b[39m, url: \u001b[38;5;28mstr\u001b[39m) \u001b[38;5;241m-\u001b[39m\u001b[38;5;241m>\u001b[39m \u001b[38;5;28;01mNone\u001b[39;00m:\n\u001b[1;32m    355\u001b[0m     \u001b[38;5;124;03m\"\"\"Loads a web page in the current browser session.\"\"\"\u001b[39;00m\n\u001b[0;32m--> 356\u001b[0m     \u001b[38;5;28;43mself\u001b[39;49m\u001b[38;5;241;43m.\u001b[39;49m\u001b[43mexecute\u001b[49m\u001b[43m(\u001b[49m\u001b[43mCommand\u001b[49m\u001b[38;5;241;43m.\u001b[39;49m\u001b[43mGET\u001b[49m\u001b[43m,\u001b[49m\u001b[43m \u001b[49m\u001b[43m{\u001b[49m\u001b[38;5;124;43m\"\u001b[39;49m\u001b[38;5;124;43murl\u001b[39;49m\u001b[38;5;124;43m\"\u001b[39;49m\u001b[43m:\u001b[49m\u001b[43m \u001b[49m\u001b[43murl\u001b[49m\u001b[43m}\u001b[49m\u001b[43m)\u001b[49m\n",
      "File \u001b[0;32m~/opt/anaconda3/lib/python3.9/site-packages/selenium/webdriver/remote/webdriver.py:347\u001b[0m, in \u001b[0;36mWebDriver.execute\u001b[0;34m(self, driver_command, params)\u001b[0m\n\u001b[1;32m    345\u001b[0m response \u001b[38;5;241m=\u001b[39m \u001b[38;5;28mself\u001b[39m\u001b[38;5;241m.\u001b[39mcommand_executor\u001b[38;5;241m.\u001b[39mexecute(driver_command, params)\n\u001b[1;32m    346\u001b[0m \u001b[38;5;28;01mif\u001b[39;00m response:\n\u001b[0;32m--> 347\u001b[0m     \u001b[38;5;28;43mself\u001b[39;49m\u001b[38;5;241;43m.\u001b[39;49m\u001b[43merror_handler\u001b[49m\u001b[38;5;241;43m.\u001b[39;49m\u001b[43mcheck_response\u001b[49m\u001b[43m(\u001b[49m\u001b[43mresponse\u001b[49m\u001b[43m)\u001b[49m\n\u001b[1;32m    348\u001b[0m     response[\u001b[38;5;124m\"\u001b[39m\u001b[38;5;124mvalue\u001b[39m\u001b[38;5;124m\"\u001b[39m] \u001b[38;5;241m=\u001b[39m \u001b[38;5;28mself\u001b[39m\u001b[38;5;241m.\u001b[39m_unwrap_value(response\u001b[38;5;241m.\u001b[39mget(\u001b[38;5;124m\"\u001b[39m\u001b[38;5;124mvalue\u001b[39m\u001b[38;5;124m\"\u001b[39m, \u001b[38;5;28;01mNone\u001b[39;00m))\n\u001b[1;32m    349\u001b[0m     \u001b[38;5;28;01mreturn\u001b[39;00m response\n",
      "File \u001b[0;32m~/opt/anaconda3/lib/python3.9/site-packages/selenium/webdriver/remote/errorhandler.py:229\u001b[0m, in \u001b[0;36mErrorHandler.check_response\u001b[0;34m(self, response)\u001b[0m\n\u001b[1;32m    227\u001b[0m         alert_text \u001b[38;5;241m=\u001b[39m value[\u001b[38;5;124m\"\u001b[39m\u001b[38;5;124malert\u001b[39m\u001b[38;5;124m\"\u001b[39m]\u001b[38;5;241m.\u001b[39mget(\u001b[38;5;124m\"\u001b[39m\u001b[38;5;124mtext\u001b[39m\u001b[38;5;124m\"\u001b[39m)\n\u001b[1;32m    228\u001b[0m     \u001b[38;5;28;01mraise\u001b[39;00m exception_class(message, screen, stacktrace, alert_text)  \u001b[38;5;66;03m# type: ignore[call-arg]  # mypy is not smart enough here\u001b[39;00m\n\u001b[0;32m--> 229\u001b[0m \u001b[38;5;28;01mraise\u001b[39;00m exception_class(message, screen, stacktrace)\n",
      "\u001b[0;31mInvalidArgumentException\u001b[0m: Message: invalid argument\n  (Session info: chrome=122.0.6261.112)\nStacktrace:\n0   chromedriver                        0x00000001009a0508 chromedriver + 3966216\n1   chromedriver                        0x0000000100998a94 chromedriver + 3934868\n2   chromedriver                        0x000000010061bbf4 chromedriver + 277492\n3   chromedriver                        0x000000010060594c chromedriver + 186700\n4   chromedriver                        0x0000000100603d2c chromedriver + 179500\n5   chromedriver                        0x00000001006046f8 chromedriver + 182008\n6   chromedriver                        0x000000010061e1b8 chromedriver + 287160\n7   chromedriver                        0x000000010069720c chromedriver + 782860\n8   chromedriver                        0x0000000100696bf0 chromedriver + 781296\n9   chromedriver                        0x0000000100652fb0 chromedriver + 503728\n10  chromedriver                        0x0000000100653a28 chromedriver + 506408\n11  chromedriver                        0x00000001009656f0 chromedriver + 3725040\n12  chromedriver                        0x0000000100969be4 chromedriver + 3742692\n13  chromedriver                        0x000000010094e1d8 chromedriver + 3629528\n14  chromedriver                        0x000000010096a6e0 chromedriver + 3745504\n15  chromedriver                        0x0000000100941550 chromedriver + 3577168\n16  chromedriver                        0x0000000100988f40 chromedriver + 3870528\n17  chromedriver                        0x00000001009890e4 chromedriver + 3870948\n18  chromedriver                        0x0000000100998704 chromedriver + 3933956\n19  libsystem_pthread.dylib             0x000000018e29e034 _pthread_start + 136\n20  libsystem_pthread.dylib             0x000000018e298e3c thread_start + 8\n"
     ]
    }
   ],
   "source": [
    "## ESOC 316\n"
   ]
  },
  {
   "cell_type": "code",
   "execution_count": 74,
   "id": "e2ff3195",
   "metadata": {},
   "outputs": [],
   "source": [
    "## ESOC 317"
   ]
  },
  {
   "cell_type": "code",
   "execution_count": 190,
   "id": "85cb7aac",
   "metadata": {},
   "outputs": [
    {
     "ename": "InvalidArgumentException",
     "evalue": "Message: invalid argument\n  (Session info: chrome=122.0.6261.112)\nStacktrace:\n0   chromedriver                        0x00000001009a0508 chromedriver + 3966216\n1   chromedriver                        0x0000000100998a94 chromedriver + 3934868\n2   chromedriver                        0x000000010061bbf4 chromedriver + 277492\n3   chromedriver                        0x000000010060594c chromedriver + 186700\n4   chromedriver                        0x0000000100603d2c chromedriver + 179500\n5   chromedriver                        0x00000001006046f8 chromedriver + 182008\n6   chromedriver                        0x000000010061e1b8 chromedriver + 287160\n7   chromedriver                        0x000000010069720c chromedriver + 782860\n8   chromedriver                        0x0000000100696bf0 chromedriver + 781296\n9   chromedriver                        0x0000000100652fb0 chromedriver + 503728\n10  chromedriver                        0x0000000100653a28 chromedriver + 506408\n11  chromedriver                        0x00000001009656f0 chromedriver + 3725040\n12  chromedriver                        0x0000000100969be4 chromedriver + 3742692\n13  chromedriver                        0x000000010094e1d8 chromedriver + 3629528\n14  chromedriver                        0x000000010096a6e0 chromedriver + 3745504\n15  chromedriver                        0x0000000100941550 chromedriver + 3577168\n16  chromedriver                        0x0000000100988f40 chromedriver + 3870528\n17  chromedriver                        0x00000001009890e4 chromedriver + 3870948\n18  chromedriver                        0x0000000100998704 chromedriver + 3933956\n19  libsystem_pthread.dylib             0x000000018e29e034 _pthread_start + 136\n20  libsystem_pthread.dylib             0x000000018e298e3c thread_start + 8\n",
     "output_type": "error",
     "traceback": [
      "\u001b[0;31m---------------------------------------------------------------------------\u001b[0m",
      "\u001b[0;31mInvalidArgumentException\u001b[0m                  Traceback (most recent call last)",
      "Input \u001b[0;32mIn [190]\u001b[0m, in \u001b[0;36m<cell line: 7>\u001b[0;34m()\u001b[0m\n\u001b[1;32m      3\u001b[0m \u001b[38;5;124;03m\"\"\"\u001b[39;00m\n\u001b[1;32m      4\u001b[0m \u001b[38;5;124;03mAcessing the website\u001b[39;00m\n\u001b[1;32m      5\u001b[0m \u001b[38;5;124;03m\"\"\"\u001b[39;00m\n\u001b[1;32m      6\u001b[0m courses \u001b[38;5;241m=\u001b[39m \u001b[38;5;124m\"\u001b[39m\u001b[38;5;124m \u001b[39m\u001b[38;5;124m\"\u001b[39m\n\u001b[0;32m----> 7\u001b[0m \u001b[43mdriver\u001b[49m\u001b[38;5;241;43m.\u001b[39;49m\u001b[43mget\u001b[49m\u001b[43m(\u001b[49m\u001b[43mcourses\u001b[49m\u001b[43m)\u001b[49m\n\u001b[1;32m      8\u001b[0m \u001b[38;5;124;03m\"\"\"\u001b[39;00m\n\u001b[1;32m      9\u001b[0m \u001b[38;5;124;03mPressing the course button \u001b[39;00m\n\u001b[1;32m     10\u001b[0m \u001b[38;5;124;03m\"\"\"\u001b[39;00m\n\u001b[1;32m     11\u001b[0m course_btn \u001b[38;5;241m=\u001b[39m driver\u001b[38;5;241m.\u001b[39mfind_elements(By\u001b[38;5;241m.\u001b[39mXPATH, \u001b[38;5;124m'\u001b[39m\u001b[38;5;124m'\u001b[39m)\n",
      "File \u001b[0;32m~/opt/anaconda3/lib/python3.9/site-packages/selenium/webdriver/remote/webdriver.py:356\u001b[0m, in \u001b[0;36mWebDriver.get\u001b[0;34m(self, url)\u001b[0m\n\u001b[1;32m    354\u001b[0m \u001b[38;5;28;01mdef\u001b[39;00m \u001b[38;5;21mget\u001b[39m(\u001b[38;5;28mself\u001b[39m, url: \u001b[38;5;28mstr\u001b[39m) \u001b[38;5;241m-\u001b[39m\u001b[38;5;241m>\u001b[39m \u001b[38;5;28;01mNone\u001b[39;00m:\n\u001b[1;32m    355\u001b[0m     \u001b[38;5;124;03m\"\"\"Loads a web page in the current browser session.\"\"\"\u001b[39;00m\n\u001b[0;32m--> 356\u001b[0m     \u001b[38;5;28;43mself\u001b[39;49m\u001b[38;5;241;43m.\u001b[39;49m\u001b[43mexecute\u001b[49m\u001b[43m(\u001b[49m\u001b[43mCommand\u001b[49m\u001b[38;5;241;43m.\u001b[39;49m\u001b[43mGET\u001b[49m\u001b[43m,\u001b[49m\u001b[43m \u001b[49m\u001b[43m{\u001b[49m\u001b[38;5;124;43m\"\u001b[39;49m\u001b[38;5;124;43murl\u001b[39;49m\u001b[38;5;124;43m\"\u001b[39;49m\u001b[43m:\u001b[49m\u001b[43m \u001b[49m\u001b[43murl\u001b[49m\u001b[43m}\u001b[49m\u001b[43m)\u001b[49m\n",
      "File \u001b[0;32m~/opt/anaconda3/lib/python3.9/site-packages/selenium/webdriver/remote/webdriver.py:347\u001b[0m, in \u001b[0;36mWebDriver.execute\u001b[0;34m(self, driver_command, params)\u001b[0m\n\u001b[1;32m    345\u001b[0m response \u001b[38;5;241m=\u001b[39m \u001b[38;5;28mself\u001b[39m\u001b[38;5;241m.\u001b[39mcommand_executor\u001b[38;5;241m.\u001b[39mexecute(driver_command, params)\n\u001b[1;32m    346\u001b[0m \u001b[38;5;28;01mif\u001b[39;00m response:\n\u001b[0;32m--> 347\u001b[0m     \u001b[38;5;28;43mself\u001b[39;49m\u001b[38;5;241;43m.\u001b[39;49m\u001b[43merror_handler\u001b[49m\u001b[38;5;241;43m.\u001b[39;49m\u001b[43mcheck_response\u001b[49m\u001b[43m(\u001b[49m\u001b[43mresponse\u001b[49m\u001b[43m)\u001b[49m\n\u001b[1;32m    348\u001b[0m     response[\u001b[38;5;124m\"\u001b[39m\u001b[38;5;124mvalue\u001b[39m\u001b[38;5;124m\"\u001b[39m] \u001b[38;5;241m=\u001b[39m \u001b[38;5;28mself\u001b[39m\u001b[38;5;241m.\u001b[39m_unwrap_value(response\u001b[38;5;241m.\u001b[39mget(\u001b[38;5;124m\"\u001b[39m\u001b[38;5;124mvalue\u001b[39m\u001b[38;5;124m\"\u001b[39m, \u001b[38;5;28;01mNone\u001b[39;00m))\n\u001b[1;32m    349\u001b[0m     \u001b[38;5;28;01mreturn\u001b[39;00m response\n",
      "File \u001b[0;32m~/opt/anaconda3/lib/python3.9/site-packages/selenium/webdriver/remote/errorhandler.py:229\u001b[0m, in \u001b[0;36mErrorHandler.check_response\u001b[0;34m(self, response)\u001b[0m\n\u001b[1;32m    227\u001b[0m         alert_text \u001b[38;5;241m=\u001b[39m value[\u001b[38;5;124m\"\u001b[39m\u001b[38;5;124malert\u001b[39m\u001b[38;5;124m\"\u001b[39m]\u001b[38;5;241m.\u001b[39mget(\u001b[38;5;124m\"\u001b[39m\u001b[38;5;124mtext\u001b[39m\u001b[38;5;124m\"\u001b[39m)\n\u001b[1;32m    228\u001b[0m     \u001b[38;5;28;01mraise\u001b[39;00m exception_class(message, screen, stacktrace, alert_text)  \u001b[38;5;66;03m# type: ignore[call-arg]  # mypy is not smart enough here\u001b[39;00m\n\u001b[0;32m--> 229\u001b[0m \u001b[38;5;28;01mraise\u001b[39;00m exception_class(message, screen, stacktrace)\n",
      "\u001b[0;31mInvalidArgumentException\u001b[0m: Message: invalid argument\n  (Session info: chrome=122.0.6261.112)\nStacktrace:\n0   chromedriver                        0x00000001009a0508 chromedriver + 3966216\n1   chromedriver                        0x0000000100998a94 chromedriver + 3934868\n2   chromedriver                        0x000000010061bbf4 chromedriver + 277492\n3   chromedriver                        0x000000010060594c chromedriver + 186700\n4   chromedriver                        0x0000000100603d2c chromedriver + 179500\n5   chromedriver                        0x00000001006046f8 chromedriver + 182008\n6   chromedriver                        0x000000010061e1b8 chromedriver + 287160\n7   chromedriver                        0x000000010069720c chromedriver + 782860\n8   chromedriver                        0x0000000100696bf0 chromedriver + 781296\n9   chromedriver                        0x0000000100652fb0 chromedriver + 503728\n10  chromedriver                        0x0000000100653a28 chromedriver + 506408\n11  chromedriver                        0x00000001009656f0 chromedriver + 3725040\n12  chromedriver                        0x0000000100969be4 chromedriver + 3742692\n13  chromedriver                        0x000000010094e1d8 chromedriver + 3629528\n14  chromedriver                        0x000000010096a6e0 chromedriver + 3745504\n15  chromedriver                        0x0000000100941550 chromedriver + 3577168\n16  chromedriver                        0x0000000100988f40 chromedriver + 3870528\n17  chromedriver                        0x00000001009890e4 chromedriver + 3870948\n18  chromedriver                        0x0000000100998704 chromedriver + 3933956\n19  libsystem_pthread.dylib             0x000000018e29e034 _pthread_start + 136\n20  libsystem_pthread.dylib             0x000000018e298e3c thread_start + 8\n"
     ]
    }
   ],
   "source": [
    "## ESOC 318"
   ]
  },
  {
   "cell_type": "code",
   "execution_count": 76,
   "id": "87af7f39",
   "metadata": {},
   "outputs": [],
   "source": [
    "## ESOC 319"
   ]
  },
  {
   "cell_type": "code",
   "execution_count": 191,
   "id": "3b130ec5",
   "metadata": {},
   "outputs": [
    {
     "ename": "InvalidArgumentException",
     "evalue": "Message: invalid argument\n  (Session info: chrome=122.0.6261.112)\nStacktrace:\n0   chromedriver                        0x00000001009a0508 chromedriver + 3966216\n1   chromedriver                        0x0000000100998a94 chromedriver + 3934868\n2   chromedriver                        0x000000010061bbf4 chromedriver + 277492\n3   chromedriver                        0x000000010060594c chromedriver + 186700\n4   chromedriver                        0x0000000100603d2c chromedriver + 179500\n5   chromedriver                        0x00000001006046f8 chromedriver + 182008\n6   chromedriver                        0x000000010061e1b8 chromedriver + 287160\n7   chromedriver                        0x000000010069720c chromedriver + 782860\n8   chromedriver                        0x0000000100696bf0 chromedriver + 781296\n9   chromedriver                        0x0000000100652fb0 chromedriver + 503728\n10  chromedriver                        0x0000000100653a28 chromedriver + 506408\n11  chromedriver                        0x00000001009656f0 chromedriver + 3725040\n12  chromedriver                        0x0000000100969be4 chromedriver + 3742692\n13  chromedriver                        0x000000010094e1d8 chromedriver + 3629528\n14  chromedriver                        0x000000010096a6e0 chromedriver + 3745504\n15  chromedriver                        0x0000000100941550 chromedriver + 3577168\n16  chromedriver                        0x0000000100988f40 chromedriver + 3870528\n17  chromedriver                        0x00000001009890e4 chromedriver + 3870948\n18  chromedriver                        0x0000000100998704 chromedriver + 3933956\n19  libsystem_pthread.dylib             0x000000018e29e034 _pthread_start + 136\n20  libsystem_pthread.dylib             0x000000018e298e3c thread_start + 8\n",
     "output_type": "error",
     "traceback": [
      "\u001b[0;31m---------------------------------------------------------------------------\u001b[0m",
      "\u001b[0;31mInvalidArgumentException\u001b[0m                  Traceback (most recent call last)",
      "Input \u001b[0;32mIn [191]\u001b[0m, in \u001b[0;36m<cell line: 8>\u001b[0;34m()\u001b[0m\n\u001b[1;32m      4\u001b[0m \u001b[38;5;124;03m\"\"\"\u001b[39;00m\n\u001b[1;32m      5\u001b[0m \u001b[38;5;124;03mAcessing the website\u001b[39;00m\n\u001b[1;32m      6\u001b[0m \u001b[38;5;124;03m\"\"\"\u001b[39;00m\n\u001b[1;32m      7\u001b[0m courses \u001b[38;5;241m=\u001b[39m \u001b[38;5;124m\"\u001b[39m\u001b[38;5;124m \u001b[39m\u001b[38;5;124m\"\u001b[39m\n\u001b[0;32m----> 8\u001b[0m \u001b[43mdriver\u001b[49m\u001b[38;5;241;43m.\u001b[39;49m\u001b[43mget\u001b[49m\u001b[43m(\u001b[49m\u001b[43mcourses\u001b[49m\u001b[43m)\u001b[49m\n\u001b[1;32m      9\u001b[0m \u001b[38;5;124;03m\"\"\"\u001b[39;00m\n\u001b[1;32m     10\u001b[0m \u001b[38;5;124;03mPressing the course button \u001b[39;00m\n\u001b[1;32m     11\u001b[0m \u001b[38;5;124;03m\"\"\"\u001b[39;00m\n\u001b[1;32m     12\u001b[0m course_btn \u001b[38;5;241m=\u001b[39m driver\u001b[38;5;241m.\u001b[39mfind_elements(By\u001b[38;5;241m.\u001b[39mXPATH, \u001b[38;5;124m'\u001b[39m\u001b[38;5;124m'\u001b[39m)\n",
      "File \u001b[0;32m~/opt/anaconda3/lib/python3.9/site-packages/selenium/webdriver/remote/webdriver.py:356\u001b[0m, in \u001b[0;36mWebDriver.get\u001b[0;34m(self, url)\u001b[0m\n\u001b[1;32m    354\u001b[0m \u001b[38;5;28;01mdef\u001b[39;00m \u001b[38;5;21mget\u001b[39m(\u001b[38;5;28mself\u001b[39m, url: \u001b[38;5;28mstr\u001b[39m) \u001b[38;5;241m-\u001b[39m\u001b[38;5;241m>\u001b[39m \u001b[38;5;28;01mNone\u001b[39;00m:\n\u001b[1;32m    355\u001b[0m     \u001b[38;5;124;03m\"\"\"Loads a web page in the current browser session.\"\"\"\u001b[39;00m\n\u001b[0;32m--> 356\u001b[0m     \u001b[38;5;28;43mself\u001b[39;49m\u001b[38;5;241;43m.\u001b[39;49m\u001b[43mexecute\u001b[49m\u001b[43m(\u001b[49m\u001b[43mCommand\u001b[49m\u001b[38;5;241;43m.\u001b[39;49m\u001b[43mGET\u001b[49m\u001b[43m,\u001b[49m\u001b[43m \u001b[49m\u001b[43m{\u001b[49m\u001b[38;5;124;43m\"\u001b[39;49m\u001b[38;5;124;43murl\u001b[39;49m\u001b[38;5;124;43m\"\u001b[39;49m\u001b[43m:\u001b[49m\u001b[43m \u001b[49m\u001b[43murl\u001b[49m\u001b[43m}\u001b[49m\u001b[43m)\u001b[49m\n",
      "File \u001b[0;32m~/opt/anaconda3/lib/python3.9/site-packages/selenium/webdriver/remote/webdriver.py:347\u001b[0m, in \u001b[0;36mWebDriver.execute\u001b[0;34m(self, driver_command, params)\u001b[0m\n\u001b[1;32m    345\u001b[0m response \u001b[38;5;241m=\u001b[39m \u001b[38;5;28mself\u001b[39m\u001b[38;5;241m.\u001b[39mcommand_executor\u001b[38;5;241m.\u001b[39mexecute(driver_command, params)\n\u001b[1;32m    346\u001b[0m \u001b[38;5;28;01mif\u001b[39;00m response:\n\u001b[0;32m--> 347\u001b[0m     \u001b[38;5;28;43mself\u001b[39;49m\u001b[38;5;241;43m.\u001b[39;49m\u001b[43merror_handler\u001b[49m\u001b[38;5;241;43m.\u001b[39;49m\u001b[43mcheck_response\u001b[49m\u001b[43m(\u001b[49m\u001b[43mresponse\u001b[49m\u001b[43m)\u001b[49m\n\u001b[1;32m    348\u001b[0m     response[\u001b[38;5;124m\"\u001b[39m\u001b[38;5;124mvalue\u001b[39m\u001b[38;5;124m\"\u001b[39m] \u001b[38;5;241m=\u001b[39m \u001b[38;5;28mself\u001b[39m\u001b[38;5;241m.\u001b[39m_unwrap_value(response\u001b[38;5;241m.\u001b[39mget(\u001b[38;5;124m\"\u001b[39m\u001b[38;5;124mvalue\u001b[39m\u001b[38;5;124m\"\u001b[39m, \u001b[38;5;28;01mNone\u001b[39;00m))\n\u001b[1;32m    349\u001b[0m     \u001b[38;5;28;01mreturn\u001b[39;00m response\n",
      "File \u001b[0;32m~/opt/anaconda3/lib/python3.9/site-packages/selenium/webdriver/remote/errorhandler.py:229\u001b[0m, in \u001b[0;36mErrorHandler.check_response\u001b[0;34m(self, response)\u001b[0m\n\u001b[1;32m    227\u001b[0m         alert_text \u001b[38;5;241m=\u001b[39m value[\u001b[38;5;124m\"\u001b[39m\u001b[38;5;124malert\u001b[39m\u001b[38;5;124m\"\u001b[39m]\u001b[38;5;241m.\u001b[39mget(\u001b[38;5;124m\"\u001b[39m\u001b[38;5;124mtext\u001b[39m\u001b[38;5;124m\"\u001b[39m)\n\u001b[1;32m    228\u001b[0m     \u001b[38;5;28;01mraise\u001b[39;00m exception_class(message, screen, stacktrace, alert_text)  \u001b[38;5;66;03m# type: ignore[call-arg]  # mypy is not smart enough here\u001b[39;00m\n\u001b[0;32m--> 229\u001b[0m \u001b[38;5;28;01mraise\u001b[39;00m exception_class(message, screen, stacktrace)\n",
      "\u001b[0;31mInvalidArgumentException\u001b[0m: Message: invalid argument\n  (Session info: chrome=122.0.6261.112)\nStacktrace:\n0   chromedriver                        0x00000001009a0508 chromedriver + 3966216\n1   chromedriver                        0x0000000100998a94 chromedriver + 3934868\n2   chromedriver                        0x000000010061bbf4 chromedriver + 277492\n3   chromedriver                        0x000000010060594c chromedriver + 186700\n4   chromedriver                        0x0000000100603d2c chromedriver + 179500\n5   chromedriver                        0x00000001006046f8 chromedriver + 182008\n6   chromedriver                        0x000000010061e1b8 chromedriver + 287160\n7   chromedriver                        0x000000010069720c chromedriver + 782860\n8   chromedriver                        0x0000000100696bf0 chromedriver + 781296\n9   chromedriver                        0x0000000100652fb0 chromedriver + 503728\n10  chromedriver                        0x0000000100653a28 chromedriver + 506408\n11  chromedriver                        0x00000001009656f0 chromedriver + 3725040\n12  chromedriver                        0x0000000100969be4 chromedriver + 3742692\n13  chromedriver                        0x000000010094e1d8 chromedriver + 3629528\n14  chromedriver                        0x000000010096a6e0 chromedriver + 3745504\n15  chromedriver                        0x0000000100941550 chromedriver + 3577168\n16  chromedriver                        0x0000000100988f40 chromedriver + 3870528\n17  chromedriver                        0x00000001009890e4 chromedriver + 3870948\n18  chromedriver                        0x0000000100998704 chromedriver + 3933956\n19  libsystem_pthread.dylib             0x000000018e29e034 _pthread_start + 136\n20  libsystem_pthread.dylib             0x000000018e298e3c thread_start + 8\n"
     ]
    }
   ],
   "source": [
    "## ESOC 330"
   ]
  },
  {
   "cell_type": "code",
   "execution_count": 78,
   "id": "09241672",
   "metadata": {},
   "outputs": [],
   "source": [
    "## ESOC 477"
   ]
  },
  {
   "cell_type": "code",
   "execution_count": 192,
   "id": "d9e505e7",
   "metadata": {},
   "outputs": [
    {
     "ename": "InvalidArgumentException",
     "evalue": "Message: invalid argument\n  (Session info: chrome=122.0.6261.112)\nStacktrace:\n0   chromedriver                        0x00000001009a0508 chromedriver + 3966216\n1   chromedriver                        0x0000000100998a94 chromedriver + 3934868\n2   chromedriver                        0x000000010061bbf4 chromedriver + 277492\n3   chromedriver                        0x000000010060594c chromedriver + 186700\n4   chromedriver                        0x0000000100603d2c chromedriver + 179500\n5   chromedriver                        0x00000001006046f8 chromedriver + 182008\n6   chromedriver                        0x000000010061e1b8 chromedriver + 287160\n7   chromedriver                        0x000000010069720c chromedriver + 782860\n8   chromedriver                        0x0000000100696bf0 chromedriver + 781296\n9   chromedriver                        0x0000000100652fb0 chromedriver + 503728\n10  chromedriver                        0x0000000100653a28 chromedriver + 506408\n11  chromedriver                        0x00000001009656f0 chromedriver + 3725040\n12  chromedriver                        0x0000000100969be4 chromedriver + 3742692\n13  chromedriver                        0x000000010094e1d8 chromedriver + 3629528\n14  chromedriver                        0x000000010096a6e0 chromedriver + 3745504\n15  chromedriver                        0x0000000100941550 chromedriver + 3577168\n16  chromedriver                        0x0000000100988f40 chromedriver + 3870528\n17  chromedriver                        0x00000001009890e4 chromedriver + 3870948\n18  chromedriver                        0x0000000100998704 chromedriver + 3933956\n19  libsystem_pthread.dylib             0x000000018e29e034 _pthread_start + 136\n20  libsystem_pthread.dylib             0x000000018e298e3c thread_start + 8\n",
     "output_type": "error",
     "traceback": [
      "\u001b[0;31m---------------------------------------------------------------------------\u001b[0m",
      "\u001b[0;31mInvalidArgumentException\u001b[0m                  Traceback (most recent call last)",
      "Input \u001b[0;32mIn [192]\u001b[0m, in \u001b[0;36m<cell line: 8>\u001b[0;34m()\u001b[0m\n\u001b[1;32m      4\u001b[0m \u001b[38;5;124;03m\"\"\"\u001b[39;00m\n\u001b[1;32m      5\u001b[0m \u001b[38;5;124;03mAcessing the website\u001b[39;00m\n\u001b[1;32m      6\u001b[0m \u001b[38;5;124;03m\"\"\"\u001b[39;00m\n\u001b[1;32m      7\u001b[0m courses \u001b[38;5;241m=\u001b[39m \u001b[38;5;124m\"\u001b[39m\u001b[38;5;124m \u001b[39m\u001b[38;5;124m\"\u001b[39m\n\u001b[0;32m----> 8\u001b[0m \u001b[43mdriver\u001b[49m\u001b[38;5;241;43m.\u001b[39;49m\u001b[43mget\u001b[49m\u001b[43m(\u001b[49m\u001b[43mcourses\u001b[49m\u001b[43m)\u001b[49m\n\u001b[1;32m      9\u001b[0m \u001b[38;5;124;03m\"\"\"\u001b[39;00m\n\u001b[1;32m     10\u001b[0m \u001b[38;5;124;03mPressing the course button \u001b[39;00m\n\u001b[1;32m     11\u001b[0m \u001b[38;5;124;03m\"\"\"\u001b[39;00m\n\u001b[1;32m     12\u001b[0m course_btn \u001b[38;5;241m=\u001b[39m driver\u001b[38;5;241m.\u001b[39mfind_elements(By\u001b[38;5;241m.\u001b[39mXPATH, \u001b[38;5;124m'\u001b[39m\u001b[38;5;124m'\u001b[39m)\n",
      "File \u001b[0;32m~/opt/anaconda3/lib/python3.9/site-packages/selenium/webdriver/remote/webdriver.py:356\u001b[0m, in \u001b[0;36mWebDriver.get\u001b[0;34m(self, url)\u001b[0m\n\u001b[1;32m    354\u001b[0m \u001b[38;5;28;01mdef\u001b[39;00m \u001b[38;5;21mget\u001b[39m(\u001b[38;5;28mself\u001b[39m, url: \u001b[38;5;28mstr\u001b[39m) \u001b[38;5;241m-\u001b[39m\u001b[38;5;241m>\u001b[39m \u001b[38;5;28;01mNone\u001b[39;00m:\n\u001b[1;32m    355\u001b[0m     \u001b[38;5;124;03m\"\"\"Loads a web page in the current browser session.\"\"\"\u001b[39;00m\n\u001b[0;32m--> 356\u001b[0m     \u001b[38;5;28;43mself\u001b[39;49m\u001b[38;5;241;43m.\u001b[39;49m\u001b[43mexecute\u001b[49m\u001b[43m(\u001b[49m\u001b[43mCommand\u001b[49m\u001b[38;5;241;43m.\u001b[39;49m\u001b[43mGET\u001b[49m\u001b[43m,\u001b[49m\u001b[43m \u001b[49m\u001b[43m{\u001b[49m\u001b[38;5;124;43m\"\u001b[39;49m\u001b[38;5;124;43murl\u001b[39;49m\u001b[38;5;124;43m\"\u001b[39;49m\u001b[43m:\u001b[49m\u001b[43m \u001b[49m\u001b[43murl\u001b[49m\u001b[43m}\u001b[49m\u001b[43m)\u001b[49m\n",
      "File \u001b[0;32m~/opt/anaconda3/lib/python3.9/site-packages/selenium/webdriver/remote/webdriver.py:347\u001b[0m, in \u001b[0;36mWebDriver.execute\u001b[0;34m(self, driver_command, params)\u001b[0m\n\u001b[1;32m    345\u001b[0m response \u001b[38;5;241m=\u001b[39m \u001b[38;5;28mself\u001b[39m\u001b[38;5;241m.\u001b[39mcommand_executor\u001b[38;5;241m.\u001b[39mexecute(driver_command, params)\n\u001b[1;32m    346\u001b[0m \u001b[38;5;28;01mif\u001b[39;00m response:\n\u001b[0;32m--> 347\u001b[0m     \u001b[38;5;28;43mself\u001b[39;49m\u001b[38;5;241;43m.\u001b[39;49m\u001b[43merror_handler\u001b[49m\u001b[38;5;241;43m.\u001b[39;49m\u001b[43mcheck_response\u001b[49m\u001b[43m(\u001b[49m\u001b[43mresponse\u001b[49m\u001b[43m)\u001b[49m\n\u001b[1;32m    348\u001b[0m     response[\u001b[38;5;124m\"\u001b[39m\u001b[38;5;124mvalue\u001b[39m\u001b[38;5;124m\"\u001b[39m] \u001b[38;5;241m=\u001b[39m \u001b[38;5;28mself\u001b[39m\u001b[38;5;241m.\u001b[39m_unwrap_value(response\u001b[38;5;241m.\u001b[39mget(\u001b[38;5;124m\"\u001b[39m\u001b[38;5;124mvalue\u001b[39m\u001b[38;5;124m\"\u001b[39m, \u001b[38;5;28;01mNone\u001b[39;00m))\n\u001b[1;32m    349\u001b[0m     \u001b[38;5;28;01mreturn\u001b[39;00m response\n",
      "File \u001b[0;32m~/opt/anaconda3/lib/python3.9/site-packages/selenium/webdriver/remote/errorhandler.py:229\u001b[0m, in \u001b[0;36mErrorHandler.check_response\u001b[0;34m(self, response)\u001b[0m\n\u001b[1;32m    227\u001b[0m         alert_text \u001b[38;5;241m=\u001b[39m value[\u001b[38;5;124m\"\u001b[39m\u001b[38;5;124malert\u001b[39m\u001b[38;5;124m\"\u001b[39m]\u001b[38;5;241m.\u001b[39mget(\u001b[38;5;124m\"\u001b[39m\u001b[38;5;124mtext\u001b[39m\u001b[38;5;124m\"\u001b[39m)\n\u001b[1;32m    228\u001b[0m     \u001b[38;5;28;01mraise\u001b[39;00m exception_class(message, screen, stacktrace, alert_text)  \u001b[38;5;66;03m# type: ignore[call-arg]  # mypy is not smart enough here\u001b[39;00m\n\u001b[0;32m--> 229\u001b[0m \u001b[38;5;28;01mraise\u001b[39;00m exception_class(message, screen, stacktrace)\n",
      "\u001b[0;31mInvalidArgumentException\u001b[0m: Message: invalid argument\n  (Session info: chrome=122.0.6261.112)\nStacktrace:\n0   chromedriver                        0x00000001009a0508 chromedriver + 3966216\n1   chromedriver                        0x0000000100998a94 chromedriver + 3934868\n2   chromedriver                        0x000000010061bbf4 chromedriver + 277492\n3   chromedriver                        0x000000010060594c chromedriver + 186700\n4   chromedriver                        0x0000000100603d2c chromedriver + 179500\n5   chromedriver                        0x00000001006046f8 chromedriver + 182008\n6   chromedriver                        0x000000010061e1b8 chromedriver + 287160\n7   chromedriver                        0x000000010069720c chromedriver + 782860\n8   chromedriver                        0x0000000100696bf0 chromedriver + 781296\n9   chromedriver                        0x0000000100652fb0 chromedriver + 503728\n10  chromedriver                        0x0000000100653a28 chromedriver + 506408\n11  chromedriver                        0x00000001009656f0 chromedriver + 3725040\n12  chromedriver                        0x0000000100969be4 chromedriver + 3742692\n13  chromedriver                        0x000000010094e1d8 chromedriver + 3629528\n14  chromedriver                        0x000000010096a6e0 chromedriver + 3745504\n15  chromedriver                        0x0000000100941550 chromedriver + 3577168\n16  chromedriver                        0x0000000100988f40 chromedriver + 3870528\n17  chromedriver                        0x00000001009890e4 chromedriver + 3870948\n18  chromedriver                        0x0000000100998704 chromedriver + 3933956\n19  libsystem_pthread.dylib             0x000000018e29e034 _pthread_start + 136\n20  libsystem_pthread.dylib             0x000000018e298e3c thread_start + 8\n"
     ]
    }
   ],
   "source": [
    "## ESOC 478"
   ]
  },
  {
   "cell_type": "code",
   "execution_count": 80,
   "id": "3b0c3a5d",
   "metadata": {},
   "outputs": [],
   "source": [
    "## ESOC 488"
   ]
  },
  {
   "cell_type": "code",
   "execution_count": 81,
   "id": "9e8882d3",
   "metadata": {},
   "outputs": [],
   "source": [
    "## ESOC 495\n"
   ]
  },
  {
   "cell_type": "code",
   "execution_count": 82,
   "id": "cf7d01b0",
   "metadata": {},
   "outputs": [],
   "source": [
    "# Research Methods Courses "
   ]
  },
  {
   "cell_type": "code",
   "execution_count": 83,
   "id": "34047583",
   "metadata": {},
   "outputs": [],
   "source": [
    "## ESOC 302"
   ]
  },
  {
   "cell_type": "code",
   "execution_count": null,
   "id": "59ba0195",
   "metadata": {},
   "outputs": [],
   "source": []
  }
 ],
 "metadata": {
  "kernelspec": {
   "display_name": "Python 3 (ipykernel)",
   "language": "python",
   "name": "python3"
  },
  "language_info": {
   "codemirror_mode": {
    "name": "ipython",
    "version": 3
   },
   "file_extension": ".py",
   "mimetype": "text/x-python",
   "name": "python",
   "nbconvert_exporter": "python",
   "pygments_lexer": "ipython3",
   "version": "3.9.12"
  }
 },
 "nbformat": 4,
 "nbformat_minor": 5
}
