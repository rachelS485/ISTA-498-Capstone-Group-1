{
 "cells": [
  {
   "cell_type": "code",
   "execution_count": 428,
   "id": "a0a961a9",
   "metadata": {
    "pycharm": {
     "name": "#%%\n"
    }
   },
   "outputs": [],
   "source": [
    "from selenium import webdriver \n",
    "from selenium.webdriver.common.by import By\n",
    "from selenium.webdriver.support.ui import WebDriverWait\n",
    "from selenium.webdriver.support import expected_conditions as EC"
   ]
  },
  {
   "cell_type": "code",
   "execution_count": 543,
   "id": "677d6816",
   "metadata": {
    "pycharm": {
     "name": "#%%\n"
    }
   },
   "outputs": [],
   "source": [
    "driver = webdriver.Chrome()"
   ]
  },
  {
   "cell_type": "code",
   "execution_count": 544,
   "id": "9ac7d526",
   "metadata": {
    "pycharm": {
     "name": "#%%\n"
    }
   },
   "outputs": [],
   "source": [
    "courses = \"https://catalog.arizona.edu/courses?page=1&cq=\"\n",
    "driver.get(courses)"
   ]
  },
  {
   "cell_type": "code",
   "execution_count": 431,
   "id": "ec741635",
   "metadata": {
    "pycharm": {
     "name": "#%%\n"
    }
   },
   "outputs": [],
   "source": [
    "core_courses= [\"ISTA116\", \"ISTA130\",\"ISTA131\",\"ISTA161\"]\n",
    "emphasis_datascience= [\"ESOC 414\",\"ISTA311\",\"ISTA320\",\"ISTA321\",\"ISTA322\",\"ISTA331\",\"ISTA350\",\"ISTA355\",\"ISTA410\",\"ISTA421\",\"ISTA429\",\"ISTA321\",\"ISTA439\",\"ISTA450\",\"ISTA455\",\"ISTA456\",\"ISTA457\",\"LIS470\"]\n",
    "emphasis_interactive_immersive_technologies = [\"GAME425\", \"GAME451\",\"ISTA303\",\"ISTA320\", \"ISTA330\", \"ISTA350\", \"ISTA403\", \"ISTA416\", \"ISTA424\", \"ISTA495\"]\n",
    "computational_arts_media = [\"ESOC300\",\"ESOC340\", \"ISTA301\",\"ISTA302\",\"ISTA303\", \"ISTA329\", \"ISTA352\",\"ISTA401\",\"ISTA403\"]\n",
    "society = [\"ESOC313\",\"ESOC314\",\"ESOC315\",\"ESOC316\",\"ESOC317\", \"ESOC318\",\"ESOC319\", \"ESOC330\", \"ESOC477\", \"ESOC478\", \"ESOC488\", \"ESOC495\"]\n",
    "research_method = [\"ESOC302\"]\n",
    "engangement=[\"ESOC480\",\"ISTA498\"]\n",
    "\n"
   ]
  },
  {
   "cell_type": "markdown",
   "id": "8787561a",
   "metadata": {
    "pycharm": {
     "name": "#%% md\n"
    }
   },
   "source": [
    "# Core"
   ]
  },
  {
   "cell_type": "code",
   "execution_count": 432,
   "id": "1b6950b9",
   "metadata": {
    "pycharm": {
     "name": "#%%\n"
    }
   },
   "outputs": [],
   "source": [
    "core= []"
   ]
  },
  {
   "cell_type": "code",
   "execution_count": 433,
   "id": "8d9529a4",
   "metadata": {
    "pycharm": {
     "name": "#%%\n"
    }
   },
   "outputs": [
    {
     "name": "stdout",
     "output_type": "stream",
     "text": [
      "\n",
      "\n",
      "\n"
     ]
    }
   ],
   "source": [
    "courses =  \"https://catalog.arizona.edu/courses?page=1&cq=\"+\"ISTA100\"\n",
    "driver.get(courses)\n",
    "    \n",
    "#Pressing the course button\n",
    "course_btn_path = '//*[@id=\"courses-list\"]/div/div[2]/div/button'\n",
    "course_btn = driver.find_element(By.XPATH, course_btn_path)\n",
    "course_btn.click()\n",
    "\n",
    "#Getting the course name, printing it (to make sure it works), appending to the respective list  \n",
    "course_name= driver.find_elements(By.XPATH,'//*[@id=\"main-content\"]/main/aside[2]/div/div/div/div[3]/h1')\n",
    "#The for loop will print the name of the course name.\n",
    "for name in course_name:\n",
    "    print(name.text)\n",
    "    \n",
    "#Getting the course description, printing it (to make sure it works), appending to the respective list  \n",
    "course_desc= driver.find_elements(By.XPATH,'//*[@id=\"main-content\"]/main/aside[2]/div/div/div/div[3]/div[3]/div/div[1]/div/div/div')\n",
    "#The for loop will print the name of the course name.\n",
    "for desc in course_desc:\n",
    "    print(desc.text)\n",
    "\n",
    "#Getting the course unit, printing it (to make sure it works), appending to the respective list  \n",
    "course_unit= driver.find_elements(By.XPATH,'//*[@id=\"main-content\"]/main/aside[2]/div/div/div/div[3]/div[3]/div/div[2]/div/div/div[1]/div/div[1]/div[1]/div')\n",
    "#The for loop will print the name of the course name.\n",
    "for unit in course_unit:\n",
    "    print(unit.text)\n",
    "\n",
    "core.append([name.text,desc.text,unit.text])\n",
    "\n"
   ]
  },
  {
   "cell_type": "code",
   "execution_count": 434,
   "id": "7b0f2634",
   "metadata": {
    "pycharm": {
     "name": "#%%\n"
    }
   },
   "outputs": [
    {
     "name": "stdout",
     "output_type": "stream",
     "text": [
      "ISTA116 - Statistical Foundations for the Information Age\n",
      "Understanding uncertainty and variation in modern data: data summarization and description, rules of counting and basic probability, data visualization, graphical data summaries, working with large data sets, prediction of stochastic outputs from quantitative inputs. Operations with statistical computer packages such as R.\n",
      "3\n"
     ]
    }
   ],
   "source": [
    "courses = \"https://catalog.arizona.edu/courses?page=1&cq=\" + \"ISTA116\"\n",
    "driver.get(courses)\n",
    "    \n",
    "#Pressing the course button\n",
    "course_btn_path = '//*[@id=\"courses-list\"]/div/div[2]/div/button'\n",
    "course_btn = driver.find_element(By.XPATH, course_btn_path)\n",
    "course_btn.click()\n",
    "\n",
    "#Getting the course name, printing it (to make sure it works), appending to the respective list  \n",
    "course_name= driver.find_elements(By.XPATH,'//*[@id=\"main-content\"]/main/aside[2]/div/div/div/div[3]/h1')\n",
    "#The for loop will print the name of the course name.\n",
    "for name in course_name:\n",
    "    print(name.text)\n",
    "    \n",
    "#Getting the course description, printing it (to make sure it works), appending to the respective list  \n",
    "course_desc= driver.find_elements(By.XPATH,'//*[@id=\"main-content\"]/main/aside[2]/div/div/div/div[3]/div[3]/div/div[1]/div/div/div')\n",
    "#The for loop will print the name of the course name.\n",
    "for desc in course_desc:\n",
    "    print(desc.text)\n",
    "    \n",
    "#Getting the course unit, printing it (to make sure it works), appending to the respective list  \n",
    "course_unit= driver.find_elements(By.XPATH,'//*[@id=\"main-content\"]/main/aside[2]/div/div/div/div[3]/div[3]/div/div[2]/div/div/div[1]/div/div[1]/div[1]/div')\n",
    "#The for loop will print the name of the course name.\n",
    "for unit in course_unit:\n",
    "    print(unit.text)\n",
    "\n",
    "core.append([name.text,desc.text,unit.text])\n"
   ]
  },
  {
   "cell_type": "code",
   "execution_count": 435,
   "id": "8b2f44a7",
   "metadata": {
    "pycharm": {
     "name": "#%%\n"
    }
   },
   "outputs": [
    {
     "name": "stdout",
     "output_type": "stream",
     "text": [
      "ISTA130 - Computational Thinking and Doing\n",
      "An introduction to computational techniques and using a modern programming language to solve current problems drawn from science, technology, and the arts. Topics include control structures, elementary data structures, and effective program design and implementation techniques. Weekly laboratory.\n",
      "4\n"
     ]
    }
   ],
   "source": [
    "courses =  \"https://catalog.arizona.edu/courses?page=1&cq=\"+\"ISTA130\"\n",
    "driver.get(courses)\n",
    "    \n",
    "#Pressing the course button\n",
    "course_btn_path = '//*[@id=\"courses-list\"]/div/div[2]/div/button'\n",
    "course_btn = driver.find_element(By.XPATH, course_btn_path)\n",
    "course_btn.click()\n",
    "\n",
    "#Getting the course name, printing it (to make sure it works), appending to the respective list  \n",
    "course_name= driver.find_elements(By.XPATH,'//*[@id=\"main-content\"]/main/aside[2]/div/div/div/div[3]/h1')\n",
    "#The for loop will print the name of the course name.\n",
    "for name in course_name:\n",
    "    print(name.text)\n",
    "    \n",
    "#Getting the course description, printing it (to make sure it works), appending to the respective list  \n",
    "course_desc= driver.find_elements(By.XPATH,'//*[@id=\"main-content\"]/main/aside[2]/div/div/div/div[3]/div[3]/div/div[1]/div/div/div')\n",
    "#The for loop will print the name of the course name.\n",
    "for desc in course_desc:\n",
    "    print(desc.text)\n",
    "\n",
    "#Getting the course unit, printing it (to make sure it works), appending to the respective list  \n",
    "course_unit= driver.find_elements(By.XPATH,'//*[@id=\"main-content\"]/main/aside[2]/div/div/div/div[3]/div[3]/div/div[2]/div/div/div[1]/div/div[1]/div[1]/div')\n",
    "#The for loop will print the name of the course name.\n",
    "for unit in course_unit:\n",
    "    print(unit.text)\n",
    "\n",
    "core.append([name.text,desc.text,unit.text])\n",
    "\n"
   ]
  },
  {
   "cell_type": "code",
   "execution_count": 436,
   "id": "b75a5691",
   "metadata": {
    "pycharm": {
     "name": "#%%\n"
    }
   },
   "outputs": [
    {
     "name": "stdout",
     "output_type": "stream",
     "text": [
      "ISTA131 - Dealing with Data\n",
      "At the core of Information Science lies the digital data that is the object of study. This course aims to introduce the tools, techniques, and issues involved with the handling of this data: where it comes from, how to store and retrieve it, how to extract knowledge from the data via analysis, and the social, ethical, and legal issues involved in its use. Throughout the course, students will be given hands-on experience with actual datasets from a variety of sources including social media and citizen science projects, as well as experience with common tools for analysis and visualization. Students will also examine topical case studies involving legal and ethical issues surrounding data.\n",
      "4\n"
     ]
    }
   ],
   "source": [
    "courses =  \"https://catalog.arizona.edu/courses?page=1&cq=\"+\"ISTA131\"\n",
    "driver.get(courses)\n",
    "    \n",
    "#Pressing the course button\n",
    "course_btn_path = ' //*[@id=\"courses-list\"]/div/div[2]/div/button'\n",
    "course_btn = driver.find_element(By.XPATH, course_btn_path)\n",
    "course_btn.click()\n",
    "\n",
    "#Getting the course name, printing it (to make sure it works), appending to the respective list  \n",
    "course_name= driver.find_elements(By.XPATH,'//*[@id=\"main-content\"]/main/aside[2]/div/div/div/div[3]/h1')\n",
    "#The for loop will print the name of the course name.\n",
    "for name in course_name:\n",
    "    print(name.text)\n",
    "    \n",
    "#Getting the course description, printing it (to make sure it works), appending to the respective list  \n",
    "course_desc= driver.find_elements(By.XPATH,'//*[@id=\"main-content\"]/main/aside[2]/div/div/div/div[3]/div[3]/div/div[1]/div/div/div')\n",
    "#The for loop will print the name of the course name.\n",
    "for desc in course_desc:\n",
    "    print(desc.text)\n",
    "\n",
    "#Getting the course unit, printing it (to make sure it works), appending to the respective list  \n",
    "course_unit= driver.find_elements(By.XPATH,'//*[@id=\"main-content\"]/main/aside[2]/div/div/div/div[3]/div[3]/div/div[2]/div/div/div[1]/div/div[1]/div[1]/div')\n",
    "#The for loop will print the name of the course name.\n",
    "for unit in course_unit:\n",
    "    print(unit.text)\n",
    "\n",
    "core.append([name.text,desc.text,unit.text])\n",
    "\n"
   ]
  },
  {
   "cell_type": "code",
   "execution_count": 438,
   "id": "487402d3",
   "metadata": {
    "pycharm": {
     "name": "#%%\n"
    }
   },
   "outputs": [
    {
     "name": "stdout",
     "output_type": "stream",
     "text": [
      "ISTA161 - Ethics in a Digital World\n",
      "This course explores the social, legal, and cultural fallout from the exponential explosion in communication, storage, and increasing uses of data and data production. In this class, we emphasize the opposing potentials of information technologies to make knowledge widely available and to distort and restrict our perceptions. In a world of rapid technological change, topics include (but are not limited to): eavesdropping and secret communications, privacy; Internet censorship and filtering, cyberwarfare, computer ethics and ethical behavior, copyright protection and peer-to-peer networks, broadcast and telecommunications regulation, including net neutrality, data leakage, and the power and control of search engines.\n",
      "3\n"
     ]
    }
   ],
   "source": [
    "courses =  \"https://catalog.arizona.edu/courses?page=1&cq=\"+\"ISTA161\"\n",
    "driver.get(courses)\n",
    "    \n",
    "#Pressing the course button\n",
    "course_btn_path = '//*[@id=\"courses-list\"]/div/div[2]/div/button'\n",
    "course_btn = driver.find_element(By.XPATH, course_btn_path)\n",
    "course_btn.click()\n",
    "\n",
    "#Getting the course name, printing it (to make sure it works), appending to the respective list  \n",
    "course_name= driver.find_elements(By.XPATH,'//*[@id=\"main-content\"]/main/aside[2]/div/div/div/div[3]/h1')\n",
    "#The for loop will print the name of the course name.\n",
    "for name in course_name:\n",
    "    print(name.text)\n",
    "    \n",
    "#Getting the course description, printing it (to make sure it works), appending to the respective list  \n",
    "course_desc= driver.find_elements(By.XPATH,'//*[@id=\"main-content\"]/main/aside[2]/div/div/div/div[3]/div[3]/div/div[1]/div/div/div')\n",
    "#The for loop will print the name of the course name.\n",
    "for desc in course_desc:\n",
    "    print(desc.text)\n",
    "\n",
    "#Getting the course unit, printing it (to make sure it works), appending to the respective list  \n",
    "course_unit= driver.find_elements(By.XPATH,'//*[@id=\"main-content\"]/main/aside[2]/div/div/div/div[3]/div[3]/div/div[2]/div/div/div[1]/div/div[1]/div[1]/div')\n",
    "#The for loop will print the name of the course name.\n",
    "for unit in course_unit:\n",
    "    print(unit.text)\n",
    "    \n",
    "core.append([name.text,desc.text,unit.text])\n",
    "\n"
   ]
  },
  {
   "cell_type": "code",
   "execution_count": 440,
   "id": "7d6d3e3c",
   "metadata": {
    "pycharm": {
     "name": "#%%\n"
    }
   },
   "outputs": [
    {
     "name": "stdout",
     "output_type": "stream",
     "text": [
      "ESOC414 - Computational Social Science\n",
      "This course will introduce you to the burgeoning methodological subfield called computational social science: An evolving bundle of computationally sophisticated techniques that are increasingly used to answer research questions in the social sciences. The goal of the course is for you to learn how to produce your own computational social science research project aimed at a scholarly outlet. The course will survey the latest published research and train you in research design, methods, and techniques in computational social science. This might include topics such as Big Data, data visualization, social network analysis, agent-based modeling, and natural language processing, as well as identifying and developing variables, mechanisms, and research questions motivated by social science research. The course will also delve into the growing ethical challenges and considerations associated with computational social science research. The course is set up to welcome people from many different backgrounds, in particular those with or without prior exposure to programming, statistics, or the social sciences.\n",
      "3\n"
     ]
    }
   ],
   "source": [
    "courses =  \"https://catalog.arizona.edu/courses?page=1&cq=\"+\"ESOC414\"\n",
    "driver.get(courses)\n",
    "    \n",
    "#Pressing the course button\n",
    "course_btn_path = '//*[@id=\"courses-list\"]/div/div[2]/div/button'\n",
    "course_btn = driver.find_element(By.XPATH, course_btn_path)\n",
    "course_btn.click()\n",
    "\n",
    "#Getting the course name, printing it (to make sure it works), appending to the respective list  \n",
    "course_name= driver.find_elements(By.XPATH,'//*[@id=\"main-content\"]/main/aside[2]/div/div/div/div[3]/h1')\n",
    "#The for loop will print the name of the course name.\n",
    "for name in course_name:\n",
    "    print(name.text)\n",
    "    \n",
    "#Getting the course description, printing it (to make sure it works), appending to the respective list  \n",
    "course_desc= driver.find_elements(By.XPATH,'//*[@id=\"main-content\"]/main/aside[2]/div/div/div/div[3]/div[3]/div/div[1]/div/div/div')\n",
    "#The for loop will print the name of the course name.\n",
    "for desc in course_desc:\n",
    "    print(desc.text)\n",
    "\n",
    "#Getting the course unit, printing it (to make sure it works), appending to the respective list  \n",
    "course_unit= driver.find_elements(By.XPATH,'//*[@id=\"main-content\"]/main/aside[2]/div/div/div/div[3]/div[3]/div/div[2]/div/div/div[1]/div/div[1]/div[1]/div')\n",
    "#The for loop will print the name of the course name.\n",
    "for unit in course_unit:\n",
    "    print(unit.text)\n",
    "\n",
    "core.append([name.text,desc.text,unit.text])\n",
    "\n"
   ]
  },
  {
   "cell_type": "code",
   "execution_count": 449,
   "id": "bbcc5399",
   "metadata": {
    "pycharm": {
     "name": "#%%\n"
    }
   },
   "outputs": [
    {
     "name": "stdout",
     "output_type": "stream",
     "text": [
      "ISTA311 - Foundation of Information and Inference\n",
      "An introduction to the mathematical theories of probability and information as tools for inference, decision-making, and efficient communication. Topics include discrete and continuous random variables, measures of information and uncertainty, discrete time/discrete state Markov chains, elements of Bayesian inference and decision-making, Bayesian and Maximum Likelihood parameter estimation, and elementary coding theory.\n",
      "3\n"
     ]
    }
   ],
   "source": [
    "courses =  \"https://catalog.arizona.edu/courses?page=1&cq=\"+\"ISTA311\"\n",
    "driver.get(courses)\n",
    "    \n",
    "#Pressing the course button\n",
    "course_btn_path = '//*[@id=\"courses-list\"]/div/div[2]/div/button'\n",
    "course_btn = driver.find_element(By.XPATH, course_btn_path)\n",
    "course_btn.click()\n",
    "\n",
    "#Getting the course name, printing it (to make sure it works), appending to the respective list  \n",
    "course_name= driver.find_elements(By.XPATH,'//*[@id=\"main-content\"]/main/aside[2]/div/div/div/div[3]/h1')\n",
    "#The for loop will print the name of the course name.\n",
    "for name in course_name:\n",
    "    print(name.text)\n",
    "    \n",
    "#Getting the course description, printing it (to make sure it works), appending to the respective list  \n",
    "course_desc= driver.find_elements(By.XPATH,'//*[@id=\"main-content\"]/main/aside[2]/div/div/div/div[3]/div[3]/div/div[1]/div/div/div')\n",
    "#The for loop will print the name of the course name.\n",
    "for desc in course_desc:\n",
    "    print(desc.text)\n",
    "\n",
    "#Getting the course unit, printing it (to make sure it works), appending to the respective list  \n",
    "course_unit= driver.find_elements(By.XPATH,'//*[@id=\"main-content\"]/main/aside[2]/div/div/div/div[3]/div[3]/div/div[2]/div/div/div[1]/div/div[1]/div[1]/div')\n",
    "#The for loop will print the name of the course name.\n",
    "for unit in course_unit:\n",
    "    print(unit.text)\n",
    "\n",
    "core.append([name.text,desc.text,unit.text])\n",
    "\n"
   ]
  },
  {
   "cell_type": "code",
   "execution_count": 450,
   "id": "bb8b4a34",
   "metadata": {
    "pycharm": {
     "name": "#%%\n"
    }
   },
   "outputs": [
    {
     "name": "stdout",
     "output_type": "stream",
     "text": [
      "ISTA320 - Applied Data Visualization\n",
      "This course will introduce students to the fundamental concepts and tools used to convey the information contained within large, complex data sets through a variety of visualization techniques. Students will learn the fundamentals of data exploration data via visualizations, how to manipulate and reshape data to make it suitable for visualization, and how to prepare everything from simple single-variable visualizations to large multi-tiered and interactive visualizations. Visualization theory will be presented alongside the technical aspect of the course to develop a holistic understanding of the topic.\n",
      "3\n"
     ]
    }
   ],
   "source": [
    "courses =  \"https://catalog.arizona.edu/courses?page=1&cq=\"+\"ISTA320\"\n",
    "driver.get(courses)\n",
    "    \n",
    "#Pressing the course button\n",
    "course_btn_path = '//*[@id=\"courses-list\"]/div/div[2]/div/button'\n",
    "course_btn = driver.find_element(By.XPATH, course_btn_path)\n",
    "course_btn.click()\n",
    "\n",
    "#Getting the course name, printing it (to make sure it works), appending to the respective list  \n",
    "course_name= driver.find_elements(By.XPATH,'//*[@id=\"main-content\"]/main/aside[2]/div/div/div/div[3]/h1')\n",
    "#The for loop will print the name of the course name.\n",
    "for name in course_name:\n",
    "    print(name.text)\n",
    "    \n",
    "#Getting the course description, printing it (to make sure it works), appending to the respective list  \n",
    "course_desc= driver.find_elements(By.XPATH,'//*[@id=\"main-content\"]/main/aside[2]/div/div/div/div[3]/div[3]/div/div[1]/div/div/div')\n",
    "#The for loop will print the name of the course name.\n",
    "for desc in course_desc:\n",
    "    print(desc.text)\n",
    "\n",
    "#Getting the course unit, printing it (to make sure it works), appending to the respective list  \n",
    "course_unit= driver.find_elements(By.XPATH,'//*[@id=\"main-content\"]/main/aside[2]/div/div/div/div[3]/div[3]/div/div[2]/div/div/div[1]/div/div[1]/div[1]/div')\n",
    "#The for loop will print the name of the course name.\n",
    "for unit in course_unit:\n",
    "    print(unit.text)\n",
    "    \n",
    "core.append([name.text,desc.text,unit.text])\n",
    "\n"
   ]
  },
  {
   "cell_type": "code",
   "execution_count": 451,
   "id": "78819c3e",
   "metadata": {
    "pycharm": {
     "name": "#%%\n"
    }
   },
   "outputs": [
    {
     "name": "stdout",
     "output_type": "stream",
     "text": [
      "ISTA321 - Data Mining and Discovery\n",
      "This course will introduce students to the theory and practice of data mining for knowledge discovery. This includes methods developed in the fields of statistics, large-scale data analytics, machine learning and artificial intelligence for automatic or semi-automatic analysis of large quantities of data to extract previously unknown interesting patterns. Topics include understanding varieties of data, classification, association rule analysis, cluster analysis, and anomaly detection. We will use software packages for data mining, explaining the underlying algorithms and their use and limitations. The course include laboratory exercises, with data mining case studies using data from biological sequences and networks, social networks, linguistics, ecology, geo-spatial applications, marketing and psychology.\n",
      "3\n"
     ]
    }
   ],
   "source": [
    "courses =  \"https://catalog.arizona.edu/courses?page=1&cq=\"+\"ISTA321\"\n",
    "driver.get(courses)\n",
    "#Pressing the course button\n",
    "course_btn_path = '//*[@id=\"courses-list\"]/div/div[2]/div/button'\n",
    "course_btn = driver.find_element(By.XPATH, course_btn_path)\n",
    "course_btn.click()\n",
    "\n",
    "#Getting the course name, printing it (to make sure it works), appending to the respective list  \n",
    "course_name= driver.find_elements(By.XPATH,'//*[@id=\"main-content\"]/main/aside[2]/div/div/div/div[3]/h1')\n",
    "#The for loop will print the name of the course name.\n",
    "for name in course_name:\n",
    "    print(name.text)\n",
    "    \n",
    "#Getting the course description, printing it (to make sure it works), appending to the respective list  \n",
    "course_desc= driver.find_elements(By.XPATH,'//*[@id=\"main-content\"]/main/aside[2]/div/div/div/div[3]/div[3]/div/div[1]/div/div/div')\n",
    "#The for loop will print the name of the course name.\n",
    "for desc in course_desc:\n",
    "    print(desc.text)\n",
    "\n",
    "#Getting the course unit, printing it (to make sure it works), appending to the respective list  \n",
    "course_unit= driver.find_elements(By.XPATH,'//*[@id=\"main-content\"]/main/aside[2]/div/div/div/div[3]/div[3]/div/div[2]/div/div/div[1]/div/div[1]/div[1]/div')\n",
    "#The for loop will print the name of the course name.\n",
    "for unit in course_unit:\n",
    "    print(unit.text)\n",
    "\n",
    "core.append([name.text,desc.text,unit.text])"
   ]
  },
  {
   "cell_type": "code",
   "execution_count": 454,
   "id": "9470ebfd",
   "metadata": {
    "pycharm": {
     "name": "#%%\n"
    }
   },
   "outputs": [
    {
     "name": "stdout",
     "output_type": "stream",
     "text": [
      "ISTA322 - Data Engineering\n",
      "This course will be inviting for a wide variety of students from across disciplines, and they will learn how to use industry standard tools and practices to make large data sets usable for scientists and other decision makers. From data collection and preparation, to the creation of big data stores, databases, or systems to make data flow, this course will focus on the practical work needed to prepare big data for analyses across contexts. Students will be introduced to a variety of technical tools for data management, storage, use, and manipulation.\n",
      "3\n"
     ]
    }
   ],
   "source": [
    "courses =  \"https://catalog.arizona.edu/courses?page=1&cq=\"+\"ISTA322\"\n",
    "driver.get(courses)\n",
    "\n",
    "#Pressing the course button\n",
    "course_btn_path = ' //*[@id=\"courses-list\"]/div/div[2]/div/button'\n",
    "course_btn = driver.find_element(By.XPATH, course_btn_path)\n",
    "course_btn.click()\n",
    "\n",
    "#Getting the course name, printing it (to make sure it works), appending to the respective list  \n",
    "course_name= driver.find_elements(By.XPATH,'//*[@id=\"main-content\"]/main/aside[2]/div/div/div/div[3]/h1')\n",
    "#The for loop will print the name of the course name.\n",
    "for name in course_name:\n",
    "    print(name.text)\n",
    "    \n",
    "#Getting the course description, printing it (to make sure it works), appending to the respective list  \n",
    "course_desc= driver.find_elements(By.XPATH,'//*[@id=\"main-content\"]/main/aside[2]/div/div/div/div[3]/div[3]/div/div[1]/div/div/div')\n",
    "#The for loop will print the name of the course name.\n",
    "for desc in course_desc:\n",
    "    print(desc.text)\n",
    "\n",
    "#Getting the course unit, printing it (to make sure it works), appending to the respective list  \n",
    "course_unit= driver.find_elements(By.XPATH,'//*[@id=\"main-content\"]/main/aside[2]/div/div/div/div[3]/div[3]/div/div[2]/div/div/div[1]/div/div[1]/div[1]/div')\n",
    "#The for loop will print the name of the course name.\n",
    "for unit in course_unit:\n",
    "    print(unit.text)\n",
    "    \n",
    "core.append([name.text,desc.text,unit.text])"
   ]
  },
  {
   "cell_type": "code",
   "execution_count": 455,
   "id": "6f53cd05",
   "metadata": {
    "pycharm": {
     "name": "#%%\n"
    }
   },
   "outputs": [
    {
     "name": "stdout",
     "output_type": "stream",
     "text": [
      "ISTA331 - Principles and Practice of Data Science\n",
      "ISTA 331 explores the ideas and techniques that businesspersons and scientists alike use to exploit data in order to create knowledge and make money. Topics and projects may include recommender systems (which powered Amazon's rise to global retail dominance), spam filters (the first machine learning application that affected our daily lives), topic extraction from documents, and an introduction to neural networks.\n",
      "3\n"
     ]
    }
   ],
   "source": [
    "courses =  \"https://catalog.arizona.edu/courses?page=1&cq=\"+ \"ISTA331\"\n",
    "driver.get(courses)\n",
    "    \n",
    "#Pressing the course button\n",
    "course_btn_path = ' //*[@id=\"courses-list\"]/div/div[2]/div/button'\n",
    "course_btn = driver.find_element(By.XPATH, course_btn_path)\n",
    "course_btn.click()\n",
    "\n",
    "#Getting the course name, printing it (to make sure it works), appending to the respective list  \n",
    "course_name= driver.find_elements(By.XPATH,'//*[@id=\"main-content\"]/main/aside[2]/div/div/div/div[3]/h1')\n",
    "#The for loop will print the name of the course name.\n",
    "for name in course_name:\n",
    "    print(name.text)\n",
    "    \n",
    "#Getting the course description, printing it (to make sure it works), appending to the respective list  \n",
    "course_desc= driver.find_elements(By.XPATH,'//*[@id=\"main-content\"]/main/aside[2]/div/div/div/div[3]/div[3]/div/div[1]/div/div/div')\n",
    "#The for loop will print the name of the course name.\n",
    "for desc in course_desc:\n",
    "    print(desc.text)\n",
    "\n",
    "#Getting the course unit, printing it (to make sure it works), appending to the respective list  \n",
    "course_unit= driver.find_elements(By.XPATH,'//*[@id=\"main-content\"]/main/aside[2]/div/div/div/div[3]/div[3]/div/div[2]/div/div/div[1]/div/div[1]/div[1]/div')\n",
    "#The for loop will print the name of the course name.\n",
    "for unit in course_unit:\n",
    "    print(unit.text)\n",
    "\n",
    "core.append([name.text,desc.text,unit.text])"
   ]
  },
  {
   "cell_type": "code",
   "execution_count": 456,
   "id": "65cafefe",
   "metadata": {
    "pycharm": {
     "name": "#%%\n"
    }
   },
   "outputs": [
    {
     "name": "stdout",
     "output_type": "stream",
     "text": [
      "ISTA350 - Programming for Informatics Applications\n",
      "This course will provide an introduction to informatics application programming using the python programming language and applying statistical concepts from a first semester statistics course. A key goal of this course is to prepare students for upper division ISTA courses by expanding on the skills gained in ISTA 116 and 130 but will be broadly applicable to any informatics discipline. Throughout the semester students will be faced with information application problems drawn from several different disciplines in order to expand their breadth of experience while simultaneously increasing their depth of knowledge of scientific and informatics programming methods. Students will practice problem decomposition and abstraction, gaining experience in identifying commonly occurring information processing issues and in applying well-known solutions. In addition, students will design their own algorithmic solutions to problems and will learn how to effectively compare different solutions, evaluating efficiency in order to choose the best solution for a given problem. Periodic code reviews will be held in order to expose students to a range of different solution methods, which will aid them in discovering weaknesses in their own work and will improve their ability to communicate with others on technical topics. The course will include an introduction to the python scientific computing libraries and other statistical packages. Additional course topics will include the use of version control systems, software profiling, general software engineering practices and basic shell scripting.\n",
      "4\n"
     ]
    }
   ],
   "source": [
    "courses =  \"https://catalog.arizona.edu/courses?page=1&cq=\"+ \"ISTA350\"\n",
    "driver.get(courses)\n",
    "    \n",
    "#Pressing the course button\n",
    "course_btn_path = ' //*[@id=\"courses-list\"]/div/div[2]/div/button'\n",
    "course_btn = driver.find_element(By.XPATH, course_btn_path)\n",
    "course_btn.click()\n",
    "\n",
    "#Getting the course name, printing it (to make sure it works), appending to the respective list  \n",
    "course_name= driver.find_elements(By.XPATH,'//*[@id=\"main-content\"]/main/aside[2]/div/div/div/div[3]/h1')\n",
    "#The for loop will print the name of the course name.\n",
    "for name in course_name:\n",
    "    print(name.text)\n",
    "    \n",
    "#Getting the course description, printing it (to make sure it works), appending to the respective list  \n",
    "course_desc= driver.find_elements(By.XPATH,'//*[@id=\"main-content\"]/main/aside[2]/div/div/div/div[3]/div[3]/div/div[1]/div/div/div')\n",
    "#The for loop will print the name of the course name.\n",
    "for desc in course_desc:\n",
    "    print(desc.text)\n",
    "\n",
    "#Getting the course unit, printing it (to make sure it works), appending to the respective list  \n",
    "course_unit= driver.find_elements(By.XPATH,'//*[@id=\"main-content\"]/main/aside[2]/div/div/div/div[3]/div[3]/div/div[2]/div/div/div[1]/div/div[1]/div[1]/div')\n",
    "#The for loop will print the name of the course name.\n",
    "for unit in course_unit:\n",
    "    print(unit.text)\n",
    "\n",
    "core.append([name.text,desc.text,unit.text])"
   ]
  },
  {
   "cell_type": "code",
   "execution_count": 457,
   "id": "034c2810",
   "metadata": {
    "pycharm": {
     "name": "#%%\n"
    }
   },
   "outputs": [
    {
     "name": "stdout",
     "output_type": "stream",
     "text": [
      "ISTA355 - Introduction to Natural Language Processing\n",
      "Natural language processing (NLP) is the study of how we can teach computers to use language by extracting knowledge from text, and then use that knowledge in some meaningful way. In this introductory course, we will examine the fundamental components on which natural language processing systems are built, including frequency distributions, part of speech tagging, syntactic parsing, semantics and analyzing meaning, search, introductory information and relation extraction, and structured knowledge resources. We will also examine pragmatic concerns in processing raw text from real-world sources.\n",
      "3\n"
     ]
    }
   ],
   "source": [
    "courses =  \"https://catalog.arizona.edu/courses?page=1&cq=\"+ \"ISTA355\"\n",
    "driver.get(courses)\n",
    "    \n",
    "#Pressing the course button\n",
    "course_btn_path = '//*[@id=\"courses-list\"]/div/div[2]/div/button'\n",
    "course_btn = driver.find_element(By.XPATH, course_btn_path)\n",
    "course_btn.click()\n",
    "\n",
    "#Getting the course name, printing it (to make sure it works), appending to the respective list  \n",
    "course_name= driver.find_elements(By.XPATH,'//*[@id=\"main-content\"]/main/aside[2]/div/div/div/div[3]/h1')\n",
    "#The for loop will print the name of the course name.\n",
    "for name in course_name:\n",
    "    print(name.text)\n",
    "    \n",
    "#Getting the course description, printing it (to make sure it works), appending to the respective list  \n",
    "course_desc= driver.find_elements(By.XPATH,'//*[@id=\"main-content\"]/main/aside[2]/div/div/div/div[3]/div[3]/div/div[1]/div/div/div')\n",
    "#The for loop will print the name of the course name.\n",
    "for desc in course_desc:\n",
    "    print(desc.text)\n",
    "    \n",
    "#Getting the course unit, printing it (to make sure it works), appending to the respective list  \n",
    "course_unit= driver.find_elements(By.XPATH,'//*[@id=\"main-content\"]/main/aside[2]/div/div/div/div[3]/div[3]/div/div[2]/div/div/div[1]/div/div[1]/div[1]/div')\n",
    "#The for loop will print the name of the course name.\n",
    "for unit in course_unit:\n",
    "    print(unit.text)\n",
    "\n",
    "core.append([name.text,desc.text,unit.text])"
   ]
  },
  {
   "cell_type": "code",
   "execution_count": 458,
   "id": "ed84d4f5",
   "metadata": {
    "pycharm": {
     "name": "#%%\n"
    }
   },
   "outputs": [
    {
     "name": "stdout",
     "output_type": "stream",
     "text": [
      "ISTA410 - Bayesian Modeling and Inference\n",
      "Bayesian modeling and inference is a powerful modern approach to representing the statistics of the world, reasoning about the world in the face of uncertainty, and learning about it from data. It cleanly separates the notions of representation, reasoning, and learning. It provides a principled framework for combining multiple source of information such as prior knowledge about the world with evidence about a particular case in observed data. This course will provide a solid introduction to the methodology and associated techniques, and show how they are applied in diverse domains ranging from computer vision to molecular biology to astronomy.\n",
      "3\n"
     ]
    }
   ],
   "source": [
    "courses =  \"https://catalog.arizona.edu/courses?page=1&cq=\"+ \"ISTA410\"\n",
    "driver.get(courses)\n",
    "    \n",
    "#Pressing the course button\n",
    "course_btn_path = ' //*[@id=\"courses-list\"]/div/div[2]/div/button'\n",
    "course_btn = driver.find_element(By.XPATH, course_btn_path)\n",
    "course_btn.click()\n",
    "\n",
    "#Getting the course name, printing it (to make sure it works), appending to the respective list  \n",
    "course_name= driver.find_elements(By.XPATH,'//*[@id=\"main-content\"]/main/aside[2]/div/div/div/div[3]/h1')\n",
    "#The for loop will print the name of the course name.\n",
    "for name in course_name:\n",
    "    print(name.text)\n",
    "    \n",
    "#Getting the course description, printing it (to make sure it works), appending to the respective list  \n",
    "course_desc= driver.find_elements(By.XPATH,'//*[@id=\"main-content\"]/main/aside[2]/div/div/div/div[3]/div[3]/div/div[1]/div/div/div')\n",
    "#The for loop will print the name of the course name.\n",
    "for desc in course_desc:\n",
    "    print(desc.text)\n",
    "\n",
    "#Getting the course unit, printing it (to make sure it works), appending to the respective list  \n",
    "course_unit= driver.find_elements(By.XPATH,'//*[@id=\"main-content\"]/main/aside[2]/div/div/div/div[3]/div[3]/div/div[2]/div/div/div[1]/div/div[1]/div[1]/div')\n",
    "#The for loop will print the name of the course name.\n",
    "for unit in course_unit:\n",
    "    print(unit.text)\n",
    "\n",
    "\n",
    "core.append([name.text,desc.text,unit.text])    "
   ]
  },
  {
   "cell_type": "code",
   "execution_count": 459,
   "id": "c0088c35",
   "metadata": {
    "pycharm": {
     "name": "#%%\n"
    }
   },
   "outputs": [
    {
     "name": "stdout",
     "output_type": "stream",
     "text": [
      "ISTA421 - Introduction to Machine Learning\n",
      "Machine learning describes algorithms which can modify their internal parameters (i.e., \\\"learn\\\") to recognize patterns and make decisions based on examples or through interaction with the environment. This course will introduce the fundamentals of machine learning, will describe how to implement several practical methods for pattern recognition, feature selection, clustering, and decision making for reward maximization, and will provide a foundation for the development of new machine learning algorithms.\n",
      "3\n"
     ]
    }
   ],
   "source": [
    "courses =  \"https://catalog.arizona.edu/courses?page=1&cq=\"+ \"ISTA421\"\n",
    "driver.get(courses)\n",
    "    \n",
    "#Pressing the course button\n",
    "course_btn_path = '//*[@id=\"courses-list\"]/div/div[2]/div/button'\n",
    "course_btn = driver.find_element(By.XPATH, course_btn_path)\n",
    "course_btn.click()\n",
    "\n",
    "#Getting the course name, printing it (to make sure it works), appending to the respective list  \n",
    "course_name= driver.find_elements(By.XPATH,'//*[@id=\"main-content\"]/main/aside[2]/div/div/div/div[3]/h1')\n",
    "#The for loop will print the name of the course name.\n",
    "for name in course_name:\n",
    "    print(name.text)\n",
    "    \n",
    "#Getting the course description, printing it (to make sure it works), appending to the respective list  \n",
    "course_desc= driver.find_elements(By.XPATH,'//*[@id=\"main-content\"]/main/aside[2]/div/div/div/div[3]/div[3]/div/div[1]/div/div/div')\n",
    "#The for loop will print the name of the course name.\n",
    "for desc in course_desc:\n",
    "    print(desc.text)\n",
    "\n",
    "#Getting the course unit, printing it (to make sure it works), appending to the respective list  \n",
    "course_unit= driver.find_elements(By.XPATH,'//*[@id=\"main-content\"]/main/aside[2]/div/div/div/div[3]/div[3]/div/div[2]/div/div/div[1]/div/div[1]/div[1]/div')\n",
    "#The for loop will print the name of the course name.\n",
    "for unit in course_unit:\n",
    "    print(unit.text)\n",
    "\n",
    "core.append([name.text,desc.text,unit.text])"
   ]
  },
  {
   "cell_type": "code",
   "execution_count": 460,
   "id": "129ca421",
   "metadata": {
    "pycharm": {
     "name": "#%%\n"
    }
   },
   "outputs": [
    {
     "name": "stdout",
     "output_type": "stream",
     "text": [
      "ISTA429 - Applied Cyberinfrastructure Concepts\n",
      "Students will learn from experts from projects that have developed widely adopted foundational Cyberinfrastrcutrue resources, followed by hands-on laboratory exercises focused around those resources. Students will use these resources and gain practical experience from laboratory exercises for a final project using a data set and meeting requirements provided by domain scientists. Students will be provided access to computer resources at: UA campus clusters, iPlant Collaborative and at NSF XSEDE. Students will also learn to write a proposal for obtaining future allocation to large scale national resources through XSEDE.\n",
      "3\n"
     ]
    }
   ],
   "source": [
    "courses =  \"https://catalog.arizona.edu/courses?page=1&cq=\"+ \"ISTA429\"\n",
    "driver.get(courses)\n",
    "    \n",
    "#Pressing the course button\n",
    "course_btn_path = ' //*[@id=\"courses-list\"]/div/div[2]/div/button'\n",
    "course_btn = driver.find_element(By.XPATH, course_btn_path)\n",
    "course_btn.click()\n",
    "\n",
    "#Getting the course name, printing it (to make sure it works), appending to the respective list  \n",
    "course_name= driver.find_elements(By.XPATH,'//*[@id=\"main-content\"]/main/aside[2]/div/div/div/div[3]/h1')\n",
    "#The for loop will print the name of the course name.\n",
    "for name in course_name:\n",
    "    print(name.text)\n",
    "    \n",
    "#Getting the course description, printing it (to make sure it works), appending to the respective list  \n",
    "course_desc= driver.find_elements(By.XPATH,'//*[@id=\"main-content\"]/main/aside[2]/div/div/div/div[3]/div[3]/div/div[1]/div/div/div')\n",
    "#The for loop will print the name of the course name.\n",
    "for desc in course_desc:\n",
    "    print(desc.text)\n",
    "    \n",
    "#Getting the course unit, printing it (to make sure it works), appending to the respective list  \n",
    "course_unit= driver.find_elements(By.XPATH,'//*[@id=\"main-content\"]/main/aside[2]/div/div/div/div[3]/div[3]/div/div[2]/div/div/div[1]/div/div[1]/div[1]/div')\n",
    "#The for loop will print the name of the course name.\n",
    "for unit in course_unit:\n",
    "    print(unit.text)\n",
    "    \n",
    "core.append([name.text,desc.text,unit.text])"
   ]
  },
  {
   "cell_type": "code",
   "execution_count": 462,
   "id": "13fca5d6",
   "metadata": {
    "pycharm": {
     "name": "#%%\n"
    }
   },
   "outputs": [
    {
     "name": "stdout",
     "output_type": "stream",
     "text": [
      "ISTA321 - Data Mining and Discovery\n",
      "This course will introduce students to the theory and practice of data mining for knowledge discovery. This includes methods developed in the fields of statistics, large-scale data analytics, machine learning and artificial intelligence for automatic or semi-automatic analysis of large quantities of data to extract previously unknown interesting patterns. Topics include understanding varieties of data, classification, association rule analysis, cluster analysis, and anomaly detection. We will use software packages for data mining, explaining the underlying algorithms and their use and limitations. The course include laboratory exercises, with data mining case studies using data from biological sequences and networks, social networks, linguistics, ecology, geo-spatial applications, marketing and psychology.\n",
      "3\n"
     ]
    }
   ],
   "source": [
    "courses =  \"https://catalog.arizona.edu/courses?page=1&cq=\"+ \"ISTA321\"\n",
    "driver.get(courses)\n",
    "    \n",
    "#Pressing the course button\n",
    "course_btn_path = '//*[@id=\"courses-list\"]/div/div[2]/div/button'\n",
    "course_btn = driver.find_element(By.XPATH, course_btn_path)\n",
    "course_btn.click()\n",
    "\n",
    "#Getting the course name, printing it (to make sure it works), appending to the respective list  \n",
    "course_name= driver.find_elements(By.XPATH,'//*[@id=\"main-content\"]/main/aside[2]/div/div/div/div[3]/h1')\n",
    "#The for loop will print the name of the course name.\n",
    "for name in course_name:\n",
    "    print(name.text)\n",
    "    \n",
    "#Getting the course description, printing it (to make sure it works), appending to the respective list  \n",
    "course_desc= driver.find_elements(By.XPATH,'//*[@id=\"main-content\"]/main/aside[2]/div/div/div/div[3]/div[3]/div/div[1]/div/div/div')\n",
    "#The for loop will print the name of the course name.\n",
    "for desc in course_desc:\n",
    "    print(desc.text)\n",
    "\n",
    "#Getting the course unit, printing it (to make sure it works), appending to the respective list  \n",
    "course_unit= driver.find_elements(By.XPATH,'//*[@id=\"main-content\"]/main/aside[2]/div/div/div/div[3]/div[3]/div/div[2]/div/div/div[1]/div/div[1]/div[1]/div')\n",
    "#The for loop will print the name of the course name.\n",
    "for unit in course_unit:\n",
    "    print(unit.text)\n",
    "\n",
    "core.append([name.text,desc.text,unit.text])"
   ]
  },
  {
   "cell_type": "code",
   "execution_count": 463,
   "id": "5568a773",
   "metadata": {
    "pycharm": {
     "name": "#%%\n"
    }
   },
   "outputs": [
    {
     "name": "stdout",
     "output_type": "stream",
     "text": [
      "ISTA322 - Data Engineering\n",
      "This course will be inviting for a wide variety of students from across disciplines, and they will learn how to use industry standard tools and practices to make large data sets usable for scientists and other decision makers. From data collection and preparation, to the creation of big data stores, databases, or systems to make data flow, this course will focus on the practical work needed to prepare big data for analyses across contexts. Students will be introduced to a variety of technical tools for data management, storage, use, and manipulation.\n",
      "3\n"
     ]
    }
   ],
   "source": [
    "courses =  \"https://catalog.arizona.edu/courses?page=1&cq=\"+ \"ISTA322\"\n",
    "driver.get(courses)\n",
    "    \n",
    "#Pressing the course button\n",
    "course_btn_path = '//*[@id=\"courses-list\"]/div/div[2]/div/button'\n",
    "course_btn = driver.find_element(By.XPATH, course_btn_path)\n",
    "course_btn.click()\n",
    "\n",
    "#Getting the course name, printing it (to make sure it works), appending to the respective list  \n",
    "course_name= driver.find_elements(By.XPATH,'//*[@id=\"main-content\"]/main/aside[2]/div/div/div/div[3]/h1')\n",
    "#The for loop will print the name of the course name.\n",
    "for name in course_name:\n",
    "    print(name.text)\n",
    "    \n",
    "#Getting the course description, printing it (to make sure it works), appending to the respective list  \n",
    "course_desc= driver.find_elements(By.XPATH,'//*[@id=\"main-content\"]/main/aside[2]/div/div/div/div[3]/div[3]/div/div[1]/div/div/div')\n",
    "#The for loop will print the name of the course name.\n",
    "for desc in course_desc:\n",
    "    print(desc.text)\n",
    "#Getting the course unit, printing it (to make sure it works), appending to the respective list  \n",
    "course_unit= driver.find_elements(By.XPATH,'//*[@id=\"main-content\"]/main/aside[2]/div/div/div/div[3]/div[3]/div/div[2]/div/div/div[1]/div/div[1]/div[1]/div')\n",
    "#The for loop will print the name of the course name.\n",
    "for unit in course_unit:\n",
    "    print(unit.text)\n",
    "\n",
    "core.append([name.text,desc.text,unit.text])"
   ]
  },
  {
   "cell_type": "code",
   "execution_count": 465,
   "id": "a5bd5d4b",
   "metadata": {
    "pycharm": {
     "name": "#%%\n"
    }
   },
   "outputs": [
    {
     "name": "stdout",
     "output_type": "stream",
     "text": [
      "ISTA331 - Principles and Practice of Data Science\n",
      "ISTA 331 explores the ideas and techniques that businesspersons and scientists alike use to exploit data in order to create knowledge and make money. Topics and projects may include recommender systems (which powered Amazon's rise to global retail dominance), spam filters (the first machine learning application that affected our daily lives), topic extraction from documents, and an introduction to neural networks.\n",
      "3\n"
     ]
    }
   ],
   "source": [
    "courses =  \"https://catalog.arizona.edu/courses?page=1&cq=\"+ \"ISTA331\"\n",
    "driver.get(courses)\n",
    "    \n",
    "#Pressing the course button\n",
    "course_btn_path = '//*[@id=\"courses-list\"]/div/div[2]/div/button'\n",
    "course_btn = driver.find_element(By.XPATH, course_btn_path)\n",
    "course_btn.click()\n",
    "\n",
    "#Getting the course name, printing it (to make sure it works), appending to the respective list  \n",
    "course_name= driver.find_elements(By.XPATH,'//*[@id=\"main-content\"]/main/aside[2]/div/div/div/div[3]/h1')\n",
    "#The for loop will print the name of the course name.\n",
    "for name in course_name:\n",
    "    print(name.text)\n",
    "    \n",
    "#Getting the course description, printing it (to make sure it works), appending to the respective list  \n",
    "course_desc= driver.find_elements(By.XPATH,'//*[@id=\"main-content\"]/main/aside[2]/div/div/div/div[3]/div[3]/div/div[1]/div/div/div')\n",
    "#The for loop will print the name of the course name.\n",
    "for desc in course_desc:\n",
    "    print(desc.text)\n",
    "\n",
    "#Getting the course unit, printing it (to make sure it works), appending to the respective list  \n",
    "course_unit= driver.find_elements(By.XPATH,'//*[@id=\"main-content\"]/main/aside[2]/div/div/div/div[3]/div[3]/div/div[2]/div/div/div[1]/div/div[1]/div[1]/div')\n",
    "#The for loop will print the name of the course name.\n",
    "for unit in course_unit:\n",
    "    print(unit.text)\n",
    "\n",
    "core.append([name.text,desc.text,unit.text])"
   ]
  },
  {
   "cell_type": "code",
   "execution_count": 468,
   "id": "7d23e464",
   "metadata": {
    "pycharm": {
     "name": "#%%\n"
    }
   },
   "outputs": [
    {
     "name": "stdout",
     "output_type": "stream",
     "text": [
      "ISTA350 - Programming for Informatics Applications\n",
      "This course will provide an introduction to informatics application programming using the python programming language and applying statistical concepts from a first semester statistics course. A key goal of this course is to prepare students for upper division ISTA courses by expanding on the skills gained in ISTA 116 and 130 but will be broadly applicable to any informatics discipline. Throughout the semester students will be faced with information application problems drawn from several different disciplines in order to expand their breadth of experience while simultaneously increasing their depth of knowledge of scientific and informatics programming methods. Students will practice problem decomposition and abstraction, gaining experience in identifying commonly occurring information processing issues and in applying well-known solutions. In addition, students will design their own algorithmic solutions to problems and will learn how to effectively compare different solutions, evaluating efficiency in order to choose the best solution for a given problem. Periodic code reviews will be held in order to expose students to a range of different solution methods, which will aid them in discovering weaknesses in their own work and will improve their ability to communicate with others on technical topics. The course will include an introduction to the python scientific computing libraries and other statistical packages. Additional course topics will include the use of version control systems, software profiling, general software engineering practices and basic shell scripting.\n",
      "4\n"
     ]
    }
   ],
   "source": [
    "courses =  \"https://catalog.arizona.edu/courses?page=1&cq=\"+ \"ISTA350\"\n",
    "driver.get(courses)\n",
    "    \n",
    "#Pressing the course button\n",
    "course_btn_path = '//*[@id=\"courses-list\"]/div/div[2]/div/button'\n",
    "course_btn = driver.find_element(By.XPATH, course_btn_path)\n",
    "course_btn.click()\n",
    "\n",
    "#Getting the course name, printing it (to make sure it works), appending to the respective list  \n",
    "course_name= driver.find_elements(By.XPATH,'//*[@id=\"main-content\"]/main/aside[2]/div/div/div/div[3]/h1')\n",
    "#The for loop will print the name of the course name.\n",
    "for name in course_name:\n",
    "    print(name.text)\n",
    "    \n",
    "#Getting the course description, printing it (to make sure it works), appending to the respective list  \n",
    "course_desc= driver.find_elements(By.XPATH,'//*[@id=\"main-content\"]/main/aside[2]/div/div/div/div[3]/div[3]/div/div[1]/div/div/div')\n",
    "#The for loop will print the name of the course name.\n",
    "for desc in course_desc:\n",
    "    print(desc.text)\n",
    "    \n",
    "#Getting the course unit, printing it (to make sure it works), appending to the respective list  \n",
    "course_unit= driver.find_elements(By.XPATH,'//*[@id=\"main-content\"]/main/aside[2]/div/div/div/div[3]/div[3]/div/div[2]/div/div/div[1]/div/div[1]/div[1]/div')\n",
    "#The for loop will print the name of the course name.\n",
    "for unit in course_unit:\n",
    "    print(unit.text)\n",
    "    \n",
    "core.append([name.text,desc.text,unit.text])"
   ]
  },
  {
   "cell_type": "code",
   "execution_count": 469,
   "id": "1873ccb0",
   "metadata": {
    "pycharm": {
     "name": "#%%\n"
    }
   },
   "outputs": [
    {
     "name": "stdout",
     "output_type": "stream",
     "text": [
      "ISTA355 - Introduction to Natural Language Processing\n",
      "Natural language processing (NLP) is the study of how we can teach computers to use language by extracting knowledge from text, and then use that knowledge in some meaningful way. In this introductory course, we will examine the fundamental components on which natural language processing systems are built, including frequency distributions, part of speech tagging, syntactic parsing, semantics and analyzing meaning, search, introductory information and relation extraction, and structured knowledge resources. We will also examine pragmatic concerns in processing raw text from real-world sources.\n",
      "3\n"
     ]
    }
   ],
   "source": [
    "courses =  \"https://catalog.arizona.edu/courses?page=1&cq=\"+\"ISTA355\"\n",
    "driver.get(courses)\n",
    "    \n",
    "#Pressing the course button\n",
    "course_btn_path = '//*[@id=\"courses-list\"]/div/div[2]/div/button'\n",
    "course_btn = driver.find_element(By.XPATH, course_btn_path)\n",
    "course_btn.click()\n",
    "\n",
    "#Getting the course name, printing it (to make sure it works), appending to the respective list  \n",
    "course_name= driver.find_elements(By.XPATH,'//*[@id=\"main-content\"]/main/aside[2]/div/div/div/div[3]/h1')\n",
    "#The for loop will print the name of the course name.\n",
    "for name in course_name:\n",
    "    print(name.text)\n",
    "    \n",
    "#Getting the course description, printing it (to make sure it works), appending to the respective list  \n",
    "course_desc= driver.find_elements(By.XPATH,'//*[@id=\"main-content\"]/main/aside[2]/div/div/div/div[3]/div[3]/div/div[1]/div/div/div')\n",
    "#The for loop will print the name of the course name.\n",
    "for desc in course_desc:\n",
    "    print(desc.text)\n",
    "\n",
    "#Getting the course unit, printing it (to make sure it works), appending to the respective list  \n",
    "course_unit= driver.find_elements(By.XPATH,'//*[@id=\"main-content\"]/main/aside[2]/div/div/div/div[3]/div[3]/div/div[2]/div/div/div[1]/div/div[1]/div[1]/div')\n",
    "#The for loop will print the name of the course name.\n",
    "for unit in course_unit:\n",
    "    print(unit.text)\n",
    "    \n",
    "core.append([name.text,desc.text,unit.text])"
   ]
  },
  {
   "cell_type": "code",
   "execution_count": 470,
   "id": "e8712161",
   "metadata": {
    "pycharm": {
     "name": "#%%\n"
    }
   },
   "outputs": [
    {
     "name": "stdout",
     "output_type": "stream",
     "text": [
      "ISTA410 - Bayesian Modeling and Inference\n",
      "Bayesian modeling and inference is a powerful modern approach to representing the statistics of the world, reasoning about the world in the face of uncertainty, and learning about it from data. It cleanly separates the notions of representation, reasoning, and learning. It provides a principled framework for combining multiple source of information such as prior knowledge about the world with evidence about a particular case in observed data. This course will provide a solid introduction to the methodology and associated techniques, and show how they are applied in diverse domains ranging from computer vision to molecular biology to astronomy.\n",
      "3\n"
     ]
    }
   ],
   "source": [
    "courses =  \"https://catalog.arizona.edu/courses?page=1&cq=\"+\"ISTA410\"\n",
    "driver.get(courses)\n",
    "    \n",
    "#Pressing the course button\n",
    "course_btn_path = ' //*[@id=\"courses-list\"]/div/div[2]/div/button'\n",
    "course_btn = driver.find_element(By.XPATH, course_btn_path)\n",
    "course_btn.click()\n",
    "\n",
    "#Getting the course name, printing it (to make sure it works), appending to the respective list  \n",
    "course_name= driver.find_elements(By.XPATH,'//*[@id=\"main-content\"]/main/aside[2]/div/div/div/div[3]/h1')\n",
    "#The for loop will print the name of the course name.\n",
    "for name in course_name:\n",
    "    print(name.text)\n",
    "    \n",
    "#Getting the course description, printing it (to make sure it works), appending to the respective list  \n",
    "course_desc= driver.find_elements(By.XPATH,'//*[@id=\"main-content\"]/main/aside[2]/div/div/div/div[3]/div[3]/div/div[1]/div/div/div')\n",
    "#The for loop will print the name of the course name.\n",
    "for desc in course_desc:\n",
    "    print(desc.text)\n",
    "\n",
    "#Getting the course unit, printing it (to make sure it works), appending to the respective list  \n",
    "course_unit= driver.find_elements(By.XPATH,'//*[@id=\"main-content\"]/main/aside[2]/div/div/div/div[3]/div[3]/div/div[2]/div/div/div[1]/div/div[1]/div[1]/div')\n",
    "#The for loop will print the name of the course name.\n",
    "for unit in course_unit:\n",
    "    print(unit.text)\n",
    "\n",
    "core.append([name.text,desc.text,unit.text])"
   ]
  },
  {
   "cell_type": "code",
   "execution_count": 471,
   "id": "9523bf34",
   "metadata": {
    "pycharm": {
     "name": "#%%\n"
    }
   },
   "outputs": [
    {
     "name": "stdout",
     "output_type": "stream",
     "text": [
      "ISTA421 - Introduction to Machine Learning\n",
      "Machine learning describes algorithms which can modify their internal parameters (i.e., \\\"learn\\\") to recognize patterns and make decisions based on examples or through interaction with the environment. This course will introduce the fundamentals of machine learning, will describe how to implement several practical methods for pattern recognition, feature selection, clustering, and decision making for reward maximization, and will provide a foundation for the development of new machine learning algorithms.\n",
      "3\n"
     ]
    }
   ],
   "source": [
    "courses =  \"https://catalog.arizona.edu/courses?page=1&cq=\"+\"ISTA421\"\n",
    "driver.get(courses)\n",
    "    \n",
    "#Pressing the course button\n",
    "course_btn_path = '//*[@id=\"courses-list\"]/div/div[2]/div/button'\n",
    "course_btn = driver.find_element(By.XPATH, course_btn_path)\n",
    "course_btn.click()\n",
    "\n",
    "#Getting the course name, printing it (to make sure it works), appending to the respective list  \n",
    "course_name= driver.find_elements(By.XPATH,'//*[@id=\"main-content\"]/main/aside[2]/div/div/div/div[3]/h1')\n",
    "#The for loop will print the name of the course name.\n",
    "for name in course_name:\n",
    "    print(name.text)\n",
    "    \n",
    "#Getting the course description, printing it (to make sure it works), appending to the respective list  \n",
    "course_desc= driver.find_elements(By.XPATH,'//*[@id=\"main-content\"]/main/aside[2]/div/div/div/div[3]/div[3]/div/div[1]/div/div/div')\n",
    "#The for loop will print the name of the course name.\n",
    "for desc in course_desc:\n",
    "    print(desc.text)\n",
    "    \n",
    "#Getting the course unit, printing it (to make sure it works), appending to the respective list  \n",
    "course_unit= driver.find_elements(By.XPATH,'//*[@id=\"main-content\"]/main/aside[2]/div/div/div/div[3]/div[3]/div/div[2]/div/div/div[1]/div/div[1]/div[1]/div')\n",
    "#The for loop will print the name of the course name.\n",
    "for unit in course_unit:\n",
    "    print(unit.text)\n",
    "    \n",
    "core.append([name.text,desc.text,unit.text])  "
   ]
  },
  {
   "cell_type": "code",
   "execution_count": 472,
   "id": "3e46d7e3",
   "metadata": {
    "pycharm": {
     "name": "#%%\n"
    }
   },
   "outputs": [
    {
     "name": "stdout",
     "output_type": "stream",
     "text": [
      "ISTA429 - Applied Cyberinfrastructure Concepts\n",
      "Students will learn from experts from projects that have developed widely adopted foundational Cyberinfrastrcutrue resources, followed by hands-on laboratory exercises focused around those resources. Students will use these resources and gain practical experience from laboratory exercises for a final project using a data set and meeting requirements provided by domain scientists. Students will be provided access to computer resources at: UA campus clusters, iPlant Collaborative and at NSF XSEDE. Students will also learn to write a proposal for obtaining future allocation to large scale national resources through XSEDE.\n",
      "3\n"
     ]
    }
   ],
   "source": [
    "courses =  \"https://catalog.arizona.edu/courses?page=1&cq=\"+\"ISTA429\"\n",
    "driver.get(courses)\n",
    "    \n",
    "#Pressing the course button\n",
    "course_btn_path = ' //*[@id=\"courses-list\"]/div/div[2]/div/button'\n",
    "course_btn = driver.find_element(By.XPATH, course_btn_path)\n",
    "course_btn.click()\n",
    "\n",
    "#Getting the course name, printing it (to make sure it works), appending to the respective list  \n",
    "course_name= driver.find_elements(By.XPATH,'//*[@id=\"main-content\"]/main/aside[2]/div/div/div/div[3]/h1')\n",
    "#The for loop will print the name of the course name.\n",
    "for name in course_name:\n",
    "    print(name.text)\n",
    "    \n",
    "#Getting the course description, printing it (to make sure it works), appending to the respective list  \n",
    "course_desc= driver.find_elements(By.XPATH,'//*[@id=\"main-content\"]/main/aside[2]/div/div/div/div[3]/div[3]/div/div[1]/div/div/div')\n",
    "#The for loop will print the name of the course name.\n",
    "for desc in course_desc:\n",
    "    print(desc.text)\n",
    "    \n",
    "#Getting the course unit, printing it (to make sure it works), appending to the respective list  \n",
    "course_unit= driver.find_elements(By.XPATH,'//*[@id=\"main-content\"]/main/aside[2]/div/div/div/div[3]/div[3]/div/div[2]/div/div/div[1]/div/div[1]/div[1]/div')\n",
    "#The for loop will print the name of the course name.\n",
    "for unit in course_unit:\n",
    "    print(unit.text)\n",
    "\n",
    "core.append([name.text,desc.text,unit.text])    "
   ]
  },
  {
   "cell_type": "code",
   "execution_count": 474,
   "id": "2a5532a6",
   "metadata": {
    "pycharm": {
     "name": "#%%\n"
    }
   },
   "outputs": [
    {
     "name": "stdout",
     "output_type": "stream",
     "text": [
      "ISTA321 - Data Mining and Discovery\n",
      "This course will introduce students to the theory and practice of data mining for knowledge discovery. This includes methods developed in the fields of statistics, large-scale data analytics, machine learning and artificial intelligence for automatic or semi-automatic analysis of large quantities of data to extract previously unknown interesting patterns. Topics include understanding varieties of data, classification, association rule analysis, cluster analysis, and anomaly detection. We will use software packages for data mining, explaining the underlying algorithms and their use and limitations. The course include laboratory exercises, with data mining case studies using data from biological sequences and networks, social networks, linguistics, ecology, geo-spatial applications, marketing and psychology.\n",
      "3\n"
     ]
    }
   ],
   "source": [
    "courses =  \"https://catalog.arizona.edu/courses?page=1&cq=\"+\"ISTA321\"\n",
    "driver.get(courses)\n",
    "    \n",
    "#Pressing the course button\n",
    "course_btn_path = '//*[@id=\"courses-list\"]/div/div[2]/div/button'\n",
    "course_btn = driver.find_element(By.XPATH, course_btn_path)\n",
    "course_btn.click()\n",
    "\n",
    "#Getting the course name, printing it (to make sure it works), appending to the respective list  \n",
    "course_name= driver.find_elements(By.XPATH,'//*[@id=\"main-content\"]/main/aside[2]/div/div/div/div[3]/h1')\n",
    "#The for loop will print the name of the course name.\n",
    "for name in course_name:\n",
    "    print(name.text)\n",
    "    \n",
    "#Getting the course description, printing it (to make sure it works), appending to the respective list  \n",
    "course_desc= driver.find_elements(By.XPATH,'//*[@id=\"main-content\"]/main/aside[2]/div/div/div/div[3]/div[3]/div/div[1]/div/div/div')\n",
    "#The for loop will print the name of the course name.\n",
    "for desc in course_desc:\n",
    "    print(desc.text)\n",
    "    \n",
    "#Getting the course unit, printing it (to make sure it works), appending to the respective list  \n",
    "course_unit= driver.find_elements(By.XPATH,'//*[@id=\"main-content\"]/main/aside[2]/div/div/div/div[3]/div[3]/div/div[2]/div/div/div[1]/div/div[1]/div[1]/div')\n",
    "#The for loop will print the name of the course name.\n",
    "for unit in course_unit:\n",
    "    print(unit.text)\n",
    "\n",
    "core.append([name.text,desc.text,unit.text])    "
   ]
  },
  {
   "cell_type": "code",
   "execution_count": 475,
   "id": "3732b8cb",
   "metadata": {
    "pycharm": {
     "name": "#%%\n"
    }
   },
   "outputs": [
    {
     "name": "stdout",
     "output_type": "stream",
     "text": [
      "ISTA499H - Honors Independent Study\n",
      "Qualified students working on an individual basis with professors who have agreed to supervise such work.\n",
      "1\n"
     ]
    }
   ],
   "source": [
    "courses =  \"https://catalog.arizona.edu/courses?page=1&cq=\"+\"ISTA499\"\n",
    "driver.get(courses)\n",
    "    \n",
    "#Pressing the course button\n",
    "course_btn_path = '//*[@id=\"courses-list\"]/div/div[2]/div/button'\n",
    "course_btn = driver.find_element(By.XPATH, course_btn_path)\n",
    "course_btn.click()\n",
    "\n",
    "#Getting the course name, printing it (to make sure it works), appending to the respective list  \n",
    "course_name= driver.find_elements(By.XPATH,'//*[@id=\"main-content\"]/main/aside[2]/div/div/div/div[3]/h1')\n",
    "#The for loop will print the name of the course name.\n",
    "for name in course_name:\n",
    "    print(name.text)\n",
    "    \n",
    "#Getting the course description, printing it (to make sure it works), appending to the respective list  \n",
    "course_desc= driver.find_elements(By.XPATH,'//*[@id=\"main-content\"]/main/aside[2]/div/div/div/div[3]/div[3]/div/div[1]/div/div/div')\n",
    "#The for loop will print the name of the course name.\n",
    "for desc in course_desc:\n",
    "    print(desc.text)\n",
    "    \n",
    "#Getting the course unit, printing it (to make sure it works), appending to the respective list  \n",
    "course_unit= driver.find_elements(By.XPATH,'//*[@id=\"main-content\"]/main/aside[2]/div/div/div/div[3]/div[3]/div/div[2]/div/div/div[1]/div/div[1]/div[1]/div')\n",
    "#The for loop will print the name of the course name.\n",
    "for unit in course_unit:\n",
    "    print(unit.text)\n",
    "    \n",
    "core.append([name.text,desc.text,unit.text])"
   ]
  },
  {
   "cell_type": "code",
   "execution_count": 476,
   "id": "4f4f84df",
   "metadata": {
    "pycharm": {
     "name": "#%%\n"
    }
   },
   "outputs": [
    {
     "name": "stdout",
     "output_type": "stream",
     "text": [
      "ISTA450 - Artificial Intelligence\n",
      "The methods and tools of Artificial Intelligence used to provide systems with the ability to autonomously problem solve and reason with uncertain information. Topics include: problem solving (search spaces, uninformed and informed search, games, constraint satisfaction), principles of knowledge representation and reasoning (propositional and first-order logic, logical inference, planning), and representing and reasoning with uncertainty (Bayesian networks, probabilistic inference, decision theory).\n",
      "3\n"
     ]
    }
   ],
   "source": [
    "courses =  \"https://catalog.arizona.edu/courses?page=1&cq=\"+\"ISTA450\"\n",
    "driver.get(courses)\n",
    "    \n",
    "#Pressing the course button\n",
    "course_btn_path = '//*[@id=\"courses-list\"]/div/div[2]/div/button'\n",
    "course_btn = driver.find_element(By.XPATH, course_btn_path)\n",
    "course_btn.click()\n",
    "\n",
    "#Getting the course name, printing it (to make sure it works), appending to the respective list  \n",
    "course_name= driver.find_elements(By.XPATH,'//*[@id=\"main-content\"]/main/aside[2]/div/div/div/div[3]/h1')\n",
    "#The for loop will print the name of the course name.\n",
    "for name in course_name:\n",
    "    print(name.text)\n",
    "    \n",
    "#Getting the course description, printing it (to make sure it works), appending to the respective list  \n",
    "course_desc= driver.find_elements(By.XPATH,'//*[@id=\"main-content\"]/main/aside[2]/div/div/div/div[3]/div[3]/div/div[1]/div/div/div')\n",
    "#The for loop will print the name of the course name.\n",
    "for desc in course_desc:\n",
    "    print(desc.text)\n",
    "\n",
    "#Getting the course unit, printing it (to make sure it works), appending to the respective list  \n",
    "course_unit= driver.find_elements(By.XPATH,'//*[@id=\"main-content\"]/main/aside[2]/div/div/div/div[3]/div[3]/div/div[2]/div/div/div[1]/div/div[1]/div[1]/div')\n",
    "#The for loop will print the name of the course name.\n",
    "for unit in course_unit:\n",
    "    print(unit.text)\n",
    "\n",
    "core.append([name.text,desc.text,unit.text])"
   ]
  },
  {
   "cell_type": "code",
   "execution_count": 478,
   "id": "35c13e7d",
   "metadata": {
    "pycharm": {
     "name": "#%%\n"
    }
   },
   "outputs": [
    {
     "name": "stdout",
     "output_type": "stream",
     "text": [
      "ISTA455 - Applied Natural Language Processing\n",
      "Most of the data available on the web or managed by institutions and businesses consists of unstructured text. Natural language processing tools help to organize such texts, extract relevant information from them, and automatize time-consuming processes. This course will teach the fundamental knowledge necessary to design and develop end-to-end natural language understanding applications, drawn from examples such as question answering, sentiment analysis, information extraction, automated inference, machine translation, chatbots, etc. We will use several natural language processing toolkits and libraries.\n",
      "3\n"
     ]
    }
   ],
   "source": [
    "courses =  \"https://catalog.arizona.edu/courses?page=1&cq=\"+\"ISTA455\"\n",
    "driver.get(courses)\n",
    "    \n",
    "#Pressing the course button\n",
    "course_btn_path = ' //*[@id=\"courses-list\"]/div/div[2]/div/button'\n",
    "course_btn = driver.find_element(By.XPATH, course_btn_path)\n",
    "course_btn.click()\n",
    "\n",
    "#Getting the course name, printing it (to make sure it works), appending to the respective list  \n",
    "course_name= driver.find_elements(By.XPATH,'//*[@id=\"main-content\"]/main/aside[2]/div/div/div/div[3]/h1')\n",
    "#The for loop will print the name of the course name.\n",
    "for name in course_name:\n",
    "    print(name.text)\n",
    "    \n",
    "#Getting the course description, printing it (to make sure it works), appending to the respective list  \n",
    "course_desc= driver.find_elements(By.XPATH,'//*[@id=\"main-content\"]/main/aside[2]/div/div/div/div[3]/div[3]/div/div[1]/div/div/div')\n",
    "#The for loop will print the name of the course name.\n",
    "for desc in course_desc:\n",
    "    print(desc.text)\n",
    "\n",
    "#Getting the course unit, printing it (to make sure it works), appending to the respective list  \n",
    "course_unit= driver.find_elements(By.XPATH,'//*[@id=\"main-content\"]/main/aside[2]/div/div/div/div[3]/div[3]/div/div[2]/div/div/div[1]/div/div[1]/div[1]/div')\n",
    "#The for loop will print the name of the course name.\n",
    "for unit in course_unit:\n",
    "    print(unit.text)\n",
    "\n",
    "core.append([name.text,desc.text,unit.text])    "
   ]
  },
  {
   "cell_type": "code",
   "execution_count": 479,
   "id": "76c8bbc5",
   "metadata": {
    "pycharm": {
     "name": "#%%\n"
    }
   },
   "outputs": [
    {
     "name": "stdout",
     "output_type": "stream",
     "text": [
      "ISTA456 - Text Retrieval and Web Search\n",
      "Most of the web data today consists of unstructured text. Of course, the fact that this data exists is irrelevant, unless it is made available such that users can quickly find information that is relevant for their needs. This course will cover the fundamental knowledge necessary to build such systems, such as web crawling, index construction and compression, boolean, vector-based, and probabilistic retrieval models, text classification and clustering, link analysis algorithms such as PageRank, and computational advertising. The students will also complete one programming project, in which they will construct one complex application that combines multiple algorithms into a system that solves real-world problems.\n",
      "3\n"
     ]
    }
   ],
   "source": [
    "courses =  \"https://catalog.arizona.edu/courses?page=1&cq=\"+\"ISTA456\"\n",
    "driver.get(courses)\n",
    "    \n",
    "    \n",
    "#Pressing the course button\n",
    "course_btn_path = '//*[@id=\"courses-list\"]/div/div[2]/div/button'\n",
    "course_btn = driver.find_element(By.XPATH, course_btn_path)\n",
    "course_btn.click()\n",
    "\n",
    "#Getting the course name, printing it (to make sure it works), appending to the respective list  \n",
    "course_name= driver.find_elements(By.XPATH,'//*[@id=\"main-content\"]/main/aside[2]/div/div/div/div[3]/h1')\n",
    "#The for loop will print the name of the course name.\n",
    "for name in course_name:\n",
    "    print(name.text)\n",
    "    \n",
    "#Getting the course description, printing it (to make sure it works), appending to the respective list  \n",
    "course_desc= driver.find_elements(By.XPATH,'//*[@id=\"main-content\"]/main/aside[2]/div/div/div/div[3]/div[3]/div/div[1]/div/div/div')\n",
    "#The for loop will print the name of the course name.\n",
    "for desc in course_desc:\n",
    "    print(desc.text)\n",
    "\n",
    "#Getting the course unit, printing it (to make sure it works), appending to the respective list  \n",
    "course_unit= driver.find_elements(By.XPATH,'//*[@id=\"main-content\"]/main/aside[2]/div/div/div/div[3]/div[3]/div/div[2]/div/div/div[1]/div/div[1]/div[1]/div')\n",
    "#The for loop will print the name of the course name.\n",
    "for unit in course_unit:\n",
    "    print(unit.text)\n",
    "\n",
    "core.append([name.text,desc.text,unit.text])    "
   ]
  },
  {
   "cell_type": "code",
   "execution_count": 480,
   "id": "a5acc478",
   "metadata": {
    "pycharm": {
     "name": "#%%\n"
    }
   },
   "outputs": [
    {
     "name": "stdout",
     "output_type": "stream",
     "text": [
      "ISTA457 - Neural Networks\n",
      "Neural networks are a branch of machine learning that combines a large number of simple computational units to allow computers to learn from and generalize over complex patterns in data. Students in this course will learn how to train and optimize feed forward, convolutional, and recurrent neural networks for tasks such as text classification, image recognition, and game playing.\n",
      "3\n"
     ]
    }
   ],
   "source": [
    "courses =  \"https://catalog.arizona.edu/courses?page=1&cq=\"+\"ISTA457\"\n",
    "driver.get(courses)\n",
    "    \n",
    "#Pressing the course button\n",
    "course_btn_path = '//*[@id=\"courses-list\"]/div/div[2]/div/button'\n",
    "course_btn = driver.find_element(By.XPATH, course_btn_path)\n",
    "course_btn.click()\n",
    "\n",
    "#Getting the course name, printing it (to make sure it works), appending to the respective list  \n",
    "course_name= driver.find_elements(By.XPATH,'//*[@id=\"main-content\"]/main/aside[2]/div/div/div/div[3]/h1')\n",
    "#The for loop will print the name of the course name.\n",
    "for name in course_name:\n",
    "    print(name.text)\n",
    "    \n",
    "#Getting the course description, printing it (to make sure it works), appending to the respective list  \n",
    "course_desc= driver.find_elements(By.XPATH,'//*[@id=\"main-content\"]/main/aside[2]/div/div/div/div[3]/div[3]/div/div[1]/div/div/div')\n",
    "#The for loop will print the name of the course name.\n",
    "for desc in course_desc:\n",
    "    print(desc.text)\n",
    "\n",
    "#Getting the course unit, printing it (to make sure it works), appending to the respective list  \n",
    "course_unit= driver.find_elements(By.XPATH,'//*[@id=\"main-content\"]/main/aside[2]/div/div/div/div[3]/div[3]/div/div[2]/div/div/div[1]/div/div[1]/div[1]/div')\n",
    "#The for loop will print the name of the course name.\n",
    "for unit in course_unit:\n",
    "    print(unit.text)\n",
    "\n",
    "core.append([name.text,desc.text,unit.text])    "
   ]
  },
  {
   "cell_type": "code",
   "execution_count": 487,
   "id": "90ddc758",
   "metadata": {
    "pycharm": {
     "name": "#%%\n"
    }
   },
   "outputs": [
    {
     "name": "stdout",
     "output_type": "stream",
     "text": [
      "LIS470 - Database Management and Development\n",
      "This course covers theory, methods, and techniques widely used to design and develop a relational database system and students will develop a broad understanding of modern database management systems. applications of fundamental database principles in a stand-alone database environment using MS Access and Windows are emphasized. Applications in an Internet environment will be discussed using MySQL in the Linux platform.\n",
      "3\n"
     ]
    }
   ],
   "source": [
    "courses =  \"https://catalog.arizona.edu/courses?page=1&cq=\"+\"LIS470\"\n",
    "driver.get(courses)\n",
    "    \n",
    "#Pressing the course button\n",
    "course_btn_path = '//*[@id=\"courses-list\"]/div/div[2]/div/button'\n",
    "course_btn = driver.find_element(By.XPATH, course_btn_path)\n",
    "course_btn.click()\n",
    "\n",
    "#Getting the course name, printing it (to make sure it works), appending to the respective list  \n",
    "course_name= driver.find_elements(By.XPATH,'//*[@id=\"main-content\"]/main/aside[2]/div/div/div/div[3]/h1')\n",
    "#The for loop will print the name of the course name.\n",
    "for name in course_name:\n",
    "    print(name.text)\n",
    "    \n",
    "#Getting the course description, printing it (to make sure it works), appending to the respective list  \n",
    "course_desc= driver.find_elements(By.XPATH,'//*[@id=\"main-content\"]/main/aside[2]/div/div/div/div[3]/div[3]/div/div[1]/div/div/div')\n",
    "#The for loop will print the name of the course name.\n",
    "for desc in course_desc:\n",
    "    print(desc.text)\n",
    "\n",
    "#Getting the course unit, printing it (to make sure it works), appending to the respective list  \n",
    "course_unit= driver.find_elements(By.XPATH,'//*[@id=\"main-content\"]/main/aside[2]/div/div/div/div[3]/div[3]/div/div[2]/div/div/div[1]/div/div[1]/div[1]/div')\n",
    "#The for loop will print the name of the course name.\n",
    "for unit in course_unit:\n",
    "    print(unit.text)\n",
    "\n",
    "core.append([name.text,desc.text,unit.text])      "
   ]
  },
  {
   "cell_type": "code",
   "execution_count": 527,
   "id": "11f93188",
   "metadata": {
    "pycharm": {
     "name": "#%%\n"
    }
   },
   "outputs": [
    {
     "name": "stdout",
     "output_type": "stream",
     "text": [
      "                                          Course Name  \\\n",
      "0                                                       \n",
      "1   ISTA116 - Statistical Foundations for the Info...   \n",
      "2          ISTA130 - Computational Thinking and Doing   \n",
      "3                         ISTA131 - Dealing with Data   \n",
      "4                 ISTA161 - Ethics in a Digital World   \n",
      "5              ESOC414 - Computational Social Science   \n",
      "6                 ISTA321 - Data Mining and Discovery   \n",
      "7   ISTA311 - Foundation of Information and Inference   \n",
      "8                ISTA320 - Applied Data Visualization   \n",
      "9                 ISTA321 - Data Mining and Discovery   \n",
      "10                         ISTA322 - Data Engineering   \n",
      "11  ISTA331 - Principles and Practice of Data Science   \n",
      "12  ISTA350 - Programming for Informatics Applicat...   \n",
      "13  ISTA355 - Introduction to Natural Language Pro...   \n",
      "14          ISTA410 - Bayesian Modeling and Inference   \n",
      "15         ISTA421 - Introduction to Machine Learning   \n",
      "16     ISTA429 - Applied Cyberinfrastructure Concepts   \n",
      "17                ISTA321 - Data Mining and Discovery   \n",
      "18                         ISTA322 - Data Engineering   \n",
      "19  ISTA331 - Principles and Practice of Data Science   \n",
      "20  ISTA350 - Programming for Informatics Applicat...   \n",
      "21  ISTA355 - Introduction to Natural Language Pro...   \n",
      "22          ISTA410 - Bayesian Modeling and Inference   \n",
      "23         ISTA421 - Introduction to Machine Learning   \n",
      "24     ISTA429 - Applied Cyberinfrastructure Concepts   \n",
      "25                ISTA321 - Data Mining and Discovery   \n",
      "26                ISTA499H - Honors Independent Study   \n",
      "27                  ISTA450 - Artificial Intelligence   \n",
      "28      ISTA455 - Applied Natural Language Processing   \n",
      "29            ISTA456 - Text Retrieval and Web Search   \n",
      "30                          ISTA457 - Neural Networks   \n",
      "31       LIS470 - Database Management and Development   \n",
      "\n",
      "                                          Description Unit  \n",
      "0                                                           \n",
      "1   Understanding uncertainty and variation in mod...    3  \n",
      "2   An introduction to computational techniques an...    4  \n",
      "3   At the core of Information Science lies the di...    4  \n",
      "4   This course explores the social, legal, and cu...    3  \n",
      "5   This course will introduce you to the burgeoni...    3  \n",
      "6   This course will introduce students to the the...    3  \n",
      "7   An introduction to the mathematical theories o...    3  \n",
      "8   This course will introduce students to the fun...    3  \n",
      "9   This course will introduce students to the the...    3  \n",
      "10  This course will be inviting for a wide variet...    3  \n",
      "11  ISTA 331 explores the ideas and techniques tha...    3  \n",
      "12  This course will provide an introduction to in...    4  \n",
      "13  Natural language processing (NLP) is the study...    3  \n",
      "14  Bayesian modeling and inference is a powerful ...    3  \n",
      "15  Machine learning describes algorithms which ca...    3  \n",
      "16  Students will learn from experts from projects...    3  \n",
      "17  This course will introduce students to the the...    3  \n",
      "18  This course will be inviting for a wide variet...    3  \n",
      "19  ISTA 331 explores the ideas and techniques tha...    3  \n",
      "20  This course will provide an introduction to in...    4  \n",
      "21  Natural language processing (NLP) is the study...    3  \n",
      "22  Bayesian modeling and inference is a powerful ...    3  \n",
      "23  Machine learning describes algorithms which ca...    3  \n",
      "24  Students will learn from experts from projects...    3  \n",
      "25  This course will introduce students to the the...    3  \n",
      "26  Qualified students working on an individual ba...    1  \n",
      "27  The methods and tools of Artificial Intelligen...    3  \n",
      "28  Most of the data available on the web or manag...    3  \n",
      "29  Most of the web data today consists of unstruc...    3  \n",
      "30  Neural networks are a branch of machine learni...    3  \n",
      "31  This course covers theory, methods, and techni...    3  \n"
     ]
    },
    {
     "name": "stderr",
     "output_type": "stream",
     "text": [
      "/var/folders/fy/kdg5szgj6gvbttydkkdzs6j40000gn/T/ipykernel_13161/3943430476.py:3: FutureWarning: Could not cast to int64, falling back to object. This behavior is deprecated. In a future version, when a dtype is passed to 'DataFrame', either all columns will be cast to that dtype, or a TypeError will be raised.\n",
      "  df_core = pd.DataFrame(core, columns =['Course Name', 'Description', 'Unit'], dtype = int)\n"
     ]
    }
   ],
   "source": [
    "import pandas as pd \n",
    "\n",
    "df_core = pd.DataFrame(core, columns =['Course Name', 'Description', 'Unit'], dtype = int)\n",
    "print(df_core)\n"
   ]
  },
  {
   "cell_type": "markdown",
   "id": "7bbadc10",
   "metadata": {
    "pycharm": {
     "name": "#%% md\n"
    }
   },
   "source": [
    "# emphasis_interactive_immersive_technologies "
   ]
  },
  {
   "cell_type": "code",
   "execution_count": 491,
   "id": "c58777c6",
   "metadata": {
    "pycharm": {
     "name": "#%%\n"
    }
   },
   "outputs": [],
   "source": [
    "iit =[]"
   ]
  },
  {
   "cell_type": "code",
   "execution_count": 492,
   "id": "af2c84a4",
   "metadata": {
    "pycharm": {
     "name": "#%%\n"
    }
   },
   "outputs": [
    {
     "name": "stdout",
     "output_type": "stream",
     "text": [
      "GAME425 - Algorithms for Games\n",
      "Algorithms is a crucial component of game development. This course will provide students with an in-depth introduction to algorithm concepts for game development. The course will cover basic algorithm and data structures concepts, basic math concepts related to game algorithms, physics and artificial intelligence based game algorithms that are supplemented with modern examples. Unity Game Engine along with C# programming language will be used throughout the class.\n",
      "3\n"
     ]
    }
   ],
   "source": [
    "courses =  \"https://catalog.arizona.edu/courses?page=1&cq=\"+\"GAME425\"\n",
    "driver.get(courses)\n",
    "    \n",
    "#Pressing the course button\n",
    "course_btn_path = '//*[@id=\"courses-list\"]/div/div[2]/div/button'\n",
    "course_btn = driver.find_element(By.XPATH, course_btn_path)\n",
    "course_btn.click()\n",
    "\n",
    "#Getting the course name, printing it (to make sure it works), appending to the respective list  \n",
    "course_name= driver.find_elements(By.XPATH,'//*[@id=\"main-content\"]/main/aside[2]/div/div/div/div[3]/h1')\n",
    "#The for loop will print the name of the course name.\n",
    "for name in course_name:\n",
    "    print(name.text)\n",
    "    \n",
    "#Getting the course description, printing it (to make sure it works), appending to the respective list  \n",
    "course_desc= driver.find_elements(By.XPATH,'//*[@id=\"main-content\"]/main/aside[2]/div/div/div/div[3]/div[3]/div/div[1]/div/div/div')\n",
    "#The for loop will print the name of the course name.\n",
    "for desc in course_desc:\n",
    "    print(desc.text)\n",
    "\n",
    "#Getting the course unit, printing it (to make sure it works), appending to the respective list  \n",
    "course_unit= driver.find_elements(By.XPATH,'//*[@id=\"main-content\"]/main/aside[2]/div/div/div/div[3]/div[3]/div/div[2]/div/div/div[1]/div/div[1]/div[1]/div')\n",
    "#The for loop will print the name of the course name.\n",
    "for unit in course_unit:\n",
    "    print(unit.text)\n",
    "\n",
    "iit.append([name.text,desc.text,unit.text]) "
   ]
  },
  {
   "cell_type": "code",
   "execution_count": 493,
   "id": "44507efb",
   "metadata": {
    "pycharm": {
     "name": "#%%\n"
    }
   },
   "outputs": [
    {
     "name": "stdout",
     "output_type": "stream",
     "text": [
      "GAME451 - Game Development\n",
      "This course provides a comprehensive survey of video game production practices. Students work on game development assignments for presentation in a professional portfolio. The course topics include: collaborative technologies, software design patterns for games, spatial transformations, and technical considerations surrounding game art, such as authoring sprites, 3D models, animations, texture mapping, and writing shaders. Students will be given periodic assignments that reinforce lessons from class.\n",
      "3\n"
     ]
    }
   ],
   "source": [
    "courses =  \"https://catalog.arizona.edu/courses?page=1&cq=\"+\"GAME451\"\n",
    "driver.get(courses)\n",
    "    \n",
    "#Pressing the course button\n",
    "course_btn_path = '//*[@id=\"courses-list\"]/div/div[2]/div/button'\n",
    "course_btn = driver.find_element(By.XPATH, course_btn_path)\n",
    "course_btn.click()\n",
    "\n",
    "#Getting the course name, printing it (to make sure it works), appending to the respective list  \n",
    "course_name= driver.find_elements(By.XPATH,'//*[@id=\"main-content\"]/main/aside[2]/div/div/div/div[3]/h1')\n",
    "#The for loop will print the name of the course name.\n",
    "for name in course_name:\n",
    "    print(name.text)\n",
    "    \n",
    "#Getting the course description, printing it (to make sure it works), appending to the respective list  \n",
    "course_desc= driver.find_elements(By.XPATH,'//*[@id=\"main-content\"]/main/aside[2]/div/div/div/div[3]/div[3]/div/div[1]/div/div/div')\n",
    "#The for loop will print the name of the course name.\n",
    "for desc in course_desc:\n",
    "    print(desc.text)\n",
    "\n",
    "#Getting the course unit, printing it (to make sure it works), appending to the respective list  \n",
    "course_unit= driver.find_elements(By.XPATH,'//*[@id=\"main-content\"]/main/aside[2]/div/div/div/div[3]/div[3]/div/div[2]/div/div/div[1]/div/div[1]/div[1]/div')\n",
    "#The for loop will print the name of the course name.\n",
    "for unit in course_unit:\n",
    "    print(unit.text)\n",
    "\n",
    "iit.append([name.text,desc.text,unit.text])"
   ]
  },
  {
   "cell_type": "code",
   "execution_count": 494,
   "id": "53a14eb8",
   "metadata": {
    "pycharm": {
     "name": "#%%\n"
    }
   },
   "outputs": [
    {
     "name": "stdout",
     "output_type": "stream",
     "text": [
      "ISTA303 - Introduction to Creative Coding\n",
      "While the 20th Century saw the rise of the knowledge worker and the information worker, the 21st Century has ushered in the era of the creative professional. Our society is being rapidly transformed by new technologies that are revolutionizing many spheres of life, from entrepreneurship to artistic production. This course provides an introduction to software and hardware packages that are spurring innovation and creativity. Students will explore rapid prototyping, object design, and physical computing using Computer-Aided Design Software, 3D printing technology, and Arduino circuit boards. The Processing programming language will be introduced in this course and used to create generative artworks in both visual and audio idioms. An overview of creative evolutionary computation will survey applications of genetic algorithms and artificial intelligence for creating art.\n",
      "3\n"
     ]
    }
   ],
   "source": [
    "courses =  \"https://catalog.arizona.edu/courses?page=1&cq=\"+\"ISTA303\"\n",
    "driver.get(courses)\n",
    "    \n",
    "    \n",
    "#Pressing the course button\n",
    "course_btn_path = '//*[@id=\"courses-list\"]/div/div[2]/div/button'\n",
    "course_btn = driver.find_element(By.XPATH, course_btn_path)\n",
    "course_btn.click()\n",
    "\n",
    "#Getting the course name, printing it (to make sure it works), appending to the respective list  \n",
    "course_name= driver.find_elements(By.XPATH,'//*[@id=\"main-content\"]/main/aside[2]/div/div/div/div[3]/h1')\n",
    "#The for loop will print the name of the course name.\n",
    "for name in course_name:\n",
    "    print(name.text)\n",
    "    \n",
    "#Getting the course description, printing it (to make sure it works), appending to the respective list  \n",
    "course_desc= driver.find_elements(By.XPATH,'//*[@id=\"main-content\"]/main/aside[2]/div/div/div/div[3]/div[3]/div/div[1]/div/div/div')\n",
    "#The for loop will print the name of the course name.\n",
    "for desc in course_desc:\n",
    "    print(desc.text)\n",
    "\n",
    "#Getting the course unit, printing it (to make sure it works), appending to the respective list  \n",
    "course_unit= driver.find_elements(By.XPATH,'//*[@id=\"main-content\"]/main/aside[2]/div/div/div/div[3]/div[3]/div/div[2]/div/div/div[1]/div/div[1]/div[1]/div')\n",
    "#The for loop will print the name of the course name.\n",
    "for unit in course_unit:\n",
    "    print(unit.text)\n",
    "\n",
    "iit.append([name.text,desc.text,unit.text])"
   ]
  },
  {
   "cell_type": "code",
   "execution_count": 495,
   "id": "117a7f89",
   "metadata": {
    "pycharm": {
     "name": "#%%\n"
    }
   },
   "outputs": [
    {
     "name": "stdout",
     "output_type": "stream",
     "text": [
      "ISTA320 - Applied Data Visualization\n",
      "This course will introduce students to the fundamental concepts and tools used to convey the information contained within large, complex data sets through a variety of visualization techniques. Students will learn the fundamentals of data exploration data via visualizations, how to manipulate and reshape data to make it suitable for visualization, and how to prepare everything from simple single-variable visualizations to large multi-tiered and interactive visualizations. Visualization theory will be presented alongside the technical aspect of the course to develop a holistic understanding of the topic.\n",
      "3\n"
     ]
    }
   ],
   "source": [
    "courses =  \"https://catalog.arizona.edu/courses?page=1&cq=\"+\"ISTA320\"\n",
    "driver.get(courses)\n",
    "\n",
    "    \n",
    "#Pressing the course button\n",
    "course_btn_path = '//*[@id=\"courses-list\"]/div/div[2]/div/button'\n",
    "course_btn = driver.find_element(By.XPATH, course_btn_path)\n",
    "course_btn.click()\n",
    "\n",
    "#Getting the course name, printing it (to make sure it works), appending to the respective list  \n",
    "course_name= driver.find_elements(By.XPATH,'//*[@id=\"main-content\"]/main/aside[2]/div/div/div/div[3]/h1')\n",
    "#The for loop will print the name of the course name.\n",
    "for name in course_name:\n",
    "    print(name.text)\n",
    "    \n",
    "#Getting the course description, printing it (to make sure it works), appending to the respective list  \n",
    "course_desc= driver.find_elements(By.XPATH,'//*[@id=\"main-content\"]/main/aside[2]/div/div/div/div[3]/div[3]/div/div[1]/div/div/div')\n",
    "#The for loop will print the name of the course name.\n",
    "for desc in course_desc:\n",
    "    print(desc.text)\n",
    "\n",
    "#Getting the course unit, printing it (to make sure it works), appending to the respective list  \n",
    "course_unit= driver.find_elements(By.XPATH,'//*[@id=\"main-content\"]/main/aside[2]/div/div/div/div[3]/div[3]/div/div[2]/div/div/div[1]/div/div[1]/div[1]/div')\n",
    "#The for loop will print the name of the course name.\n",
    "for unit in course_unit:\n",
    "    print(unit.text)\n",
    "\n",
    "iit.append([name.text,desc.text,unit.text])"
   ]
  },
  {
   "cell_type": "code",
   "execution_count": 496,
   "id": "b6c0eac6",
   "metadata": {
    "pycharm": {
     "name": "#%%\n"
    }
   },
   "outputs": [
    {
     "name": "stdout",
     "output_type": "stream",
     "text": [
      "ISTA330 - Advanced Web Design\n",
      "This course will provide a comprehensive introduction to web application development, covering JavaScript, front-end development using React/Angular, back-end development using JavaScript based platforms, relational and NoSQL databases and fundamentals of DevOps.\n",
      "3\n"
     ]
    }
   ],
   "source": [
    "courses =  \"https://catalog.arizona.edu/courses?page=1&cq=\"+\"ISTA330\"\n",
    "driver.get(courses)\n",
    "    \n",
    "    \n",
    "#Pressing the course button\n",
    "course_btn_path = '//*[@id=\"courses-list\"]/div/div[2]/div/button'\n",
    "course_btn = driver.find_element(By.XPATH, course_btn_path)\n",
    "course_btn.click()\n",
    "\n",
    "#Getting the course name, printing it (to make sure it works), appending to the respective list  \n",
    "course_name= driver.find_elements(By.XPATH,'//*[@id=\"main-content\"]/main/aside[2]/div/div/div/div[3]/h1')\n",
    "#The for loop will print the name of the course name.\n",
    "for name in course_name:\n",
    "    print(name.text)\n",
    "    \n",
    "#Getting the course description, printing it (to make sure it works), appending to the respective list  \n",
    "course_desc= driver.find_elements(By.XPATH,'//*[@id=\"main-content\"]/main/aside[2]/div/div/div/div[3]/div[3]/div/div[1]/div/div/div')\n",
    "#The for loop will print the name of the course name.\n",
    "for desc in course_desc:\n",
    "    print(desc.text)\n",
    "\n",
    "#Getting the course unit, printing it (to make sure it works), appending to the respective list  \n",
    "course_unit= driver.find_elements(By.XPATH,'//*[@id=\"main-content\"]/main/aside[2]/div/div/div/div[3]/div[3]/div/div[2]/div/div/div[1]/div/div[1]/div[1]/div')\n",
    "#The for loop will print the name of the course name.\n",
    "for unit in course_unit:\n",
    "    print(unit.text)\n",
    "\n",
    "iit.append([name.text,desc.text,unit.text])"
   ]
  },
  {
   "cell_type": "code",
   "execution_count": 498,
   "id": "37607141",
   "metadata": {
    "pycharm": {
     "name": "#%%\n"
    }
   },
   "outputs": [
    {
     "name": "stdout",
     "output_type": "stream",
     "text": [
      "ISTA350 - Programming for Informatics Applications\n",
      "This course will provide an introduction to informatics application programming using the python programming language and applying statistical concepts from a first semester statistics course. A key goal of this course is to prepare students for upper division ISTA courses by expanding on the skills gained in ISTA 116 and 130 but will be broadly applicable to any informatics discipline. Throughout the semester students will be faced with information application problems drawn from several different disciplines in order to expand their breadth of experience while simultaneously increasing their depth of knowledge of scientific and informatics programming methods. Students will practice problem decomposition and abstraction, gaining experience in identifying commonly occurring information processing issues and in applying well-known solutions. In addition, students will design their own algorithmic solutions to problems and will learn how to effectively compare different solutions, evaluating efficiency in order to choose the best solution for a given problem. Periodic code reviews will be held in order to expose students to a range of different solution methods, which will aid them in discovering weaknesses in their own work and will improve their ability to communicate with others on technical topics. The course will include an introduction to the python scientific computing libraries and other statistical packages. Additional course topics will include the use of version control systems, software profiling, general software engineering practices and basic shell scripting.\n",
      "4\n"
     ]
    }
   ],
   "source": [
    "courses =  \"https://catalog.arizona.edu/courses?page=1&cq=\"+\"ISTA350\"\n",
    "driver.get(courses)\n",
    "    \n",
    "    \n",
    "#Pressing the course button\n",
    "course_btn_path = '//*[@id=\"courses-list\"]/div/div[2]/div/button'\n",
    "course_btn = driver.find_element(By.XPATH, course_btn_path)\n",
    "course_btn.click()\n",
    "\n",
    "#Getting the course name, printing it (to make sure it works), appending to the respective list  \n",
    "course_name= driver.find_elements(By.XPATH,'//*[@id=\"main-content\"]/main/aside[2]/div/div/div/div[3]/h1')\n",
    "#The for loop will print the name of the course name.\n",
    "for name in course_name:\n",
    "    print(name.text)\n",
    "    \n",
    "#Getting the course description, printing it (to make sure it works), appending to the respective list  \n",
    "course_desc= driver.find_elements(By.XPATH,'//*[@id=\"main-content\"]/main/aside[2]/div/div/div/div[3]/div[3]/div/div[1]/div/div/div')\n",
    "#The for loop will print the name of the course name.\n",
    "for desc in course_desc:\n",
    "    print(desc.text)\n",
    "\n",
    "#Getting the course unit, printing it (to make sure it works), appending to the respective list  \n",
    "course_unit= driver.find_elements(By.XPATH,'//*[@id=\"main-content\"]/main/aside[2]/div/div/div/div[3]/div[3]/div/div[2]/div/div/div[1]/div/div[1]/div[1]/div')\n",
    "#The for loop will print the name of the course name.\n",
    "for unit in course_unit:\n",
    "    print(unit.text)\n",
    "\n",
    "iit.append([name.text,desc.text,unit.text])"
   ]
  },
  {
   "cell_type": "code",
   "execution_count": 499,
   "id": "e2097f15",
   "metadata": {
    "pycharm": {
     "name": "#%%\n"
    }
   },
   "outputs": [
    {
     "name": "stdout",
     "output_type": "stream",
     "text": [
      "ISTA403 - Creative Coding\n",
      "This course continues the exploration of creative coding that began in ISTA 303. Students will develop experimental and creative works based, in part, on techniques from the fields of human-computer interaction, computer vision, virtual reality, machine learning, and other disciplines that have the potential to impact our culture through the introduction of new technologies. Aside from gaining technical proficiencies needed to engage with these topics (e.g., software engineering, physical computing techniques, familiarity with multimedia packages and libraries), students will have the opportunity to explore the use of novel interaction devices (e.g., Kinect, Wii, LeapMotion, Glasses, and Oculus Rift) as well as to experiment with a range of digital media environments (e.g., projection mapping, live coding, sonification, mobile devices, physical sensors,augmented reality, immersive systems). Moreover, students will become more familiar with the history and current state of the fields of new media art and creative coding. Students will read widely from journal articles and from media arts conference and festival proceedings, and will be expected to document their own work in a clear, professional manner, both through writing assignments and the creation of an online portfolio of creative projects. By the end of this course students will have the ability to participate meaningfully (through the implementation and documentation of creative projects) in contemporary discourse regarding art and technology.\n",
      "3\n"
     ]
    }
   ],
   "source": [
    "courses =  \"https://catalog.arizona.edu/courses?page=1&cq=\"+ \"ISTA403\"\n",
    "driver.get(courses)\n",
    "    \n",
    "    \n",
    "#Pressing the course button\n",
    "course_btn_path = '//*[@id=\"courses-list\"]/div/div[2]/div/button'\n",
    "course_btn = driver.find_element(By.XPATH, course_btn_path)\n",
    "course_btn.click()\n",
    "\n",
    "#Getting the course name, printing it (to make sure it works), appending to the respective list  \n",
    "course_name= driver.find_elements(By.XPATH,'//*[@id=\"main-content\"]/main/aside[2]/div/div/div/div[3]/h1')\n",
    "#The for loop will print the name of the course name.\n",
    "for name in course_name:\n",
    "    print(name.text)\n",
    "    \n",
    "#Getting the course description, printing it (to make sure it works), appending to the respective list  \n",
    "course_desc= driver.find_elements(By.XPATH,'//*[@id=\"main-content\"]/main/aside[2]/div/div/div/div[3]/div[3]/div/div[1]/div/div/div')\n",
    "#The for loop will print the name of the course name.\n",
    "for desc in course_desc:\n",
    "    print(desc.text)\n",
    "\n",
    "#Getting the course unit, printing it (to make sure it works), appending to the respective list  \n",
    "course_unit= driver.find_elements(By.XPATH,'//*[@id=\"main-content\"]/main/aside[2]/div/div/div/div[3]/div[3]/div/div[2]/div/div/div[1]/div/div[1]/div[1]/div')\n",
    "#The for loop will print the name of the course name.\n",
    "for unit in course_unit:\n",
    "    print(unit.text)\n",
    "\n",
    "iit.append([name.text,desc.text,unit.text])"
   ]
  },
  {
   "cell_type": "code",
   "execution_count": 501,
   "id": "59943ae3",
   "metadata": {
    "pycharm": {
     "name": "#%%\n"
    }
   },
   "outputs": [
    {
     "name": "stdout",
     "output_type": "stream",
     "text": [
      "ISTA416 - Introduction to Human Computer Interaction\n",
      "The field of Human-Computer Interaction (HCI) encompasses the design, implementation, and evaluation of interactive computing systems. This course will provide a survey of HCI theory and practice. The course will address the presentation of information and the design of interaction from a human-centered perspective, looking at relevant perceptive, cognitive, and social factors influencing in the design process. It will motivate practical design guidelines for information presentation through Gestalt theory and studies of consistency, memory, and interpretation. Technological concerns will be examined that include interaction styles, devices, constraints, affordances, and metaphors. Theories, principles and design guidelines will be surveyed for both classical and emerging interaction paradigms, with case studies from practical application scenarios. As a central theme, the course will promote the processes of usability engineering, introducing the concepts of participatory design, requirements analysis, rapid prototyping, iterative development, and user evaluation. Both quantitative and qualitative evaluation strategies will be discussed. This course is co-convened: Upper-level undergraduates and graduate students are encouraged to enroll. Graduate students will be expected to complete more substantial projects and will be given more in-depth reading assignments.\n",
      "3\n"
     ]
    }
   ],
   "source": [
    "courses =  \"https://catalog.arizona.edu/courses?page=1&cq=\"+\"ISTA416\"\n",
    "driver.get(courses)\n",
    "    \n",
    "#Pressing the course button\n",
    "course_btn_path = '//*[@id=\"courses-list\"]/div/div[2]/div/button'\n",
    "course_btn = driver.find_element(By.XPATH, course_btn_path)\n",
    "course_btn.click()\n",
    "\n",
    "#Getting the course name, printing it (to make sure it works), appending to the respective list  \n",
    "course_name= driver.find_elements(By.XPATH,'//*[@id=\"main-content\"]/main/aside[2]/div/div/div/div[3]/h1')\n",
    "#The for loop will print the name of the course name.\n",
    "for name in course_name:\n",
    "    print(name.text)\n",
    "    \n",
    "#Getting the course description, printing it (to make sure it works), appending to the respective list  \n",
    "course_desc= driver.find_elements(By.XPATH,'//*[@id=\"main-content\"]/main/aside[2]/div/div/div/div[3]/div[3]/div/div[1]/div/div/div')\n",
    "#The for loop will print the name of the course name.\n",
    "for desc in course_desc:\n",
    "    print(desc.text)\n",
    "\n",
    "#Getting the course unit, printing it (to make sure it works), appending to the respective list  \n",
    "course_unit= driver.find_elements(By.XPATH,'//*[@id=\"main-content\"]/main/aside[2]/div/div/div/div[3]/div[3]/div/div[2]/div/div/div[1]/div/div[1]/div[1]/div')\n",
    "#The for loop will print the name of the course name.\n",
    "for unit in course_unit:\n",
    "    print(unit.text)\n",
    "\n",
    "iit.append([name.text,desc.text,unit.text])"
   ]
  },
  {
   "cell_type": "code",
   "execution_count": 502,
   "id": "51a956d6",
   "metadata": {
    "pycharm": {
     "name": "#%%\n"
    }
   },
   "outputs": [
    {
     "name": "stdout",
     "output_type": "stream",
     "text": [
      "ISTA424 - Virtual Reality\n",
      "Virtual reality is an emerging technology that has been widely used in recent years in various areas, such as education, training, well-being, and entertainment. Virtual reality offers a highly immersive experience as the head mounted displays replace the vision of the users with digital imagery. It encompasses many disciplines, such as computer science, human computer interaction, game design and development, information science, and psychology. This course merges a theoretical and practical approach to give students the necessary knowledge to design, develop, and critique virtual reality games and applications.\n",
      "3\n"
     ]
    }
   ],
   "source": [
    "courses =  \"https://catalog.arizona.edu/courses?page=1&cq=\"+\"ISTA424\"\n",
    "driver.get(courses)\n",
    "    \n",
    "    \n",
    "#Pressing the course button\n",
    "course_btn_path = '//*[@id=\"courses-list\"]/div/div[2]/div/button'\n",
    "course_btn = driver.find_element(By.XPATH, course_btn_path)\n",
    "course_btn.click()\n",
    "\n",
    "#Getting the course name, printing it (to make sure it works), appending to the respective list  \n",
    "course_name= driver.find_elements(By.XPATH,'//*[@id=\"main-content\"]/main/aside[2]/div/div/div/div[3]/h1')\n",
    "#The for loop will print the name of the course name.\n",
    "for name in course_name:\n",
    "    print(name.text)\n",
    "    \n",
    "#Getting the course description, printing it (to make sure it works), appending to the respective list  \n",
    "course_desc= driver.find_elements(By.XPATH,'//*[@id=\"main-content\"]/main/aside[2]/div/div/div/div[3]/div[3]/div/div[1]/div/div/div')\n",
    "#The for loop will print the name of the course name.\n",
    "for desc in course_desc:\n",
    "    print(desc.text)\n",
    "\n",
    "#Getting the course unit, printing it (to make sure it works), appending to the respective list  \n",
    "course_unit= driver.find_elements(By.XPATH,'//*[@id=\"main-content\"]/main/aside[2]/div/div/div/div[3]/div[3]/div/div[2]/div/div/div[1]/div/div[1]/div[1]/div')\n",
    "#The for loop will print the name of the course name.\n",
    "for unit in course_unit:\n",
    "    print(unit.text)\n",
    "\n",
    "iit.append([name.text,desc.text,unit.text])"
   ]
  },
  {
   "cell_type": "code",
   "execution_count": 504,
   "id": "74371fcc",
   "metadata": {
    "pycharm": {
     "name": "#%%\n"
    }
   },
   "outputs": [
    {
     "name": "stdout",
     "output_type": "stream",
     "text": [
      "ISTA495 - Special Topics in Information Science, Technology, and Arts\n",
      "Special topics courses are offered to allow students to explore specialized topics not covered in the program curriculum. Multiple topics might be offered in any given year, and specialized topic descriptions will be advertised by the School for students interested in enrolling in the course. A specific course syllabus will be published prior to the offer of a special topic course.\n",
      "1\n"
     ]
    }
   ],
   "source": [
    "courses =  \"https://catalog.arizona.edu/courses?page=1&cq=\"+ \"ISTA495\"\n",
    "driver.get(courses)\n",
    "    \n",
    "#Pressing the course button\n",
    "course_btn_path = '//*[@id=\"courses-list\"]/div/div[2]/div/button'\n",
    "course_btn = driver.find_element(By.XPATH, course_btn_path)\n",
    "course_btn.click()\n",
    "\n",
    "#Getting the course name, printing it (to make sure it works), appending to the respective list  \n",
    "course_name= driver.find_elements(By.XPATH,'//*[@id=\"main-content\"]/main/aside[2]/div/div/div/div[3]/h1')\n",
    "#The for loop will print the name of the course name.\n",
    "for name in course_name:\n",
    "    print(name.text)\n",
    "    \n",
    "#Getting the course description, printing it (to make sure it works), appending to the respective list  \n",
    "course_desc= driver.find_elements(By.XPATH,'//*[@id=\"main-content\"]/main/aside[2]/div/div/div/div[3]/div[3]/div/div[1]/div/div/div')\n",
    "#The for loop will print the name of the course name.\n",
    "for desc in course_desc:\n",
    "    print(desc.text)\n",
    "\n",
    "#Getting the course unit, printing it (to make sure it works), appending to the respective list  \n",
    "course_unit= driver.find_elements(By.XPATH,'//*[@id=\"main-content\"]/main/aside[2]/div/div/div/div[3]/div[3]/div/div[2]/div/div/div[1]/div/div[1]/div[1]/div')\n",
    "#The for loop will print the name of the course name.\n",
    "for unit in course_unit:\n",
    "    print(unit.text)\n",
    "\n",
    "iit.append([name.text,desc.text,unit.text])"
   ]
  },
  {
   "cell_type": "code",
   "execution_count": 526,
   "id": "57ace2ce",
   "metadata": {
    "pycharm": {
     "name": "#%%\n"
    }
   },
   "outputs": [
    {
     "name": "stdout",
     "output_type": "stream",
     "text": [
      "                                         Course Name  \\\n",
      "0                     GAME425 - Algorithms for Games   \n",
      "1                         GAME451 - Game Development   \n",
      "2          ISTA303 - Introduction to Creative Coding   \n",
      "3               ISTA320 - Applied Data Visualization   \n",
      "4                      ISTA330 - Advanced Web Design   \n",
      "5  ISTA350 - Programming for Informatics Applicat...   \n",
      "6                          ISTA403 - Creative Coding   \n",
      "7  ISTA416 - Introduction to Human Computer Inter...   \n",
      "8                          ISTA424 - Virtual Reality   \n",
      "9  ISTA495 - Special Topics in Information Scienc...   \n",
      "\n",
      "                                         Description Unit  \n",
      "0  Algorithms is a crucial component of game deve...    3  \n",
      "1  This course provides a comprehensive survey of...    3  \n",
      "2  While the 20th Century saw the rise of the kno...    3  \n",
      "3  This course will introduce students to the fun...    3  \n",
      "4  This course will provide a comprehensive intro...    3  \n",
      "5  This course will provide an introduction to in...    4  \n",
      "6  This course continues the exploration of creat...    3  \n",
      "7  The field of Human-Computer Interaction (HCI) ...    3  \n",
      "8  Virtual reality is an emerging technology that...    3  \n",
      "9  Special topics courses are offered to allow st...    1  \n"
     ]
    },
    {
     "name": "stderr",
     "output_type": "stream",
     "text": [
      "/var/folders/fy/kdg5szgj6gvbttydkkdzs6j40000gn/T/ipykernel_13161/1736631295.py:3: FutureWarning: Could not cast to int64, falling back to object. This behavior is deprecated. In a future version, when a dtype is passed to 'DataFrame', either all columns will be cast to that dtype, or a TypeError will be raised.\n",
      "  df_iit = pd.DataFrame(iit, columns =['Course Name', 'Description', 'Unit'], dtype = int)\n"
     ]
    }
   ],
   "source": [
    "import pandas as pd \n",
    "\n",
    "df_iit = pd.DataFrame(iit, columns =['Course Name', 'Description', 'Unit'], dtype = int)\n",
    "print(df_iit)"
   ]
  },
  {
   "cell_type": "markdown",
   "id": "4d79a1a8",
   "metadata": {
    "pycharm": {
     "name": "#%% md\n"
    }
   },
   "source": [
    "# Computational Arts & Media "
   ]
  },
  {
   "cell_type": "code",
   "execution_count": 506,
   "id": "a7053d2b",
   "metadata": {
    "pycharm": {
     "name": "#%%\n"
    }
   },
   "outputs": [],
   "source": [
    "cam= [] "
   ]
  },
  {
   "cell_type": "code",
   "execution_count": 507,
   "id": "4b7c2956",
   "metadata": {
    "pycharm": {
     "name": "#%%\n"
    }
   },
   "outputs": [
    {
     "name": "stdout",
     "output_type": "stream",
     "text": [
      "ESOC300 - Digital Storytelling and Culture\n",
      "This course will lay a foundation for understanding how stories shape communities, identities, memories, and perspectives on our lives. In addition, this course will provide opportunities for the theoretical analysis of self representation, composite narratives on behalf of others, cultural heritage, and memories as they are preserved and performed within stories and through narrative. Influences on digital digital storytelling such as the sociocultural context, the institutional contexts of production the audience, and the needs or goals of the digital storyteller will be examined. Students will be required to call on their own intellectual, emotional, and imaginative processes, as well as to develop their own skills in digital storytelling, interviewing, oral history collection, and the use of relevant digital storytelling tools.\n",
      "3\n"
     ]
    }
   ],
   "source": [
    "courses =  \"https://catalog.arizona.edu/courses?page=1&cq=\"+ \"ESOC300\"\n",
    "driver.get(courses)\n",
    "    \n",
    "    \n",
    "#Pressing the course button\n",
    "course_btn_path = '//*[@id=\"courses-list\"]/div/div[2]/div/button'\n",
    "course_btn = driver.find_element(By.XPATH, course_btn_path)\n",
    "course_btn.click()\n",
    "\n",
    "#Getting the course name, printing it (to make sure it works), appending to the respective list  \n",
    "course_name= driver.find_elements(By.XPATH,'//*[@id=\"main-content\"]/main/aside[2]/div/div/div/div[3]/h1')\n",
    "#The for loop will print the name of the course name.\n",
    "for name in course_name:\n",
    "    print(name.text)\n",
    "    \n",
    "#Getting the course description, printing it (to make sure it works), appending to the respective list  \n",
    "course_desc= driver.find_elements(By.XPATH,'//*[@id=\"main-content\"]/main/aside[2]/div/div/div/div[3]/div[3]/div/div[1]/div/div/div')\n",
    "#The for loop will print the name of the course name.\n",
    "for desc in course_desc:\n",
    "    print(desc.text)\n",
    "\n",
    "#Getting the course unit, printing it (to make sure it works), appending to the respective list  \n",
    "course_unit= driver.find_elements(By.XPATH,'//*[@id=\"main-content\"]/main/aside[2]/div/div/div/div[3]/div[3]/div/div[2]/div/div/div[1]/div/div[1]/div[1]/div')\n",
    "#The for loop will print the name of the course name.\n",
    "for unit in course_unit:\n",
    "    print(unit.text)\n",
    "\n",
    "cam.append([name.text,desc.text,unit.text])"
   ]
  },
  {
   "cell_type": "code",
   "execution_count": 508,
   "id": "2ebb1001",
   "metadata": {
    "pycharm": {
     "name": "#%%\n"
    }
   },
   "outputs": [
    {
     "name": "stdout",
     "output_type": "stream",
     "text": [
      "ESOC340 - Information, Multimedia Design & the Moving Image\n",
      "We are living in a time when nearly everyone has the means to make movies, music and photos using just their own personal tools like smartphones, iPads, and similar mobile gadgets. This course will develop and refine skills and understanding of multimedia in contemporary culture. Offering a survey of innovative works in film and information arts, this course will allow students a hands-on opportunity to respond to concepts covered in class using self-produced media.\n",
      "\n",
      "This course will address how information functions in time-based forms of multimedia and video in this era of interactive information and displays. Drawing on historical precedents in the media and computational arts, this course focuses on both linear and non-linear approaches of using image, sound and text to create critical and creative works that function in a the context of social media and our contemporary digital society.\n",
      "\n",
      "How and why do certain images, music or films affect us so profoundly? We will address this question through a study of the components of media literacy that include: Production, Language, Representation, and Audience. These concepts will be examined through a cross-section of writers including: Marshall McLuhan, John Berger and Susan Sontag.\n",
      "3\n"
     ]
    }
   ],
   "source": [
    "courses =  \"https://catalog.arizona.edu/courses?page=1&cq=\"+ \"ESOC340\"\n",
    "driver.get(courses)\n",
    "    \n",
    "    \n",
    "    \n",
    "#Pressing the course button\n",
    "course_btn_path = '//*[@id=\"courses-list\"]/div/div[2]/div/button'\n",
    "course_btn = driver.find_element(By.XPATH, course_btn_path)\n",
    "course_btn.click()\n",
    "\n",
    "#Getting the course name, printing it (to make sure it works), appending to the respective list  \n",
    "course_name= driver.find_elements(By.XPATH,'//*[@id=\"main-content\"]/main/aside[2]/div/div/div/div[3]/h1')\n",
    "#The for loop will print the name of the course name.\n",
    "for name in course_name:\n",
    "    print(name.text)\n",
    "    \n",
    "#Getting the course description, printing it (to make sure it works), appending to the respective list  \n",
    "course_desc= driver.find_elements(By.XPATH,'//*[@id=\"main-content\"]/main/aside[2]/div/div/div/div[3]/div[3]/div/div[1]/div/div/div')\n",
    "#The for loop will print the name of the course name.\n",
    "for desc in course_desc:\n",
    "    print(desc.text)\n",
    "\n",
    "#Getting the course unit, printing it (to make sure it works), appending to the respective list  \n",
    "course_unit= driver.find_elements(By.XPATH,'//*[@id=\"main-content\"]/main/aside[2]/div/div/div/div[3]/div[3]/div/div[2]/div/div/div[1]/div/div[1]/div[1]/div')\n",
    "#The for loop will print the name of the course name.\n",
    "for unit in course_unit:\n",
    "    print(unit.text)\n",
    "\n",
    "cam.append([name.text,desc.text,unit.text])"
   ]
  },
  {
   "cell_type": "code",
   "execution_count": 510,
   "id": "15136341",
   "metadata": {
    "pycharm": {
     "name": "#%%\n"
    }
   },
   "outputs": [
    {
     "name": "stdout",
     "output_type": "stream",
     "text": [
      "ISTA301 - Computing and the Arts\n",
      "This course examines the ways in which computing and information science support and facilitate the production and creation of art in current society. A particular focus of the course will be to discuss how artists have used advances in technology and computing capacity to explore new ways of making art, and to investigate the relationships between technical innovation and the artistic process.\n",
      "3\n"
     ]
    }
   ],
   "source": [
    "courses =  \"https://catalog.arizona.edu/courses?page=1&cq=\"+\"ISTA301\" \n",
    "driver.get(courses)\n",
    "    \n",
    "    \n",
    "#Pressing the course button\n",
    "course_btn_path = '//*[@id=\"courses-list\"]/div/div[2]/div/button'\n",
    "course_btn = driver.find_element(By.XPATH, course_btn_path)\n",
    "course_btn.click()\n",
    "\n",
    "#Getting the course name, printing it (to make sure it works), appending to the respective list  \n",
    "course_name= driver.find_elements(By.XPATH,'//*[@id=\"main-content\"]/main/aside[2]/div/div/div/div[3]/h1')\n",
    "#The for loop will print the name of the course name.\n",
    "for name in course_name:\n",
    "    print(name.text)\n",
    "    \n",
    "#Getting the course description, printing it (to make sure it works), appending to the respective list  \n",
    "course_desc= driver.find_elements(By.XPATH,'//*[@id=\"main-content\"]/main/aside[2]/div/div/div/div[3]/div[3]/div/div[1]/div/div/div')\n",
    "#The for loop will print the name of the course name.\n",
    "for desc in course_desc:\n",
    "    print(desc.text)\n",
    "\n",
    "#Getting the course unit, printing it (to make sure it works), appending to the respective list  \n",
    "course_unit= driver.find_elements(By.XPATH,'//*[@id=\"main-content\"]/main/aside[2]/div/div/div/div[3]/div[3]/div/div[2]/div/div/div[1]/div/div[1]/div[1]/div')\n",
    "#The for loop will print the name of the course name.\n",
    "for unit in course_unit:\n",
    "    print(unit.text)\n",
    "\n",
    "cam.append([name.text,desc.text,unit.text])"
   ]
  },
  {
   "cell_type": "code",
   "execution_count": 513,
   "id": "93853442",
   "metadata": {
    "pycharm": {
     "name": "#%%\n"
    }
   },
   "outputs": [
    {
     "name": "stdout",
     "output_type": "stream",
     "text": [
      "ISTA302 - Technology of Sound\n",
      "This course will provide the student with the information and experience necessary for the creation and manipulation of digital audio. Students will have the opportunity to experience the music-making process with the technology tools and techniques that are common in both home and professional studios. The class will make use of a variety of software packages designed for contemporary music production, explaining the universal techniques and concepts that run through all major software programs. Topics will include musical analysis, MIDI control, synthesis techniques, audio editing, and audio mixing. Lab assignments will emphasize hands-on experience working with musical hardware and software to provide the necessary skills to create music based on today's musical styles. The course provides the foundation for further study, creative applications, and personal expression.\n",
      "3\n"
     ]
    }
   ],
   "source": [
    "courses =  \"https://catalog.arizona.edu/courses?page=1&cq=\"+\"ISTA302\" \n",
    "driver.get(courses)\n",
    "    \n",
    "    \n",
    "#Pressing the course button\n",
    "course_btn_path = ' //*[@id=\"courses-list\"]/div/div[2]/div/button'\n",
    "course_btn = driver.find_element(By.XPATH, course_btn_path)\n",
    "course_btn.click()\n",
    "\n",
    "#Getting the course name, printing it (to make sure it works), appending to the respective list  \n",
    "course_name= driver.find_elements(By.XPATH,'//*[@id=\"main-content\"]/main/aside[2]/div/div/div/div[3]/h1')\n",
    "#The for loop will print the name of the course name.\n",
    "for name in course_name:\n",
    "    print(name.text)\n",
    "    \n",
    "#Getting the course description, printing it (to make sure it works), appending to the respective list  \n",
    "course_desc= driver.find_elements(By.XPATH,'//*[@id=\"main-content\"]/main/aside[2]/div/div/div/div[3]/div[3]/div/div[1]/div/div/div')\n",
    "#The for loop will print the name of the course name.\n",
    "for desc in course_desc:\n",
    "    print(desc.text)\n",
    "\n",
    "#Getting the course unit, printing it (to make sure it works), appending to the respective list  \n",
    "course_unit= driver.find_elements(By.XPATH,'//*[@id=\"main-content\"]/main/aside[2]/div/div/div/div[3]/div[3]/div/div[2]/div/div/div[1]/div/div[1]/div[1]/div')\n",
    "#The for loop will print the name of the course name.\n",
    "for unit in course_unit:\n",
    "    print(unit.text)\n",
    "\n",
    "cam.append([name.text,desc.text,unit.text])"
   ]
  },
  {
   "cell_type": "code",
   "execution_count": 516,
   "id": "4ac33f83",
   "metadata": {
    "pycharm": {
     "name": "#%%\n"
    }
   },
   "outputs": [
    {
     "name": "stdout",
     "output_type": "stream",
     "text": [
      "ISTA303 - Introduction to Creative Coding\n",
      "While the 20th Century saw the rise of the knowledge worker and the information worker, the 21st Century has ushered in the era of the creative professional. Our society is being rapidly transformed by new technologies that are revolutionizing many spheres of life, from entrepreneurship to artistic production. This course provides an introduction to software and hardware packages that are spurring innovation and creativity. Students will explore rapid prototyping, object design, and physical computing using Computer-Aided Design Software, 3D printing technology, and Arduino circuit boards. The Processing programming language will be introduced in this course and used to create generative artworks in both visual and audio idioms. An overview of creative evolutionary computation will survey applications of genetic algorithms and artificial intelligence for creating art.\n",
      "3\n"
     ]
    }
   ],
   "source": [
    "courses =  \"https://catalog.arizona.edu/courses?page=1&cq=\"+ \"ISTA303\"\n",
    "driver.get(courses)\n",
    "    \n",
    "    \n",
    "    \n",
    "#Pressing the course button\n",
    "course_btn_path = '//*[@id=\"courses-list\"]/div/div[2]/div/button'\n",
    "course_btn = driver.find_element(By.XPATH, course_btn_path)\n",
    "course_btn.click()\n",
    "\n",
    "#Getting the course name, printing it (to make sure it works), appending to the respective list  \n",
    "course_name= driver.find_elements(By.XPATH,'//*[@id=\"main-content\"]/main/aside[2]/div/div/div/div[3]/h1')\n",
    "#The for loop will print the name of the course name.\n",
    "for name in course_name:\n",
    "    print(name.text)\n",
    "    \n",
    "#Getting the course description, printing it (to make sure it works), appending to the respective list  \n",
    "course_desc= driver.find_elements(By.XPATH,'//*[@id=\"main-content\"]/main/aside[2]/div/div/div/div[3]/div[3]/div/div[1]/div/div/div')\n",
    "#The for loop will print the name of the course name.\n",
    "for desc in course_desc:\n",
    "    print(desc.text)\n",
    "\n",
    "#Getting the course unit, printing it (to make sure it works), appending to the respective list  \n",
    "course_unit= driver.find_elements(By.XPATH,'//*[@id=\"main-content\"]/main/aside[2]/div/div/div/div[3]/div[3]/div/div[2]/div/div/div[1]/div/div[1]/div[1]/div')\n",
    "#The for loop will print the name of the course name.\n",
    "for unit in course_unit:\n",
    "    print(unit.text)\n",
    "\n",
    "cam.append([name.text,desc.text,unit.text])"
   ]
  },
  {
   "cell_type": "code",
   "execution_count": 517,
   "id": "662607ea",
   "metadata": {
    "pycharm": {
     "name": "#%%\n"
    }
   },
   "outputs": [
    {
     "name": "stdout",
     "output_type": "stream",
     "text": [
      "ISTA329 - Introduction to Web Design and Development\n",
      "An introduction to web design and development, with an emphasis on client-side technologies. Topics include HTML, Cascading Style Sheets (CSS), JavaScript, and web design best practices.\n",
      "3\n"
     ]
    }
   ],
   "source": [
    "courses =  \"https://catalog.arizona.edu/courses?page=1&cq=\"+ \"ISTA329\"\n",
    "driver.get(courses)\n",
    "    \n",
    "    \n",
    "#Pressing the course button\n",
    "course_btn_path = '//*[@id=\"courses-list\"]/div/div[2]/div/button'\n",
    "course_btn = driver.find_element(By.XPATH, course_btn_path)\n",
    "course_btn.click()\n",
    "\n",
    "#Getting the course name, printing it (to make sure it works), appending to the respective list  \n",
    "course_name= driver.find_elements(By.XPATH,'//*[@id=\"main-content\"]/main/aside[2]/div/div/div/div[3]/h1')\n",
    "#The for loop will print the name of the course name.\n",
    "for name in course_name:\n",
    "    print(name.text)\n",
    "    \n",
    "#Getting the course description, printing it (to make sure it works), appending to the respective list  \n",
    "course_desc= driver.find_elements(By.XPATH,'//*[@id=\"main-content\"]/main/aside[2]/div/div/div/div[3]/div[3]/div/div[1]/div/div/div')\n",
    "#The for loop will print the name of the course name.\n",
    "for desc in course_desc:\n",
    "    print(desc.text)\n",
    "\n",
    "#Getting the course unit, printing it (to make sure it works), appending to the respective list  \n",
    "course_unit= driver.find_elements(By.XPATH,'//*[@id=\"main-content\"]/main/aside[2]/div/div/div/div[3]/div[3]/div/div[2]/div/div/div[1]/div/div[1]/div[1]/div')\n",
    "#The for loop will print the name of the course name.\n",
    "for unit in course_unit:\n",
    "    print(unit.text)\n",
    "\n",
    "cam.append([name.text,desc.text,unit.text])"
   ]
  },
  {
   "cell_type": "code",
   "execution_count": 518,
   "id": "3c46c892",
   "metadata": {
    "pycharm": {
     "name": "#%%\n"
    }
   },
   "outputs": [
    {
     "name": "stdout",
     "output_type": "stream",
     "text": [
      "ISTA352 - Images: Past, Present, and Future\n",
      "A significant portion of the human brain is devoted to understanding spatial data and its relation to the world. Through the ages humans have naturally developed external representations of such information for communication, planning, understanding, and entertainment. Further, the digital age has led to an explosion of images available to everyone in forms that are convenient to share, manipulate, and automatically mine for information. In this thematic course we will study images from perspectives that transcend disciplines, and applicable to many of them, including the arts, science and biomedicine, computational intelligence, geography, and security. We will study what images are, how images are stored and distributed, the reproduction of images, how they can be manipulated, using images for visualization, and extracting semantics from images.\n",
      "3\n"
     ]
    }
   ],
   "source": [
    "courses =  \"https://catalog.arizona.edu/courses?page=1&cq=\"+ \"ISTA352\"\n",
    "driver.get(courses)\n",
    "\n",
    "    \n",
    "    \n",
    "#Pressing the course button\n",
    "course_btn_path = '//*[@id=\"courses-list\"]/div/div[2]/div/button'\n",
    "course_btn = driver.find_element(By.XPATH, course_btn_path)\n",
    "course_btn.click()\n",
    "\n",
    "#Getting the course name, printing it (to make sure it works), appending to the respective list  \n",
    "course_name= driver.find_elements(By.XPATH,'//*[@id=\"main-content\"]/main/aside[2]/div/div/div/div[3]/h1')\n",
    "#The for loop will print the name of the course name.\n",
    "for name in course_name:\n",
    "    print(name.text)\n",
    "    \n",
    "#Getting the course description, printing it (to make sure it works), appending to the respective list  \n",
    "course_desc= driver.find_elements(By.XPATH,'//*[@id=\"main-content\"]/main/aside[2]/div/div/div/div[3]/div[3]/div/div[1]/div/div/div')\n",
    "#The for loop will print the name of the course name.\n",
    "for desc in course_desc:\n",
    "    print(desc.text)\n",
    "\n",
    "#Getting the course unit, printing it (to make sure it works), appending to the respective list  \n",
    "course_unit= driver.find_elements(By.XPATH,'//*[@id=\"main-content\"]/main/aside[2]/div/div/div/div[3]/div[3]/div/div[2]/div/div/div[1]/div/div[1]/div[1]/div')\n",
    "#The for loop will print the name of the course name.\n",
    "for unit in course_unit:\n",
    "    print(unit.text)\n",
    "\n",
    "cam.append([name.text,desc.text,unit.text])"
   ]
  },
  {
   "cell_type": "code",
   "execution_count": 519,
   "id": "db6c6b6f",
   "metadata": {
    "pycharm": {
     "name": "#%%\n"
    }
   },
   "outputs": [
    {
     "name": "stdout",
     "output_type": "stream",
     "text": [
      "ISTA401 - Installation Design\n",
      "This course is a hands-on, project-based approach to understanding and designing art installations. Enrollees will learn principles, tools, and techniques of rapid prototyping and installation design, and will collaborate to design and implement a large-scale installation by the end of the semester. The course lectures will also provide an overview of the history, theory, and aesthetics of installation art.\n",
      "3\n"
     ]
    }
   ],
   "source": [
    "courses =  \"https://catalog.arizona.edu/courses?page=1&cq=\"+ \"ISTA401\"\n",
    "driver.get(courses)\n",
    "    \n",
    "    \n",
    "#Pressing the course button\n",
    "course_btn_path = '//*[@id=\"courses-list\"]/div/div[2]/div/button'\n",
    "course_btn = driver.find_element(By.XPATH, course_btn_path)\n",
    "course_btn.click()\n",
    "\n",
    "#Getting the course name, printing it (to make sure it works), appending to the respective list  \n",
    "course_name= driver.find_elements(By.XPATH,'//*[@id=\"main-content\"]/main/aside[2]/div/div/div/div[3]/h1')\n",
    "#The for loop will print the name of the course name.\n",
    "for name in course_name:\n",
    "    print(name.text)\n",
    "    \n",
    "#Getting the course description, printing it (to make sure it works), appending to the respective list  \n",
    "course_desc= driver.find_elements(By.XPATH,'//*[@id=\"main-content\"]/main/aside[2]/div/div/div/div[3]/div[3]/div/div[1]/div/div/div')\n",
    "#The for loop will print the name of the course name.\n",
    "for desc in course_desc:\n",
    "    print(desc.text)\n",
    "\n",
    "#Getting the course unit, printing it (to make sure it works), appending to the respective list  \n",
    "course_unit= driver.find_elements(By.XPATH,'//*[@id=\"main-content\"]/main/aside[2]/div/div/div/div[3]/div[3]/div/div[2]/div/div/div[1]/div/div[1]/div[1]/div')\n",
    "#The for loop will print the name of the course name.\n",
    "for unit in course_unit:\n",
    "    print(unit.text)\n",
    "\n",
    "cam.append([name.text,desc.text,unit.text])"
   ]
  },
  {
   "cell_type": "code",
   "execution_count": 522,
   "id": "1ced6d8a",
   "metadata": {
    "pycharm": {
     "name": "#%%\n"
    }
   },
   "outputs": [
    {
     "name": "stdout",
     "output_type": "stream",
     "text": [
      "ISTA401 - Installation Design\n",
      "This course is a hands-on, project-based approach to understanding and designing art installations. Enrollees will learn principles, tools, and techniques of rapid prototyping and installation design, and will collaborate to design and implement a large-scale installation by the end of the semester. The course lectures will also provide an overview of the history, theory, and aesthetics of installation art.\n",
      "3\n"
     ]
    }
   ],
   "source": [
    "courses =  \"https://catalog.arizona.edu/courses?page=1&cq=\"+ \"ISTA401\"\n",
    "driver.get(courses)\n",
    "    \n",
    "    \n",
    "#Pressing the course button\n",
    "course_btn_path = '//*[@id=\"courses-list\"]/div/div[2]/div/button'\n",
    "course_btn = driver.find_element(By.XPATH, course_btn_path)\n",
    "course_btn.click()\n",
    "\n",
    "#Getting the course name, printing it (to make sure it works), appending to the respective list  \n",
    "course_name= driver.find_elements(By.XPATH,'//*[@id=\"main-content\"]/main/aside[2]/div/div/div/div[3]/h1')\n",
    "#The for loop will print the name of the course name.\n",
    "for name in course_name:\n",
    "    print(name.text)\n",
    "    \n",
    "#Getting the course description, printing it (to make sure it works), appending to the respective list  \n",
    "course_desc= driver.find_elements(By.XPATH,'//*[@id=\"main-content\"]/main/aside[2]/div/div/div/div[3]/div[3]/div/div[1]/div/div/div')\n",
    "#The for loop will print the name of the course name.\n",
    "for desc in course_desc:\n",
    "    print(desc.text)\n",
    "\n",
    "#Getting the course unit, printing it (to make sure it works), appending to the respective list  \n",
    "course_unit= driver.find_elements(By.XPATH,'//*[@id=\"main-content\"]/main/aside[2]/div/div/div/div[3]/div[3]/div/div[2]/div/div/div[1]/div/div[1]/div[1]/div')\n",
    "#The for loop will print the name of the course name.\n",
    "for unit in course_unit:\n",
    "    print(unit.text)\n",
    "\n",
    "cam.append([name.text,desc.text,unit.text])"
   ]
  },
  {
   "cell_type": "code",
   "execution_count": 521,
   "id": "9f1aeaf3",
   "metadata": {
    "pycharm": {
     "name": "#%%\n"
    }
   },
   "outputs": [
    {
     "name": "stdout",
     "output_type": "stream",
     "text": [
      "ISTA403 - Creative Coding\n",
      "This course continues the exploration of creative coding that began in ISTA 303. Students will develop experimental and creative works based, in part, on techniques from the fields of human-computer interaction, computer vision, virtual reality, machine learning, and other disciplines that have the potential to impact our culture through the introduction of new technologies. Aside from gaining technical proficiencies needed to engage with these topics (e.g., software engineering, physical computing techniques, familiarity with multimedia packages and libraries), students will have the opportunity to explore the use of novel interaction devices (e.g., Kinect, Wii, LeapMotion, Glasses, and Oculus Rift) as well as to experiment with a range of digital media environments (e.g., projection mapping, live coding, sonification, mobile devices, physical sensors,augmented reality, immersive systems). Moreover, students will become more familiar with the history and current state of the fields of new media art and creative coding. Students will read widely from journal articles and from media arts conference and festival proceedings, and will be expected to document their own work in a clear, professional manner, both through writing assignments and the creation of an online portfolio of creative projects. By the end of this course students will have the ability to participate meaningfully (through the implementation and documentation of creative projects) in contemporary discourse regarding art and technology.\n",
      "3\n"
     ]
    }
   ],
   "source": [
    "courses =  \"https://catalog.arizona.edu/courses?page=1&cq=\"+\"ISTA403\" \n",
    "driver.get(courses)\n",
    "    \n",
    "    \n",
    "#Pressing the course button\n",
    "course_btn_path = '//*[@id=\"courses-list\"]/div/div[2]/div/button'\n",
    "course_btn = driver.find_element(By.XPATH, course_btn_path)\n",
    "course_btn.click()\n",
    "\n",
    "#Getting the course name, printing it (to make sure it works), appending to the respective list  \n",
    "course_name= driver.find_elements(By.XPATH,'//*[@id=\"main-content\"]/main/aside[2]/div/div/div/div[3]/h1')\n",
    "#The for loop will print the name of the course name.\n",
    "for name in course_name:\n",
    "    print(name.text)\n",
    "    \n",
    "#Getting the course description, printing it (to make sure it works), appending to the respective list  \n",
    "course_desc= driver.find_elements(By.XPATH,'//*[@id=\"main-content\"]/main/aside[2]/div/div/div/div[3]/div[3]/div/div[1]/div/div/div')\n",
    "#The for loop will print the name of the course name.\n",
    "for desc in course_desc:\n",
    "    print(desc.text)\n",
    "\n",
    "#Getting the course unit, printing it (to make sure it works), appending to the respective list  \n",
    "course_unit= driver.find_elements(By.XPATH,'//*[@id=\"main-content\"]/main/aside[2]/div/div/div/div[3]/div[3]/div/div[2]/div/div/div[1]/div/div[1]/div[1]/div')\n",
    "#The for loop will print the name of the course name.\n",
    "for unit in course_unit:\n",
    "    print(unit.text)\n",
    "\n",
    "cam.append([name.text,desc.text,unit.text])    "
   ]
  },
  {
   "cell_type": "code",
   "execution_count": 525,
   "id": "a9412848",
   "metadata": {
    "pycharm": {
     "name": "#%%\n"
    }
   },
   "outputs": [
    {
     "name": "stdout",
     "output_type": "stream",
     "text": [
      "                                         Course Name  \\\n",
      "0         ESOC300 - Digital Storytelling and Culture   \n",
      "1  ESOC340 - Information, Multimedia Design & the...   \n",
      "2                   ISTA301 - Computing and the Arts   \n",
      "3                      ISTA302 - Technology of Sound   \n",
      "4          ISTA303 - Introduction to Creative Coding   \n",
      "5  ISTA329 - Introduction to Web Design and Devel...   \n",
      "6        ISTA352 - Images: Past, Present, and Future   \n",
      "7                      ISTA401 - Installation Design   \n",
      "8                          ISTA403 - Creative Coding   \n",
      "9                      ISTA401 - Installation Design   \n",
      "\n",
      "                                         Description Unit  \n",
      "0  This course will lay a foundation for understa...    3  \n",
      "1  We are living in a time when nearly everyone h...    3  \n",
      "2  This course examines the ways in which computi...    3  \n",
      "3  This course will provide the student with the ...    3  \n",
      "4  While the 20th Century saw the rise of the kno...    3  \n",
      "5  An introduction to web design and development,...    3  \n",
      "6  A significant portion of the human brain is de...    3  \n",
      "7  This course is a hands-on, project-based appro...    3  \n",
      "8  This course continues the exploration of creat...    3  \n",
      "9  This course is a hands-on, project-based appro...    3  \n"
     ]
    },
    {
     "name": "stderr",
     "output_type": "stream",
     "text": [
      "/var/folders/fy/kdg5szgj6gvbttydkkdzs6j40000gn/T/ipykernel_13161/4097093410.py:3: FutureWarning: Could not cast to int64, falling back to object. This behavior is deprecated. In a future version, when a dtype is passed to 'DataFrame', either all columns will be cast to that dtype, or a TypeError will be raised.\n",
      "  df_cam = pd.DataFrame(cam, columns =['Course Name', 'Description', 'Unit'], dtype = int)\n"
     ]
    }
   ],
   "source": [
    "import pandas as pd \n",
    "\n",
    "df_cam = pd.DataFrame(cam, columns =['Course Name', 'Description', 'Unit'], dtype = int)\n",
    "print(df_cam)"
   ]
  },
  {
   "cell_type": "markdown",
   "id": "39c768e6",
   "metadata": {
    "pycharm": {
     "name": "#%% md\n"
    }
   },
   "source": [
    "# Society"
   ]
  },
  {
   "cell_type": "code",
   "execution_count": 545,
   "id": "96d26c44",
   "metadata": {
    "pycharm": {
     "name": "#%%\n"
    }
   },
   "outputs": [],
   "source": [
    "society = []"
   ]
  },
  {
   "cell_type": "code",
   "execution_count": 546,
   "id": "dd499823",
   "metadata": {
    "pycharm": {
     "name": "#%%\n"
    }
   },
   "outputs": [
    {
     "name": "stdout",
     "output_type": "stream",
     "text": [
      "ESOC313 - Digital Discourse and Identity\n",
      "The focus of this course is on how social information is produced though language and identity work online, focusing on patterns of talk and interactional rules and practices across contexts (e.g., text-messaging, online communities, personal identity work, and transnational blogs). As part of this focused study of talk, this course will explore how online language use can create, maintain, reproduce, or disrupt roles and related norms (e.g., those of a friend, student, expert, or political agent), as well as identities and social categories (e.g., gender, sexuality, race, disability, or nationality). This course will also focus on the broader discourses on a 'global' level, examining human collaboration online for practices tied to elitism, the movement of social capital, racism, power, and the cultural production of inequalities.\n",
      "3\n"
     ]
    }
   ],
   "source": [
    "courses =  \"https://catalog.arizona.edu/courses?page=1&cq=\"+ \"ESOC313\"\n",
    "driver.get(courses)\n",
    "    \n",
    "#Pressing the course button\n",
    "course_btn_path = '//*[@id=\"courses-list\"]/div/div[2]/div/button'\n",
    "course_btn = driver.find_element(By.XPATH, course_btn_path)\n",
    "course_btn.click()\n",
    "\n",
    "#Getting the course name, printing it (to make sure it works), appending to the respective list  \n",
    "course_name= driver.find_elements(By.XPATH,'//*[@id=\"main-content\"]/main/aside[2]/div/div/div/div[3]/h1')\n",
    "#The for loop will print the name of the course name.\n",
    "for name in course_name:\n",
    "    print(name.text)\n",
    "    \n",
    "#Getting the course description, printing it (to make sure it works), appending to the respective list  \n",
    "course_desc= driver.find_elements(By.XPATH,'//*[@id=\"main-content\"]/main/aside[2]/div/div/div/div[3]/div[3]/div/div[1]/div/div/div')\n",
    "#The for loop will print the name of the course name.\n",
    "for desc in course_desc:\n",
    "    print(desc.text)\n",
    "\n",
    "#Getting the course unit, printing it (to make sure it works), appending to the respective list  \n",
    "course_unit= driver.find_elements(By.XPATH,'//*[@id=\"main-content\"]/main/aside[2]/div/div/div/div[3]/div[3]/div/div[2]/div/div/div[1]/div/div[1]/div[1]/div')\n",
    "#The for loop will print the name of the course name.\n",
    "for unit in course_unit:\n",
    "    print(unit.text)\n",
    "\n",
    "society.append([name.text,desc.text,unit.text])    "
   ]
  },
  {
   "cell_type": "code",
   "execution_count": 568,
   "id": "158f6bd0",
   "metadata": {
    "pycharm": {
     "name": "#%%\n"
    }
   },
   "outputs": [
    {
     "name": "stdout",
     "output_type": "stream",
     "text": [
      "ESOC314 - Theories of New Media\n",
      "This course will lay a foundation for theoretical analyses of how people socially create and negotiate information socially, digitally, virtually, and through AI. In addition, this course investigates a variety of approaches ranging from critical cultural studies to behavioral research, considering the differing ways to think about social life and information in contemporary times. Lastly, this class will survey the theoretical underpinnings of new media research across a variety of topic areas to include gaming, eSports, eCommerce, digital `gig labor, online communities, and networked publics.\n",
      "3\n"
     ]
    }
   ],
   "source": [
    "courses =  \"https://catalog.arizona.edu/courses?page=1&cq=\"+\"ESOC314\" \n",
    "driver.get(courses)\n",
    "    \n",
    "#Pressing the course button\n",
    "course_btn_path = '//*[@id=\"courses-list\"]/div/div[2]/div/button'\n",
    "course_btn = driver.find_element(By.XPATH, course_btn_path)\n",
    "course_btn.click()\n",
    "\n",
    "#Getting the course name, printing it (to make sure it works), appending to the respective list  \n",
    "course_name= driver.find_elements(By.XPATH,'//*[@id=\"main-content\"]/main/aside[2]/div/div/div/div[3]/h1')\n",
    "#The for loop will print the name of the course name.\n",
    "for name in course_name:\n",
    "    print(name.text)\n",
    "    \n",
    "#Getting the course description, printing it (to make sure it works), appending to the respective list  \n",
    "course_desc= driver.find_elements(By.XPATH,'//*[@id=\"main-content\"]/main/aside[2]/div/div/div/div[3]/div[3]/div/div[1]/div/div/div')\n",
    "#The for loop will print the name of the course name.\n",
    "for desc in course_desc:\n",
    "    print(desc.text)\n",
    "\n",
    "#Getting the course unit, printing it (to make sure it works), appending to the respective list  \n",
    "course_unit= driver.find_elements(By.XPATH,'//*[@id=\"main-content\"]/main/aside[2]/div/div/div/div[3]/div[3]/div/div[2]/div/div/div[1]/div/div[1]/div[1]/div')\n",
    "#The for loop will print the name of the course name.\n",
    "for unit in course_unit:\n",
    "    print(unit.text)\n",
    "\n",
    "society.append([name.text,desc.text,unit.text])    "
   ]
  },
  {
   "cell_type": "code",
   "execution_count": 569,
   "id": "34e13567",
   "metadata": {
    "pycharm": {
     "name": "#%%\n"
    }
   },
   "outputs": [
    {
     "name": "stdout",
     "output_type": "stream",
     "text": [
      "ESOC315 - Publishing: From Papyrus to E-Book Readers\n",
      "In the early 21st Century, we see publishing in the throes of dramatic changes, from print to electronic most obviously but also in who authors books, the economics of publishing, and how books get to readers. These changes remind us that the dynamics of the movement of the written word to its audience are an integral part of the society in which books are written, produced, and circulate. This 3-credit course takes an historical perspective on publishing, which we will define as the processes by which books come into being in multiple copies and are distributed to reach their audiences. We will start with ancient societies all over the world, and we will investigate the circumstances across societies in which books distinguish themselves from administrative records and begin to serve the needs of the literate elite. We will examine the way the physical form of the book and the technologies for producing it arise from the circumstances of each society, and in turn, how that physical format conditions the character of books and their use. We will trace the rise of publishing practices and identify the factors necessary for the reproduction and distribution of books to form an actual trade in books in varying societies. As we work our way from the ancient world to the early modern world, we will compare publishing practices in different societies and explore commonalities and differences in the relationships that develop between the creation, reproduction and distribution of books. Of particular focus will be our comparison of the rise of publishing and book trades in Europe, Asia, and the Arab world before 1450. After the introduction of printing with metal moveable type in Europe, associated with Gutenberg in approximately 1450, we will have an opportunity to observe the changes that this new technology makes in publishing and the book trade, by comparing the mature manuscript book trade of the late middle ages to that of the hand-press book publishing of early modern Europe. In the run up to the mid-term we will see the effect of monetary capital on the book trades and the shaping of the function of the publisher (although not yet called that). We will also examine related publishing matters such as art and decorative print production as well as the emergence and social role of pamphlets.\n",
      "3\n"
     ]
    }
   ],
   "source": [
    "courses =  \"https://catalog.arizona.edu/courses?page=1&cq=\"+\"ESOC315\" \n",
    "driver.get(courses)\n",
    "    \n",
    "#Pressing the course button\n",
    "course_btn_path = '//*[@id=\"courses-list\"]/div/div[2]/div/button'\n",
    "course_btn = driver.find_element(By.XPATH, course_btn_path)\n",
    "course_btn.click()\n",
    "\n",
    "#Getting the course name, printing it (to make sure it works), appending to the respective list  \n",
    "course_name= driver.find_elements(By.XPATH,'//*[@id=\"main-content\"]/main/aside[2]/div/div/div/div[3]/h1')\n",
    "#The for loop will print the name of the course name.\n",
    "for name in course_name:\n",
    "    print(name.text)\n",
    "    \n",
    "#Getting the course description, printing it (to make sure it works), appending to the respective list  \n",
    "course_desc= driver.find_elements(By.XPATH,'//*[@id=\"main-content\"]/main/aside[2]/div/div/div/div[3]/div[3]/div/div[1]/div/div/div')\n",
    "#The for loop will print the name of the course name.\n",
    "for desc in course_desc:\n",
    "    print(desc.text)\n",
    "\n",
    "#Getting the course unit, printing it (to make sure it works), appending to the respective list  \n",
    "course_unit= driver.find_elements(By.XPATH,'//*[@id=\"main-content\"]/main/aside[2]/div/div/div/div[3]/div[3]/div/div[2]/div/div/div[1]/div/div[1]/div[1]/div')\n",
    "#The for loop will print the name of the course name.\n",
    "for unit in course_unit:\n",
    "    print(unit.text)\n",
    "\n",
    "society.append([name.text,desc.text,unit.text])    "
   ]
  },
  {
   "cell_type": "code",
   "execution_count": 573,
   "id": "8598f000",
   "metadata": {
    "pycharm": {
     "name": "#%%\n"
    }
   },
   "outputs": [
    {
     "name": "stdout",
     "output_type": "stream",
     "text": [
      "ESOC316 - Digital Commerce\n",
      "This course will look at how commerce in information content (websites, books, databases, music, movies, software, etc.) functions. We will discuss things like switching costs, net neutrality, the long tail, differential pricing, and complementary goods. We will address the following sorts of questions:\n",
      "\n",
      "- Why do so many information producers give away content (such as \\\"apps\\\" for mobile phones) for free? How do companies (such as Google and Facebook) stay in business when no one has to pay to use their services?\n",
      "- What are contemporary practices with regard to purchasing access to information content? For instance, why do we tend to buy books, but only rent movies? Also, how do new modes of content provision (such as Pandora and Spotify) change the way that creators get paid for their work?\n",
      "- Why are there restrictions on how information content can be used? For instance, why can you play the DVD that you bought on your trip to Europe on the DVD player that you bought at home in the United States?\n",
      "\n",
      "But why should anybody other than an economist care about the answers to these sorts of questions?\n",
      "\n",
      "The world now runs on the production, dissemination, and consumption of information. All of us constantly access all sorts of information, through all sorts of devices, from all sorts of providers. We read and interact with websites, we query databases, and we communicate with each other via social media. These sorts of activities permeate both our personal and professional lives. In order to successfully navigate this digital world, information consumers, information producers, and information policy makers need to understand what sorts of information goods are likely to be available and how much they are likely to cost.\n",
      "\n",
      "We cannot learn enough about digital commerce simply by studying the various information technologies that are now available to create and disseminate information content. What matters most is how people choose to spend their time using these technologies, and what sorts of content can provide earning potential for its creators. What also matters are the unique properties of information content that make it very different from other sorts of goods. For instance, while only one person at a time can drive a particular car or eat a particular hamburger, millions of people can simultaneously read the same book, listen to the same song, and use the same software. These are issues that are part and parcel to living, working, purchasing, and being entertained in an eSociety; these are the issues addressed in this course.\n",
      "3\n"
     ]
    }
   ],
   "source": [
    "courses =  \"https://catalog.arizona.edu/courses?page=1&cq=\"+\"ESOC316\" \n",
    "driver.get(courses)\n",
    "    \n",
    "    \n",
    "#Pressing the course button\n",
    "course_btn_path = ' //*[@id=\"courses-list\"]/div/div[2]/div/button'\n",
    "course_btn = driver.find_element(By.XPATH, course_btn_path)\n",
    "course_btn.click()\n",
    "\n",
    "#Getting the course name, printing it (to make sure it works), appending to the respective list  \n",
    "course_name= driver.find_elements(By.XPATH,'//*[@id=\"main-content\"]/main/aside[2]/div/div/div/div[3]/h1')\n",
    "#The for loop will print the name of the course name.\n",
    "for name in course_name:\n",
    "    print(name.text)\n",
    "    \n",
    "#Getting the course description, printing it (to make sure it works), appending to the respective list  \n",
    "course_desc= driver.find_elements(By.XPATH,'//*[@id=\"main-content\"]/main/aside[2]/div/div/div/div[3]/div[3]/div/div[1]/div/div/div')\n",
    "#The for loop will print the name of the course name.\n",
    "for desc in course_desc:\n",
    "    print(desc.text)\n",
    "\n",
    "#Getting the course unit, printing it (to make sure it works), appending to the respective list  \n",
    "course_unit= driver.find_elements(By.XPATH,'//*[@id=\"main-content\"]/main/aside[2]/div/div/div/div[3]/div[3]/div/div[2]/div/div/div[1]/div/div[1]/div[1]/div')\n",
    "#The for loop will print the name of the course name.\n",
    "for unit in course_unit:\n",
    "    print(unit.text)\n",
    "\n",
    "society.append([name.text,desc.text,unit.text])    "
   ]
  },
  {
   "cell_type": "code",
   "execution_count": 577,
   "id": "8f760685",
   "metadata": {
    "pycharm": {
     "name": "#%%\n"
    }
   },
   "outputs": [
    {
     "name": "stdout",
     "output_type": "stream",
     "text": [
      "ESOC317 - Digital Crime and Social Media\n",
      "This course provides a powerful introduction to some of the criminal activities taking place in relation to digital information, big data, and social media. Related to the exploration of criminal activity in an eSociety, this course focuses on some of the most common legal issues faced today, with regard to our own personal data (e.g., our health histories, our genetic make up, our cloud-based photos and messages, our past) and in relation to organizational or political data on social media and in society. In this course, students as future technologists, will be exposed to the 'dark side' of this current 'information society' (e.g., deception, cybercrime) as well topics such as big data privacy, digital disruptions, consumer data and related sales, gaming protections, youth safety online, big science data sharing issues and related trust, digital security, as well as how certain groups -- law firms, advocacy groups, marketing professionals, and political or lobbying groups -- are mining data for particular use. Students will be required to consider recent court cases and contentions around the use, management, and protection of data in society as well as the risk humans face in this digital information and mediated age.\n",
      "3\n"
     ]
    }
   ],
   "source": [
    "courses =  \"https://catalog.arizona.edu/courses?page=1&cq=\"+\"ESOC317\" \n",
    "driver.get(courses)\n",
    "    \n",
    "#Pressing the course button\n",
    "course_btn_path = ' //*[@id=\"courses-list\"]/div/div[2]/div/button'\n",
    "course_btn = driver.find_element(By.XPATH, course_btn_path)\n",
    "course_btn.click()\n",
    "\n",
    "#Getting the course name, printing it (to make sure it works), appending to the respective list  \n",
    "course_name= driver.find_elements(By.XPATH,'//*[@id=\"main-content\"]/main/aside[2]/div/div/div/div[3]/h1')\n",
    "#The for loop will print the name of the course name.\n",
    "for name in course_name:\n",
    "    print(name.text)\n",
    "    \n",
    "#Getting the course description, printing it (to make sure it works), appending to the respective list  \n",
    "course_desc= driver.find_elements(By.XPATH,'//*[@id=\"main-content\"]/main/aside[2]/div/div/div/div[3]/div[3]/div/div[1]/div/div/div')\n",
    "#The for loop will print the name of the course name.\n",
    "for desc in course_desc:\n",
    "    print(desc.text)\n",
    "\n",
    "#Getting the course unit, printing it (to make sure it works), appending to the respective list  \n",
    "course_unit= driver.find_elements(By.XPATH,'//*[@id=\"main-content\"]/main/aside[2]/div/div/div/div[3]/div[3]/div/div[2]/div/div/div[1]/div/div[1]/div[1]/div')\n",
    "#The for loop will print the name of the course name.\n",
    "for unit in course_unit:\n",
    "    print(unit.text)\n",
    "\n",
    "society.append([name.text,desc.text,unit.text])    "
   ]
  },
  {
   "cell_type": "code",
   "execution_count": 578,
   "id": "d0da90bd",
   "metadata": {
    "pycharm": {
     "name": "#%%\n"
    }
   },
   "outputs": [
    {
     "name": "stdout",
     "output_type": "stream",
     "text": [
      "ESOC318 - Disruptive Technologies\n",
      "This course introduces key concepts and skills needed for those working with information and communication technologies (ICT). Students will be exposed to hardware and software technologies, and they will explore a wide variety of topics including processing and memory systems, diagnostics and repair strategies, operating systems in both desktop and mobile devices. As part of this course, students will consider current technological disruptions, those issues emerging as technologies and social needs collide. Students we also learn about design issues and user needs tied to mobile or computer applications and web-based tools, sites, games, data platforms, or learning environments.\n",
      "3\n"
     ]
    }
   ],
   "source": [
    "courses =  \"https://catalog.arizona.edu/courses?page=1&cq=\"+\"ESOC318\" \n",
    "driver.get(courses)\n",
    "    \n",
    "#Pressing the course button\n",
    "course_btn_path = '//*[@id=\"courses-list\"]/div/div[2]/div/button'\n",
    "course_btn = driver.find_element(By.XPATH, course_btn_path)\n",
    "course_btn.click()\n",
    "\n",
    "#Getting the course name, printing it (to make sure it works), appending to the respective list  \n",
    "course_name= driver.find_elements(By.XPATH,'//*[@id=\"main-content\"]/main/aside[2]/div/div/div/div[3]/h1')\n",
    "#The for loop will print the name of the course name.\n",
    "for name in course_name:\n",
    "    print(name.text)\n",
    "    \n",
    "#Getting the course description, printing it (to make sure it works), appending to the respective list  \n",
    "course_desc= driver.find_elements(By.XPATH,'//*[@id=\"main-content\"]/main/aside[2]/div/div/div/div[3]/div[3]/div/div[1]/div/div/div')\n",
    "#The for loop will print the name of the course name.\n",
    "for desc in course_desc:\n",
    "    print(desc.text)\n",
    "\n",
    "#Getting the course unit, printing it (to make sure it works), appending to the respective list  \n",
    "course_unit= driver.find_elements(By.XPATH,'//*[@id=\"main-content\"]/main/aside[2]/div/div/div/div[3]/div[3]/div/div[2]/div/div/div[1]/div/div[1]/div[1]/div')\n",
    "#The for loop will print the name of the course name.\n",
    "for unit in course_unit:\n",
    "    print(unit.text)\n",
    "\n",
    "society.append([name.text,desc.text,unit.text])"
   ]
  },
  {
   "cell_type": "code",
   "execution_count": 579,
   "id": "38d5e829",
   "metadata": {
    "pycharm": {
     "name": "#%%\n"
    }
   },
   "outputs": [
    {
     "name": "stdout",
     "output_type": "stream",
     "text": [
      "ESOC319 - Instructional Technologies\n",
      "This course is a broad survey of the processes, theories, and practices around instructional technologies that can be applied to various learning situations. Students will study and apply research and theory on technology adoption, analysis, and support, along with instructional design, learning theories, and training needs analysis. The course will also guide students through the design of effective tech-supported training, technology selection dependent upon learning situations, evaluation of chosen learning technologies, and considerations in instructional technology piloting, adoption, and support. By the end of this course, students will make educated decisions about technology implementation across diverse learning environments.\n",
      "3\n"
     ]
    }
   ],
   "source": [
    "courses =  \"https://catalog.arizona.edu/courses?page=1&cq=\"+\"ESOC319\" \n",
    "driver.get(courses)\n",
    "    \n",
    "#Pressing the course button\n",
    "course_btn_path = '//*[@id=\"courses-list\"]/div/div[2]/div/button'\n",
    "course_btn = driver.find_element(By.XPATH, course_btn_path)\n",
    "course_btn.click()\n",
    "\n",
    "#Getting the course name, printing it (to make sure it works), appending to the respective list  \n",
    "course_name= driver.find_elements(By.XPATH,'//*[@id=\"main-content\"]/main/aside[2]/div/div/div/div[3]/h1')\n",
    "#The for loop will print the name of the course name.\n",
    "for name in course_name:\n",
    "    print(name.text)\n",
    "    \n",
    "#Getting the course description, printing it (to make sure it works), appending to the respective list  \n",
    "course_desc= driver.find_elements(By.XPATH,'//*[@id=\"main-content\"]/main/aside[2]/div/div/div/div[3]/div[3]/div/div[1]/div/div/div')\n",
    "#The for loop will print the name of the course name.\n",
    "for desc in course_desc:\n",
    "    print(desc.text)\n",
    "\n",
    "#Getting the course unit, printing it (to make sure it works), appending to the respective list  \n",
    "course_unit= driver.find_elements(By.XPATH,'//*[@id=\"main-content\"]/main/aside[2]/div/div/div/div[3]/div[3]/div/div[2]/div/div/div[1]/div/div[1]/div[1]/div')\n",
    "#The for loop will print the name of the course name.\n",
    "for unit in course_unit:\n",
    "    print(unit.text)\n",
    "\n",
    "society.append([name.text,desc.text,unit.text])"
   ]
  },
  {
   "cell_type": "code",
   "execution_count": 580,
   "id": "c28712b5",
   "metadata": {
    "pycharm": {
     "name": "#%%\n"
    }
   },
   "outputs": [
    {
     "name": "stdout",
     "output_type": "stream",
     "text": [
      "ESOC330 - Digital Dilemmas - Privacy, Property and Access\n",
      "This course focuses on the ethical issues that arise in the context of new and emerging information technologies-- e.g., threats to privacy of ubiquitous technological surveillance, limitations on access created by digital rights management. The course will use the framework of ethical theory to analyze these issues and to propose policy solutions. The goal of the course is to give students the necessary theoretical foundation to be involved in the evaluation and construction of information policies at the local, national, and international level.\n",
      "\n",
      "The course will focus on three core areas where digital dilemmas arise--information access, information privacy, and intellectual property. In order to achieve depth as well as breadth, the course will put one of these issues at the center and discuss the others in relation to it. So, for instance, the course may focus on Intellectual Property looking at the threats and benefits of IP to privacy and access. This syllabus provides an overview of the range of topics that may be discussed.\n",
      "3\n"
     ]
    }
   ],
   "source": [
    "courses =  \"https://catalog.arizona.edu/courses?page=1&cq=\"+\"ESOC330\" \n",
    "driver.get(courses)\n",
    "    \n",
    "#Pressing the course button\n",
    "course_btn_path = '//*[@id=\"courses-list\"]/div/div[2]/div/button'\n",
    "course_btn = driver.find_element(By.XPATH, course_btn_path)\n",
    "course_btn.click()\n",
    "\n",
    "#Getting the course name, printing it (to make sure it works), appending to the respective list  \n",
    "course_name= driver.find_elements(By.XPATH,'//*[@id=\"main-content\"]/main/aside[2]/div/div/div/div[3]/h1')\n",
    "#The for loop will print the name of the course name.\n",
    "for name in course_name:\n",
    "    print(name.text)\n",
    "    \n",
    "#Getting the course description, printing it (to make sure it works), appending to the respective list  \n",
    "course_desc= driver.find_elements(By.XPATH,'//*[@id=\"main-content\"]/main/aside[2]/div/div/div/div[3]/div[3]/div/div[1]/div/div/div')\n",
    "#The for loop will print the name of the course name.\n",
    "for desc in course_desc:\n",
    "    print(desc.text)\n",
    "\n",
    "#Getting the course unit, printing it (to make sure it works), appending to the respective list  \n",
    "course_unit= driver.find_elements(By.XPATH,'//*[@id=\"main-content\"]/main/aside[2]/div/div/div/div[3]/div[3]/div/div[2]/div/div/div[1]/div/div[1]/div[1]/div')\n",
    "#The for loop will print the name of the course name.\n",
    "for unit in course_unit:\n",
    "    print(unit.text)\n",
    "\n",
    "society.append([name.text,desc.text,unit.text])"
   ]
  },
  {
   "cell_type": "code",
   "execution_count": 593,
   "id": "f62702fa",
   "metadata": {
    "pycharm": {
     "name": "#%%\n"
    }
   },
   "outputs": [
    {
     "name": "stdout",
     "output_type": "stream",
     "text": [
      "ESOC477 - Information Security\n",
      "Security is about protecting assets, such as money and physical possessions. For instance, we use walls, locks, burglar alarms, and even armed guards to keep other people from stealing and/or destroying our stuff. These days, information is typically one of our most important assets. Thus, we have to worry about the possibility of other people stealing and/or destroying it. For instance, criminals threaten our data with scareware or ransomware in order to extort money from us. Also, they use phishing scams and spyware in order to steal our personal information (including passwords), which they can then use to access our computer systems and even steal our identities.\n",
      "3\n"
     ]
    }
   ],
   "source": [
    "courses =  \"https://catalog.arizona.edu/courses?page=1&cq=\"+\"ESOC477\" \n",
    "driver.get(courses)\n",
    "    \n",
    "    \n",
    "#Pressing the course button\n",
    "course_btn_path = ' //*[@id=\"courses-list\"]/div/div[2]/div/button'\n",
    "course_btn = driver.find_element(By.XPATH, course_btn_path)\n",
    "course_btn.click()\n",
    "\n",
    "#Getting the course name, printing it (to make sure it works), appending to the respective list  \n",
    "course_name= driver.find_elements(By.XPATH,'//*[@id=\"main-content\"]/main/aside[2]/div/div/div/div[3]/h1')\n",
    "#The for loop will print the name of the course name.\n",
    "for name in course_name:\n",
    "    print(name.text)\n",
    "    \n",
    "#Getting the course description, printing it (to make sure it works), appending to the respective list  \n",
    "course_desc= driver.find_elements(By.XPATH,'//*[@id=\"main-content\"]/main/aside[2]/div/div/div/div[3]/div[3]/div/div[1]/div/div/div')\n",
    "#The for loop will print the name of the course name.\n",
    "for desc in course_desc:\n",
    "    print(desc.text)\n",
    "\n",
    "#Getting the course unit, printing it (to make sure it works), appending to the respective list  \n",
    "course_unit= driver.find_elements(By.XPATH,'//*[@id=\"main-content\"]/main/aside[2]/div/div/div/div[3]/div[3]/div/div[2]/div/div/div[1]/div/div[1]/div[1]/div')\n",
    "#The for loop will print the name of the course name.\n",
    "for unit in course_unit:\n",
    "    print(unit.text)\n",
    "\n",
    "society.append([name.text,desc.text,unit.text])    "
   ]
  },
  {
   "cell_type": "code",
   "execution_count": 594,
   "id": "12edebc5",
   "metadata": {
    "pycharm": {
     "name": "#%%\n"
    }
   },
   "outputs": [
    {
     "name": "stdout",
     "output_type": "stream",
     "text": [
      "ESOC478 - Science Information and its Presentation\n",
      "In today's digital society, people have access to a wide variety of information sources and scientific data. In this course, students will learn about the role of science and scientific data in society, and they will consider means for making science information findable and understandable for a wide variety of audiences. This course will provide students an interdisciplinary experience for considering science data and how that information gets shared across contexts.\n",
      "3\n"
     ]
    }
   ],
   "source": [
    "courses =  \"https://catalog.arizona.edu/courses?page=1&cq=\"+\"ESOC478\" \n",
    "driver.get(courses)\n",
    "    \n",
    "#Pressing the course button\n",
    "course_btn_path = '//*[@id=\"courses-list\"]/div/div[2]/div/button'\n",
    "course_btn = driver.find_element(By.XPATH, course_btn_path)\n",
    "course_btn.click()\n",
    "\n",
    "#Getting the course name, printing it (to make sure it works), appending to the respective list  \n",
    "course_name= driver.find_elements(By.XPATH,'//*[@id=\"main-content\"]/main/aside[2]/div/div/div/div[3]/h1')\n",
    "#The for loop will print the name of the course name.\n",
    "for name in course_name:\n",
    "    print(name.text)\n",
    "    \n",
    "#Getting the course description, printing it (to make sure it works), appending to the respective list  \n",
    "course_desc= driver.find_elements(By.XPATH,'//*[@id=\"main-content\"]/main/aside[2]/div/div/div/div[3]/div[3]/div/div[1]/div/div/div')\n",
    "#The for loop will print the name of the course name.\n",
    "for desc in course_desc:\n",
    "    print(desc.text)\n",
    "\n",
    "#Getting the course unit, printing it (to make sure it works), appending to the respective list  \n",
    "course_unit= driver.find_elements(By.XPATH,'//*[@id=\"main-content\"]/main/aside[2]/div/div/div/div[3]/div[3]/div/div[2]/div/div/div[1]/div/div[1]/div[1]/div')\n",
    "#The for loop will print the name of the course name.\n",
    "for unit in course_unit:\n",
    "    print(unit.text)\n",
    "\n",
    "society.append([name.text,desc.text,unit.text])"
   ]
  },
  {
   "cell_type": "code",
   "execution_count": 604,
   "id": "dbd3bc76",
   "metadata": {
    "pycharm": {
     "name": "#%%\n"
    }
   },
   "outputs": [
    {
     "name": "stdout",
     "output_type": "stream",
     "text": [
      "ESOC495 - Special Topics in a Digital and Big Data World\n",
      "Special topics courses are offered to allow students to explore specialized topics not covered in the program curriculum. Multiple topics might be offered in any given year, and specialized topic descriptions will be advertised by the School for students interested in enrolling in the course.\n",
      "3\n"
     ]
    }
   ],
   "source": [
    "courses =  \"https://catalog.arizona.edu/courses?page=1&cq=\"+\"ESOC495\" \n",
    "driver.get(courses)\n",
    "    \n",
    "#Pressing the course button\n",
    "course_btn_path = '//*[@id=\"courses-list\"]/div/div[2]/div/button'\n",
    "course_btn = driver.find_element(By.XPATH, course_btn_path)\n",
    "course_btn.click()\n",
    "\n",
    "#Getting the course name, printing it (to make sure it works), appending to the respective list  \n",
    "course_name= driver.find_elements(By.XPATH,'//*[@id=\"main-content\"]/main/aside[2]/div/div/div/div[3]/h1')\n",
    "#The for loop will print the name of the course name.\n",
    "for name in course_name:\n",
    "    print(name.text)\n",
    "    \n",
    "#Getting the course description, printing it (to make sure it works), appending to the respective list  \n",
    "course_desc= driver.find_elements(By.XPATH,'//*[@id=\"main-content\"]/main/aside[2]/div/div/div/div[3]/div[3]/div/div[1]/div/div/div')\n",
    "#The for loop will print the name of the course name.\n",
    "for desc in course_desc:\n",
    "    print(desc.text)\n",
    "\n",
    "#Getting the course unit, printing it (to make sure it works), appending to the respective list  \n",
    "course_unit= driver.find_elements(By.XPATH,'//*[@id=\"main-content\"]/main/aside[2]/div/div/div/div[3]/div[3]/div/div[2]/div/div/div[1]/div/div[1]/div[1]/div')\n",
    "#The for loop will print the name of the course name.\n",
    "for unit in course_unit:\n",
    "    print(unit.text)\n",
    "\n",
    "society.append([name.text,desc.text,unit.text])"
   ]
  },
  {
   "cell_type": "code",
   "execution_count": 605,
   "id": "c6997d6c",
   "metadata": {
    "pycharm": {
     "name": "#%%\n"
    }
   },
   "outputs": [
    {
     "name": "stdout",
     "output_type": "stream",
     "text": [
      "                                          Course Name  \\\n",
      "0            ESOC313 - Digital Discourse and Identity   \n",
      "1                     ESOC314 - Theories of New Media   \n",
      "2   ESOC315 - Publishing: From Papyrus to E-Book R...   \n",
      "3            ESOC317 - Digital Crime and Social Media   \n",
      "4                          ESOC316 - Digital Commerce   \n",
      "5            ESOC317 - Digital Crime and Social Media   \n",
      "6                   ESOC318 - Disruptive Technologies   \n",
      "7                ESOC319 - Instructional Technologies   \n",
      "8   ESOC330 - Digital Dilemmas - Privacy, Property...   \n",
      "9                      ESOC477 - Information Security   \n",
      "10  ESOC478 - Science Information and its Presenta...   \n",
      "11  ESOC495 - Special Topics in a Digital and Big ...   \n",
      "\n",
      "                                          Description Unit  \n",
      "0   The focus of this course is on how social info...    3  \n",
      "1   This course will lay a foundation for theoreti...    3  \n",
      "2   In the early 21st Century, we see publishing i...    3  \n",
      "3   This course provides a powerful introduction t...    3  \n",
      "4   This course will look at how commerce in infor...    3  \n",
      "5   This course provides a powerful introduction t...    3  \n",
      "6   This course introduces key concepts and skills...    3  \n",
      "7   This course is a broad survey of the processes...    3  \n",
      "8   This course focuses on the ethical issues that...    3  \n",
      "9   Security is about protecting assets, such as m...    3  \n",
      "10  In today's digital society, people have access...    3  \n",
      "11  Special topics courses are offered to allow st...    3  \n"
     ]
    },
    {
     "name": "stderr",
     "output_type": "stream",
     "text": [
      "/var/folders/fy/kdg5szgj6gvbttydkkdzs6j40000gn/T/ipykernel_13161/805939312.py:3: FutureWarning: Could not cast to int64, falling back to object. This behavior is deprecated. In a future version, when a dtype is passed to 'DataFrame', either all columns will be cast to that dtype, or a TypeError will be raised.\n",
      "  df_society = pd.DataFrame(society, columns =['Course Name', 'Description', 'Unit'], dtype = int)\n"
     ]
    }
   ],
   "source": [
    "import pandas as pd \n",
    "\n",
    "df_society = pd.DataFrame(society, columns =['Course Name', 'Description', 'Unit'], dtype = int)\n",
    "print(df_society)"
   ]
  },
  {
   "cell_type": "markdown",
   "id": "3a5ee409",
   "metadata": {
    "pycharm": {
     "name": "#%% md\n"
    }
   },
   "source": [
    "# Research Methods"
   ]
  },
  {
   "cell_type": "code",
   "execution_count": 612,
   "id": "94880daa",
   "metadata": {
    "pycharm": {
     "name": "#%%\n"
    }
   },
   "outputs": [],
   "source": [
    "rm = []"
   ]
  },
  {
   "cell_type": "code",
   "execution_count": 613,
   "id": "1be7bcec",
   "metadata": {
    "pycharm": {
     "name": "#%%\n"
    }
   },
   "outputs": [
    {
     "name": "stdout",
     "output_type": "stream",
     "text": [
      "ESOC302 - Quantitative Methods for the Digital Marketplace\n",
      "This course will explore broad research paradigms and theoretical approaches that inform contemporary social research, varying study designs, as well as the systematic methods utilized in differing types of data analyses. Though this course will introduce research processes across the academic spectrum, quantitative analysis of both small and large data sets will be emphasized. Therefore, students will learn about basic statistical analyses and will be introduced to the emerging worlds of data science and social media analytics. Students will also consider related topics such as data visualization or research presentations.\n",
      "3\n"
     ]
    }
   ],
   "source": [
    "courses =  \"https://catalog.arizona.edu/courses?page=1&cq=\"+\"ESOC302\" \n",
    "driver.get(courses)\n",
    "    \n",
    "    \n",
    "#Pressing the course button\n",
    "course_btn_path = '//*[@id=\"courses-list\"]/div/div[2]/div/button'\n",
    "course_btn = driver.find_element(By.XPATH, course_btn_path)\n",
    "course_btn.click()\n",
    "\n",
    "#Getting the course name, printing it (to make sure it works), appending to the respective list  \n",
    "course_name= driver.find_elements(By.XPATH,'//*[@id=\"main-content\"]/main/aside[2]/div/div/div/div[3]/h1')\n",
    "#The for loop will print the name of the course name.\n",
    "for name in course_name:\n",
    "    print(name.text)\n",
    "    \n",
    "#Getting the course description, printing it (to make sure it works), appending to the respective list  \n",
    "course_desc= driver.find_elements(By.XPATH,'//*[@id=\"main-content\"]/main/aside[2]/div/div/div/div[3]/div[3]/div/div[1]/div/div/div')\n",
    "#The for loop will print the name of the course name.\n",
    "for desc in course_desc:\n",
    "    print(desc.text)\n",
    "\n",
    "#Getting the course unit, printing it (to make sure it works), appending to the respective list  \n",
    "course_unit= driver.find_elements(By.XPATH,'//*[@id=\"main-content\"]/main/aside[2]/div/div/div/div[3]/div[3]/div/div[2]/div/div/div[1]/div/div[1]/div[1]/div')\n",
    "#The for loop will print the name of the course name.\n",
    "for unit in course_unit:\n",
    "    print(unit.text)\n",
    "\n",
    "rm.append([name.text,desc.text,unit.text])"
   ]
  },
  {
   "cell_type": "code",
   "execution_count": 614,
   "id": "592bf5a3",
   "metadata": {
    "pycharm": {
     "name": "#%%\n"
    }
   },
   "outputs": [
    {
     "name": "stdout",
     "output_type": "stream",
     "text": [
      "                                         Course Name  \\\n",
      "0  ESOC302 - Quantitative Methods for the Digital...   \n",
      "\n",
      "                                         Description Unit  \n",
      "0  This course will explore broad research paradi...    3  \n"
     ]
    },
    {
     "name": "stderr",
     "output_type": "stream",
     "text": [
      "/var/folders/fy/kdg5szgj6gvbttydkkdzs6j40000gn/T/ipykernel_13161/969316161.py:3: FutureWarning: Could not cast to int64, falling back to object. This behavior is deprecated. In a future version, when a dtype is passed to 'DataFrame', either all columns will be cast to that dtype, or a TypeError will be raised.\n",
      "  df_rm = pd.DataFrame(rm, columns =['Course Name', 'Description', 'Unit'], dtype = int)\n"
     ]
    }
   ],
   "source": [
    "import pandas as pd \n",
    "\n",
    "df_rm = pd.DataFrame(rm, columns =['Course Name', 'Description', 'Unit'], dtype = int)\n",
    "print(df_rm)"
   ]
  },
  {
   "cell_type": "markdown",
   "id": "e73c5a27",
   "metadata": {
    "pycharm": {
     "name": "#%% md\n"
    }
   },
   "source": [
    "# Engagement "
   ]
  },
  {
   "cell_type": "code",
   "execution_count": 615,
   "id": "9bc9774d",
   "metadata": {
    "pycharm": {
     "name": "#%%\n"
    }
   },
   "outputs": [],
   "source": [
    "engangement = []"
   ]
  },
  {
   "cell_type": "code",
   "execution_count": 616,
   "id": "ed66137c",
   "metadata": {
    "pycharm": {
     "name": "#%%\n"
    }
   },
   "outputs": [
    {
     "name": "stdout",
     "output_type": "stream",
     "text": [
      "ESOC480 - Digital Engagement\n",
      "This course is designed to be a culminating experience for the eSociety degree program, a course that engages students in practical activity as well as prepares learners for contemporary work. eSociety major and minor students as well as other undergraduates preparing for work relating to digital information or related fields can enroll in and will benefit from this course. Students will be given opportunities to discuss, review and reflect on their learning in their undergraduate work relative to an eSociety and will be provided the mechanisms through which their coursework can be applied to `real-world' contexts (e.g., internships, interviews with leaders in their area of study, professional shadowing experiences, service learning projects, or community-based event planning). Ultimately, this course provides students the opportunity to learn about what it means to be prepared in an eSociety as well as reflect on their own skill sets and the professional preparation needed for career satisfaction and success.\n",
      "3\n"
     ]
    }
   ],
   "source": [
    "courses =  \"https://catalog.arizona.edu/courses?page=1&cq=\"+\"ESOC480\" \n",
    "driver.get(courses)\n",
    "    \n",
    "    \n",
    "#Pressing the course button\n",
    "course_btn_path = '//*[@id=\"courses-list\"]/div/div[2]/div/button'\n",
    "course_btn = driver.find_element(By.XPATH, course_btn_path)\n",
    "course_btn.click()\n",
    "\n",
    "#Getting the course name, printing it (to make sure it works), appending to the respective list  \n",
    "course_name= driver.find_elements(By.XPATH,'//*[@id=\"main-content\"]/main/aside[2]/div/div/div/div[3]/h1')\n",
    "#The for loop will print the name of the course name.\n",
    "for name in course_name:\n",
    "    print(name.text)\n",
    "    \n",
    "#Getting the course description, printing it (to make sure it works), appending to the respective list  \n",
    "course_desc= driver.find_elements(By.XPATH,'//*[@id=\"main-content\"]/main/aside[2]/div/div/div/div[3]/div[3]/div/div[1]/div/div/div')\n",
    "#The for loop will print the name of the course name.\n",
    "for desc in course_desc:\n",
    "    print(desc.text)\n",
    "\n",
    "#Getting the course unit, printing it (to make sure it works), appending to the respective list  \n",
    "course_unit= driver.find_elements(By.XPATH,'//*[@id=\"main-content\"]/main/aside[2]/div/div/div/div[3]/div[3]/div/div[2]/div/div/div[1]/div/div[1]/div[1]/div')\n",
    "#The for loop will print the name of the course name.\n",
    "for unit in course_unit:\n",
    "    print(unit.text)\n",
    "\n",
    "engangement.append([name.text,desc.text,unit.text])"
   ]
  },
  {
   "cell_type": "code",
   "execution_count": 617,
   "id": "66040902",
   "metadata": {
    "pycharm": {
     "name": "#%%\n"
    }
   },
   "outputs": [
    {
     "name": "stdout",
     "output_type": "stream",
     "text": [
      "ISTA498H - Honors Thesis\n",
      "An honors thesis is required of all the students graduating with honors. Students ordinarily sign up for this course as a two-semester sequence. The first semester the student performs research under the supervision of a faculty member; the second semester the student writes an honors thesis.\n",
      "3\n"
     ]
    }
   ],
   "source": [
    "courses =  \"https://catalog.arizona.edu/courses?page=1&cq=\"+\"ISTA498\" \n",
    "driver.get(courses)\n",
    "\n",
    "#Pressing the course button\n",
    "course_btn_path = '//*[@id=\"courses-list\"]/div/div[2]/div/button'\n",
    "course_btn = driver.find_element(By.XPATH, course_btn_path)\n",
    "course_btn.click()\n",
    "\n",
    "#Getting the course name, printing it (to make sure it works), appending to the respective list  \n",
    "course_name= driver.find_elements(By.XPATH,'//*[@id=\"main-content\"]/main/aside[2]/div/div/div/div[3]/h1')\n",
    "#The for loop will print the name of the course name.\n",
    "for name in course_name:\n",
    "    print(name.text)\n",
    "    \n",
    "#Getting the course description, printing it (to make sure it works), appending to the respective list  \n",
    "course_desc= driver.find_elements(By.XPATH,'//*[@id=\"main-content\"]/main/aside[2]/div/div/div/div[3]/div[3]/div/div[1]/div/div/div')\n",
    "#The for loop will print the name of the course name.\n",
    "for desc in course_desc:\n",
    "    print(desc.text)\n",
    "\n",
    "#Getting the course unit, printing it (to make sure it works), appending to the respective list  \n",
    "course_unit= driver.find_elements(By.XPATH,'//*[@id=\"main-content\"]/main/aside[2]/div/div/div/div[3]/div[3]/div/div[2]/div/div/div[1]/div/div[1]/div[1]/div')\n",
    "#The for loop will print the name of the course name.\n",
    "for unit in course_unit:\n",
    "    print(unit.text)\n",
    "\n",
    "engangement.append([name.text,desc.text,unit.text])"
   ]
  },
  {
   "cell_type": "code",
   "execution_count": 618,
   "id": "351e4ac3",
   "metadata": {
    "pycharm": {
     "name": "#%%\n"
    }
   },
   "outputs": [
    {
     "name": "stdout",
     "output_type": "stream",
     "text": [
      "                    Course Name  \\\n",
      "0  ESOC480 - Digital Engagement   \n",
      "1      ISTA498H - Honors Thesis   \n",
      "\n",
      "                                         Description Unit  \n",
      "0  This course is designed to be a culminating ex...    3  \n",
      "1  An honors thesis is required of all the studen...    3  \n"
     ]
    },
    {
     "name": "stderr",
     "output_type": "stream",
     "text": [
      "/var/folders/fy/kdg5szgj6gvbttydkkdzs6j40000gn/T/ipykernel_13161/2270955551.py:3: FutureWarning: Could not cast to int64, falling back to object. This behavior is deprecated. In a future version, when a dtype is passed to 'DataFrame', either all columns will be cast to that dtype, or a TypeError will be raised.\n",
      "  df_engangement = pd.DataFrame(engangement, columns =['Course Name', 'Description', 'Unit'], dtype = int)\n"
     ]
    }
   ],
   "source": [
    "import pandas as pd \n",
    "\n",
    "df_engangement = pd.DataFrame(engangement, columns =['Course Name', 'Description', 'Unit'], dtype = int)\n",
    "print(df_engangement)"
   ]
  },
  {
   "cell_type": "code",
   "execution_count": null,
   "id": "e35fd000",
   "metadata": {
    "pycharm": {
     "name": "#%%\n"
    }
   },
   "outputs": [],
   "source": []
  }
 ],
 "metadata": {
  "kernelspec": {
   "display_name": "base",
   "language": "python",
   "name": "python3"
  },
  "language_info": {
   "codemirror_mode": {
    "name": "ipython",
    "version": 3
   },
   "file_extension": ".py",
   "mimetype": "text/x-python",
   "name": "python",
   "nbconvert_exporter": "python",
   "pygments_lexer": "ipython3",
   "version": "3.9.12 (main, Apr  5 2022, 01:53:17) \n[Clang 12.0.0 ]"
  },
  "vscode": {
   "interpreter": {
    "hash": "8104b6e9fc9523c5583f4768599b374fccc221c360d9deca62a0979e40a2e39e"
   }
  }
 },
 "nbformat": 4,
 "nbformat_minor": 5
}
